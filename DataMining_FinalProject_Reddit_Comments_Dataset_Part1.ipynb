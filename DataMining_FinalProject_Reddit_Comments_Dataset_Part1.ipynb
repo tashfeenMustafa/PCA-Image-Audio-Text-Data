{
  "nbformat": 4,
  "nbformat_minor": 0,
  "metadata": {
    "colab": {
      "name": "1821069-DataMining-FinalProject-Reddit_Comments_Dataset_Part1.ipynb",
      "provenance": [],
      "collapsed_sections": [],
      "toc_visible": true,
      "authorship_tag": "ABX9TyN1Q4Izc6ekPL9P7Lbz6p3k",
      "include_colab_link": true
    },
    "kernelspec": {
      "name": "python3",
      "display_name": "Python 3"
    },
    "language_info": {
      "name": "python"
    }
  },
  "cells": [
    {
      "cell_type": "markdown",
      "metadata": {
        "id": "view-in-github",
        "colab_type": "text"
      },
      "source": [
        "<a href=\"https://colab.research.google.com/github/tashfeenMustafa/PCA-Image-Audio-Text-Data/blob/main/DataMining_FinalProject_Reddit_Comments_Dataset_Part1.ipynb\" target=\"_parent\"><img src=\"https://colab.research.google.com/assets/colab-badge.svg\" alt=\"Open In Colab\"/></a>"
      ]
    },
    {
      "cell_type": "markdown",
      "source": [
        "# Getting the Reddit Comments Text Data and extracting relevant information\n",
        "\n",
        "Dataset URL: https://www.kaggle.com/kaggle/reddit-comments-may-2015"
      ],
      "metadata": {
        "id": "Jb2X7clq417q"
      }
    },
    {
      "cell_type": "code",
      "execution_count": null,
      "metadata": {
        "colab": {
          "base_uri": "https://localhost:8080/"
        },
        "id": "J-dosyuewlHN",
        "outputId": "773d65d3-62f2-4def-91a2-b916d9bb714c"
      },
      "outputs": [
        {
          "output_type": "stream",
          "name": "stdout",
          "text": [
            "Collecting langdetect\n",
            "  Downloading langdetect-1.0.9.tar.gz (981 kB)\n",
            "\u001b[?25l\r\u001b[K     |▍                               | 10 kB 26.9 MB/s eta 0:00:01\r\u001b[K     |▊                               | 20 kB 14.1 MB/s eta 0:00:01\r\u001b[K     |█                               | 30 kB 10.1 MB/s eta 0:00:01\r\u001b[K     |█▍                              | 40 kB 9.0 MB/s eta 0:00:01\r\u001b[K     |█▊                              | 51 kB 5.5 MB/s eta 0:00:01\r\u001b[K     |██                              | 61 kB 5.7 MB/s eta 0:00:01\r\u001b[K     |██▍                             | 71 kB 5.6 MB/s eta 0:00:01\r\u001b[K     |██▊                             | 81 kB 6.2 MB/s eta 0:00:01\r\u001b[K     |███                             | 92 kB 6.1 MB/s eta 0:00:01\r\u001b[K     |███▍                            | 102 kB 5.2 MB/s eta 0:00:01\r\u001b[K     |███▊                            | 112 kB 5.2 MB/s eta 0:00:01\r\u001b[K     |████                            | 122 kB 5.2 MB/s eta 0:00:01\r\u001b[K     |████▍                           | 133 kB 5.2 MB/s eta 0:00:01\r\u001b[K     |████▊                           | 143 kB 5.2 MB/s eta 0:00:01\r\u001b[K     |█████                           | 153 kB 5.2 MB/s eta 0:00:01\r\u001b[K     |█████▍                          | 163 kB 5.2 MB/s eta 0:00:01\r\u001b[K     |█████▊                          | 174 kB 5.2 MB/s eta 0:00:01\r\u001b[K     |██████                          | 184 kB 5.2 MB/s eta 0:00:01\r\u001b[K     |██████▍                         | 194 kB 5.2 MB/s eta 0:00:01\r\u001b[K     |██████▊                         | 204 kB 5.2 MB/s eta 0:00:01\r\u001b[K     |███████                         | 215 kB 5.2 MB/s eta 0:00:01\r\u001b[K     |███████▍                        | 225 kB 5.2 MB/s eta 0:00:01\r\u001b[K     |███████▊                        | 235 kB 5.2 MB/s eta 0:00:01\r\u001b[K     |████████                        | 245 kB 5.2 MB/s eta 0:00:01\r\u001b[K     |████████▍                       | 256 kB 5.2 MB/s eta 0:00:01\r\u001b[K     |████████▊                       | 266 kB 5.2 MB/s eta 0:00:01\r\u001b[K     |█████████                       | 276 kB 5.2 MB/s eta 0:00:01\r\u001b[K     |█████████▍                      | 286 kB 5.2 MB/s eta 0:00:01\r\u001b[K     |█████████▊                      | 296 kB 5.2 MB/s eta 0:00:01\r\u001b[K     |██████████                      | 307 kB 5.2 MB/s eta 0:00:01\r\u001b[K     |██████████▍                     | 317 kB 5.2 MB/s eta 0:00:01\r\u001b[K     |██████████▊                     | 327 kB 5.2 MB/s eta 0:00:01\r\u001b[K     |███████████                     | 337 kB 5.2 MB/s eta 0:00:01\r\u001b[K     |███████████▍                    | 348 kB 5.2 MB/s eta 0:00:01\r\u001b[K     |███████████▊                    | 358 kB 5.2 MB/s eta 0:00:01\r\u001b[K     |████████████                    | 368 kB 5.2 MB/s eta 0:00:01\r\u001b[K     |████████████▍                   | 378 kB 5.2 MB/s eta 0:00:01\r\u001b[K     |████████████▊                   | 389 kB 5.2 MB/s eta 0:00:01\r\u001b[K     |█████████████                   | 399 kB 5.2 MB/s eta 0:00:01\r\u001b[K     |█████████████▍                  | 409 kB 5.2 MB/s eta 0:00:01\r\u001b[K     |█████████████▊                  | 419 kB 5.2 MB/s eta 0:00:01\r\u001b[K     |██████████████                  | 430 kB 5.2 MB/s eta 0:00:01\r\u001b[K     |██████████████▍                 | 440 kB 5.2 MB/s eta 0:00:01\r\u001b[K     |██████████████▊                 | 450 kB 5.2 MB/s eta 0:00:01\r\u001b[K     |███████████████                 | 460 kB 5.2 MB/s eta 0:00:01\r\u001b[K     |███████████████▍                | 471 kB 5.2 MB/s eta 0:00:01\r\u001b[K     |███████████████▊                | 481 kB 5.2 MB/s eta 0:00:01\r\u001b[K     |████████████████                | 491 kB 5.2 MB/s eta 0:00:01\r\u001b[K     |████████████████▍               | 501 kB 5.2 MB/s eta 0:00:01\r\u001b[K     |████████████████▊               | 512 kB 5.2 MB/s eta 0:00:01\r\u001b[K     |█████████████████               | 522 kB 5.2 MB/s eta 0:00:01\r\u001b[K     |█████████████████▍              | 532 kB 5.2 MB/s eta 0:00:01\r\u001b[K     |█████████████████▊              | 542 kB 5.2 MB/s eta 0:00:01\r\u001b[K     |██████████████████              | 552 kB 5.2 MB/s eta 0:00:01\r\u001b[K     |██████████████████▍             | 563 kB 5.2 MB/s eta 0:00:01\r\u001b[K     |██████████████████▊             | 573 kB 5.2 MB/s eta 0:00:01\r\u001b[K     |███████████████████             | 583 kB 5.2 MB/s eta 0:00:01\r\u001b[K     |███████████████████▍            | 593 kB 5.2 MB/s eta 0:00:01\r\u001b[K     |███████████████████▊            | 604 kB 5.2 MB/s eta 0:00:01\r\u001b[K     |████████████████████            | 614 kB 5.2 MB/s eta 0:00:01\r\u001b[K     |████████████████████▍           | 624 kB 5.2 MB/s eta 0:00:01\r\u001b[K     |████████████████████▊           | 634 kB 5.2 MB/s eta 0:00:01\r\u001b[K     |█████████████████████           | 645 kB 5.2 MB/s eta 0:00:01\r\u001b[K     |█████████████████████▍          | 655 kB 5.2 MB/s eta 0:00:01\r\u001b[K     |█████████████████████▊          | 665 kB 5.2 MB/s eta 0:00:01\r\u001b[K     |██████████████████████          | 675 kB 5.2 MB/s eta 0:00:01\r\u001b[K     |██████████████████████▍         | 686 kB 5.2 MB/s eta 0:00:01\r\u001b[K     |██████████████████████▊         | 696 kB 5.2 MB/s eta 0:00:01\r\u001b[K     |███████████████████████         | 706 kB 5.2 MB/s eta 0:00:01\r\u001b[K     |███████████████████████▍        | 716 kB 5.2 MB/s eta 0:00:01\r\u001b[K     |███████████████████████▊        | 727 kB 5.2 MB/s eta 0:00:01\r\u001b[K     |████████████████████████        | 737 kB 5.2 MB/s eta 0:00:01\r\u001b[K     |████████████████████████▍       | 747 kB 5.2 MB/s eta 0:00:01\r\u001b[K     |████████████████████████▊       | 757 kB 5.2 MB/s eta 0:00:01\r\u001b[K     |█████████████████████████       | 768 kB 5.2 MB/s eta 0:00:01\r\u001b[K     |█████████████████████████▍      | 778 kB 5.2 MB/s eta 0:00:01\r\u001b[K     |█████████████████████████▊      | 788 kB 5.2 MB/s eta 0:00:01\r\u001b[K     |██████████████████████████      | 798 kB 5.2 MB/s eta 0:00:01\r\u001b[K     |██████████████████████████▍     | 808 kB 5.2 MB/s eta 0:00:01\r\u001b[K     |██████████████████████████▊     | 819 kB 5.2 MB/s eta 0:00:01\r\u001b[K     |███████████████████████████     | 829 kB 5.2 MB/s eta 0:00:01\r\u001b[K     |███████████████████████████▍    | 839 kB 5.2 MB/s eta 0:00:01\r\u001b[K     |███████████████████████████▊    | 849 kB 5.2 MB/s eta 0:00:01\r\u001b[K     |████████████████████████████    | 860 kB 5.2 MB/s eta 0:00:01\r\u001b[K     |████████████████████████████▍   | 870 kB 5.2 MB/s eta 0:00:01\r\u001b[K     |████████████████████████████▊   | 880 kB 5.2 MB/s eta 0:00:01\r\u001b[K     |█████████████████████████████   | 890 kB 5.2 MB/s eta 0:00:01\r\u001b[K     |█████████████████████████████▍  | 901 kB 5.2 MB/s eta 0:00:01\r\u001b[K     |█████████████████████████████▊  | 911 kB 5.2 MB/s eta 0:00:01\r\u001b[K     |██████████████████████████████  | 921 kB 5.2 MB/s eta 0:00:01\r\u001b[K     |██████████████████████████████▍ | 931 kB 5.2 MB/s eta 0:00:01\r\u001b[K     |██████████████████████████████▊ | 942 kB 5.2 MB/s eta 0:00:01\r\u001b[K     |███████████████████████████████ | 952 kB 5.2 MB/s eta 0:00:01\r\u001b[K     |███████████████████████████████▍| 962 kB 5.2 MB/s eta 0:00:01\r\u001b[K     |███████████████████████████████▊| 972 kB 5.2 MB/s eta 0:00:01\r\u001b[K     |████████████████████████████████| 981 kB 5.2 MB/s \n",
            "\u001b[?25hRequirement already satisfied: six in /usr/local/lib/python3.7/dist-packages (from langdetect) (1.15.0)\n",
            "Building wheels for collected packages: langdetect\n",
            "  Building wheel for langdetect (setup.py) ... \u001b[?25l\u001b[?25hdone\n",
            "  Created wheel for langdetect: filename=langdetect-1.0.9-py3-none-any.whl size=993242 sha256=b68400a5a390c066f2f9eeb22feb5564bb40dd10e3545aeefc634000780dd90d\n",
            "  Stored in directory: /root/.cache/pip/wheels/c5/96/8a/f90c59ed25d75e50a8c10a1b1c2d4c402e4dacfa87f3aff36a\n",
            "Successfully built langdetect\n",
            "Installing collected packages: langdetect\n",
            "Successfully installed langdetect-1.0.9\n"
          ]
        }
      ],
      "source": [
        "!pip install langdetect"
      ]
    },
    {
      "cell_type": "markdown",
      "source": [
        "## Mount Google Drive"
      ],
      "metadata": {
        "id": "0KyWQ65Q5NKF"
      }
    },
    {
      "cell_type": "code",
      "source": [
        "from google.colab import drive\n",
        "drive.mount('/content/drive')"
      ],
      "metadata": {
        "colab": {
          "base_uri": "https://localhost:8080/"
        },
        "id": "fqxe1n6P5N9f",
        "outputId": "31b54482-df50-414e-c806-afe42fd1070f"
      },
      "execution_count": null,
      "outputs": [
        {
          "output_type": "stream",
          "name": "stdout",
          "text": [
            "Mounted at /content/drive\n"
          ]
        }
      ]
    },
    {
      "cell_type": "markdown",
      "source": [
        "## Getting dataset"
      ],
      "metadata": {
        "id": "QJ8ddGaa5VAq"
      }
    },
    {
      "cell_type": "code",
      "source": [
        "import os\n",
        "import sqlite3\n",
        "import pandas as pd\n",
        "from langdetect import detect\n",
        "from google.colab import drive\n",
        "\n",
        "query = 'Select rowid, parent_id, subreddit, body, author, score from May2015 LIMIT 39999;'\n",
        "path = '/content/drive/MyDrive/reddit_comments_dataset/'\n",
        "\n",
        "# go to path\n",
        "os.chdir(path)\n",
        "\n",
        "# Read sqlite query results into a pandas DataFrame\n",
        "cursor = sqlite3.connect(path + 'database.sqlite')\n",
        "dataframe = pd.read_sql_query(query, cursor)\n",
        "cursor.close()\n",
        "\n",
        "# Verify that result of SQL query is stored in the dataframe\n",
        "reddit_dataset = dataframe.values.tolist()\n",
        "\n",
        "# Extracting relevant data from dataset\n",
        "comments = []\n",
        "parents = []\n",
        "subreddits = []\n",
        "\n",
        "for index, data in enumerate(reddit_dataset[:9000]):\n",
        "  parent_id = data[1]\n",
        "  subreddit = data[2]\n",
        "  body = data[3]\n",
        "  language = None\n",
        "\n",
        "  try:\n",
        "    language = detect(body)\n",
        "  except:\n",
        "    language = 'error'\n",
        "\n",
        "  if language == 'en':\n",
        "    comments.append(body)\n",
        "    parents.append(parent_id)\n",
        "    subreddits.append(subreddit)\n",
        "\n",
        "print(len(comments))"
      ],
      "metadata": {
        "id": "ef7N78xt5LV3",
        "colab": {
          "base_uri": "https://localhost:8080/"
        },
        "outputId": "cae8e963-709b-4022-9e01-bdad38a4eb98"
      },
      "execution_count": null,
      "outputs": [
        {
          "output_type": "stream",
          "name": "stdout",
          "text": [
            "7401\n"
          ]
        }
      ]
    },
    {
      "cell_type": "markdown",
      "source": [
        "## Import NLTK"
      ],
      "metadata": {
        "id": "7bzefmk96aVf"
      }
    },
    {
      "cell_type": "code",
      "source": [
        "import nltk\n",
        "nltk.download('all')"
      ],
      "metadata": {
        "id": "k-jl07IX6bjG",
        "colab": {
          "base_uri": "https://localhost:8080/"
        },
        "outputId": "b967c6cb-348a-4518-fef2-aeedad817109"
      },
      "execution_count": null,
      "outputs": [
        {
          "output_type": "stream",
          "name": "stdout",
          "text": [
            "[nltk_data] Downloading collection 'all'\n",
            "[nltk_data]    | \n",
            "[nltk_data]    | Downloading package abc to /root/nltk_data...\n",
            "[nltk_data]    |   Unzipping corpora/abc.zip.\n",
            "[nltk_data]    | Downloading package alpino to /root/nltk_data...\n",
            "[nltk_data]    |   Unzipping corpora/alpino.zip.\n",
            "[nltk_data]    | Downloading package biocreative_ppi to\n",
            "[nltk_data]    |     /root/nltk_data...\n",
            "[nltk_data]    |   Unzipping corpora/biocreative_ppi.zip.\n",
            "[nltk_data]    | Downloading package brown to /root/nltk_data...\n",
            "[nltk_data]    |   Unzipping corpora/brown.zip.\n",
            "[nltk_data]    | Downloading package brown_tei to /root/nltk_data...\n",
            "[nltk_data]    |   Unzipping corpora/brown_tei.zip.\n",
            "[nltk_data]    | Downloading package cess_cat to /root/nltk_data...\n",
            "[nltk_data]    |   Unzipping corpora/cess_cat.zip.\n",
            "[nltk_data]    | Downloading package cess_esp to /root/nltk_data...\n",
            "[nltk_data]    |   Unzipping corpora/cess_esp.zip.\n",
            "[nltk_data]    | Downloading package chat80 to /root/nltk_data...\n",
            "[nltk_data]    |   Unzipping corpora/chat80.zip.\n",
            "[nltk_data]    | Downloading package city_database to\n",
            "[nltk_data]    |     /root/nltk_data...\n",
            "[nltk_data]    |   Unzipping corpora/city_database.zip.\n",
            "[nltk_data]    | Downloading package cmudict to /root/nltk_data...\n",
            "[nltk_data]    |   Unzipping corpora/cmudict.zip.\n",
            "[nltk_data]    | Downloading package comparative_sentences to\n",
            "[nltk_data]    |     /root/nltk_data...\n",
            "[nltk_data]    |   Unzipping corpora/comparative_sentences.zip.\n",
            "[nltk_data]    | Downloading package comtrans to /root/nltk_data...\n",
            "[nltk_data]    | Downloading package conll2000 to /root/nltk_data...\n",
            "[nltk_data]    |   Unzipping corpora/conll2000.zip.\n",
            "[nltk_data]    | Downloading package conll2002 to /root/nltk_data...\n",
            "[nltk_data]    |   Unzipping corpora/conll2002.zip.\n",
            "[nltk_data]    | Downloading package conll2007 to /root/nltk_data...\n",
            "[nltk_data]    | Downloading package crubadan to /root/nltk_data...\n",
            "[nltk_data]    |   Unzipping corpora/crubadan.zip.\n",
            "[nltk_data]    | Downloading package dependency_treebank to\n",
            "[nltk_data]    |     /root/nltk_data...\n",
            "[nltk_data]    |   Unzipping corpora/dependency_treebank.zip.\n",
            "[nltk_data]    | Downloading package dolch to /root/nltk_data...\n",
            "[nltk_data]    |   Unzipping corpora/dolch.zip.\n",
            "[nltk_data]    | Downloading package europarl_raw to\n",
            "[nltk_data]    |     /root/nltk_data...\n",
            "[nltk_data]    |   Unzipping corpora/europarl_raw.zip.\n",
            "[nltk_data]    | Downloading package floresta to /root/nltk_data...\n",
            "[nltk_data]    |   Unzipping corpora/floresta.zip.\n",
            "[nltk_data]    | Downloading package framenet_v15 to\n",
            "[nltk_data]    |     /root/nltk_data...\n",
            "[nltk_data]    |   Unzipping corpora/framenet_v15.zip.\n",
            "[nltk_data]    | Downloading package framenet_v17 to\n",
            "[nltk_data]    |     /root/nltk_data...\n",
            "[nltk_data]    |   Unzipping corpora/framenet_v17.zip.\n",
            "[nltk_data]    | Downloading package gazetteers to /root/nltk_data...\n",
            "[nltk_data]    |   Unzipping corpora/gazetteers.zip.\n",
            "[nltk_data]    | Downloading package genesis to /root/nltk_data...\n",
            "[nltk_data]    |   Unzipping corpora/genesis.zip.\n",
            "[nltk_data]    | Downloading package gutenberg to /root/nltk_data...\n",
            "[nltk_data]    |   Unzipping corpora/gutenberg.zip.\n",
            "[nltk_data]    | Downloading package ieer to /root/nltk_data...\n",
            "[nltk_data]    |   Unzipping corpora/ieer.zip.\n",
            "[nltk_data]    | Downloading package inaugural to /root/nltk_data...\n",
            "[nltk_data]    |   Unzipping corpora/inaugural.zip.\n",
            "[nltk_data]    | Downloading package indian to /root/nltk_data...\n",
            "[nltk_data]    |   Unzipping corpora/indian.zip.\n",
            "[nltk_data]    | Downloading package jeita to /root/nltk_data...\n",
            "[nltk_data]    | Downloading package kimmo to /root/nltk_data...\n",
            "[nltk_data]    |   Unzipping corpora/kimmo.zip.\n",
            "[nltk_data]    | Downloading package knbc to /root/nltk_data...\n",
            "[nltk_data]    | Downloading package lin_thesaurus to\n",
            "[nltk_data]    |     /root/nltk_data...\n",
            "[nltk_data]    |   Unzipping corpora/lin_thesaurus.zip.\n",
            "[nltk_data]    | Downloading package mac_morpho to /root/nltk_data...\n",
            "[nltk_data]    |   Unzipping corpora/mac_morpho.zip.\n",
            "[nltk_data]    | Downloading package machado to /root/nltk_data...\n",
            "[nltk_data]    | Downloading package masc_tagged to /root/nltk_data...\n",
            "[nltk_data]    | Downloading package moses_sample to\n",
            "[nltk_data]    |     /root/nltk_data...\n",
            "[nltk_data]    |   Unzipping models/moses_sample.zip.\n",
            "[nltk_data]    | Downloading package movie_reviews to\n",
            "[nltk_data]    |     /root/nltk_data...\n",
            "[nltk_data]    |   Unzipping corpora/movie_reviews.zip.\n",
            "[nltk_data]    | Downloading package names to /root/nltk_data...\n",
            "[nltk_data]    |   Unzipping corpora/names.zip.\n",
            "[nltk_data]    | Downloading package nombank.1.0 to /root/nltk_data...\n",
            "[nltk_data]    | Downloading package nps_chat to /root/nltk_data...\n",
            "[nltk_data]    |   Unzipping corpora/nps_chat.zip.\n",
            "[nltk_data]    | Downloading package omw-1.4 to /root/nltk_data...\n",
            "[nltk_data]    |   Unzipping corpora/omw-1.4.zip.\n",
            "[nltk_data]    | Downloading package omw to /root/nltk_data...\n",
            "[nltk_data]    |   Unzipping corpora/omw.zip.\n",
            "[nltk_data]    | Downloading package opinion_lexicon to\n",
            "[nltk_data]    |     /root/nltk_data...\n",
            "[nltk_data]    |   Unzipping corpora/opinion_lexicon.zip.\n",
            "[nltk_data]    | Downloading package paradigms to /root/nltk_data...\n",
            "[nltk_data]    |   Unzipping corpora/paradigms.zip.\n",
            "[nltk_data]    | Downloading package pil to /root/nltk_data...\n",
            "[nltk_data]    |   Unzipping corpora/pil.zip.\n",
            "[nltk_data]    | Downloading package pl196x to /root/nltk_data...\n",
            "[nltk_data]    |   Unzipping corpora/pl196x.zip.\n",
            "[nltk_data]    | Downloading package ppattach to /root/nltk_data...\n",
            "[nltk_data]    |   Unzipping corpora/ppattach.zip.\n",
            "[nltk_data]    | Downloading package problem_reports to\n",
            "[nltk_data]    |     /root/nltk_data...\n",
            "[nltk_data]    |   Unzipping corpora/problem_reports.zip.\n",
            "[nltk_data]    | Downloading package propbank to /root/nltk_data...\n",
            "[nltk_data]    | Downloading package ptb to /root/nltk_data...\n",
            "[nltk_data]    |   Unzipping corpora/ptb.zip.\n",
            "[nltk_data]    | Downloading package product_reviews_1 to\n",
            "[nltk_data]    |     /root/nltk_data...\n",
            "[nltk_data]    |   Unzipping corpora/product_reviews_1.zip.\n",
            "[nltk_data]    | Downloading package product_reviews_2 to\n",
            "[nltk_data]    |     /root/nltk_data...\n",
            "[nltk_data]    |   Unzipping corpora/product_reviews_2.zip.\n",
            "[nltk_data]    | Downloading package pros_cons to /root/nltk_data...\n",
            "[nltk_data]    |   Unzipping corpora/pros_cons.zip.\n",
            "[nltk_data]    | Downloading package qc to /root/nltk_data...\n",
            "[nltk_data]    |   Unzipping corpora/qc.zip.\n",
            "[nltk_data]    | Downloading package reuters to /root/nltk_data...\n",
            "[nltk_data]    | Downloading package rte to /root/nltk_data...\n",
            "[nltk_data]    |   Unzipping corpora/rte.zip.\n",
            "[nltk_data]    | Downloading package semcor to /root/nltk_data...\n",
            "[nltk_data]    | Downloading package senseval to /root/nltk_data...\n",
            "[nltk_data]    |   Unzipping corpora/senseval.zip.\n",
            "[nltk_data]    | Downloading package sentiwordnet to\n",
            "[nltk_data]    |     /root/nltk_data...\n",
            "[nltk_data]    |   Unzipping corpora/sentiwordnet.zip.\n",
            "[nltk_data]    | Downloading package sentence_polarity to\n",
            "[nltk_data]    |     /root/nltk_data...\n",
            "[nltk_data]    |   Unzipping corpora/sentence_polarity.zip.\n",
            "[nltk_data]    | Downloading package shakespeare to /root/nltk_data...\n",
            "[nltk_data]    |   Unzipping corpora/shakespeare.zip.\n",
            "[nltk_data]    | Downloading package sinica_treebank to\n",
            "[nltk_data]    |     /root/nltk_data...\n",
            "[nltk_data]    |   Unzipping corpora/sinica_treebank.zip.\n",
            "[nltk_data]    | Downloading package smultron to /root/nltk_data...\n",
            "[nltk_data]    |   Unzipping corpora/smultron.zip.\n",
            "[nltk_data]    | Downloading package state_union to /root/nltk_data...\n",
            "[nltk_data]    |   Unzipping corpora/state_union.zip.\n",
            "[nltk_data]    | Downloading package stopwords to /root/nltk_data...\n",
            "[nltk_data]    |   Unzipping corpora/stopwords.zip.\n",
            "[nltk_data]    | Downloading package subjectivity to\n",
            "[nltk_data]    |     /root/nltk_data...\n",
            "[nltk_data]    |   Unzipping corpora/subjectivity.zip.\n",
            "[nltk_data]    | Downloading package swadesh to /root/nltk_data...\n",
            "[nltk_data]    |   Unzipping corpora/swadesh.zip.\n",
            "[nltk_data]    | Downloading package switchboard to /root/nltk_data...\n",
            "[nltk_data]    |   Unzipping corpora/switchboard.zip.\n",
            "[nltk_data]    | Downloading package timit to /root/nltk_data...\n",
            "[nltk_data]    |   Unzipping corpora/timit.zip.\n",
            "[nltk_data]    | Downloading package toolbox to /root/nltk_data...\n",
            "[nltk_data]    |   Unzipping corpora/toolbox.zip.\n",
            "[nltk_data]    | Downloading package treebank to /root/nltk_data...\n",
            "[nltk_data]    |   Unzipping corpora/treebank.zip.\n",
            "[nltk_data]    | Downloading package twitter_samples to\n",
            "[nltk_data]    |     /root/nltk_data...\n",
            "[nltk_data]    |   Unzipping corpora/twitter_samples.zip.\n",
            "[nltk_data]    | Downloading package udhr to /root/nltk_data...\n",
            "[nltk_data]    |   Unzipping corpora/udhr.zip.\n",
            "[nltk_data]    | Downloading package udhr2 to /root/nltk_data...\n",
            "[nltk_data]    |   Unzipping corpora/udhr2.zip.\n",
            "[nltk_data]    | Downloading package unicode_samples to\n",
            "[nltk_data]    |     /root/nltk_data...\n",
            "[nltk_data]    |   Unzipping corpora/unicode_samples.zip.\n",
            "[nltk_data]    | Downloading package universal_treebanks_v20 to\n",
            "[nltk_data]    |     /root/nltk_data...\n",
            "[nltk_data]    | Downloading package verbnet to /root/nltk_data...\n",
            "[nltk_data]    |   Unzipping corpora/verbnet.zip.\n",
            "[nltk_data]    | Downloading package verbnet3 to /root/nltk_data...\n",
            "[nltk_data]    |   Unzipping corpora/verbnet3.zip.\n",
            "[nltk_data]    | Downloading package webtext to /root/nltk_data...\n",
            "[nltk_data]    |   Unzipping corpora/webtext.zip.\n",
            "[nltk_data]    | Downloading package wordnet to /root/nltk_data...\n",
            "[nltk_data]    |   Unzipping corpora/wordnet.zip.\n",
            "[nltk_data]    | Downloading package wordnet31 to /root/nltk_data...\n",
            "[nltk_data]    |   Unzipping corpora/wordnet31.zip.\n",
            "[nltk_data]    | Downloading package wordnet_ic to /root/nltk_data...\n",
            "[nltk_data]    |   Unzipping corpora/wordnet_ic.zip.\n",
            "[nltk_data]    | Downloading package words to /root/nltk_data...\n",
            "[nltk_data]    |   Unzipping corpora/words.zip.\n",
            "[nltk_data]    | Downloading package ycoe to /root/nltk_data...\n",
            "[nltk_data]    |   Unzipping corpora/ycoe.zip.\n",
            "[nltk_data]    | Downloading package rslp to /root/nltk_data...\n",
            "[nltk_data]    |   Unzipping stemmers/rslp.zip.\n",
            "[nltk_data]    | Downloading package maxent_treebank_pos_tagger to\n",
            "[nltk_data]    |     /root/nltk_data...\n",
            "[nltk_data]    |   Unzipping taggers/maxent_treebank_pos_tagger.zip.\n",
            "[nltk_data]    | Downloading package universal_tagset to\n",
            "[nltk_data]    |     /root/nltk_data...\n",
            "[nltk_data]    |   Unzipping taggers/universal_tagset.zip.\n",
            "[nltk_data]    | Downloading package maxent_ne_chunker to\n",
            "[nltk_data]    |     /root/nltk_data...\n",
            "[nltk_data]    |   Unzipping chunkers/maxent_ne_chunker.zip.\n",
            "[nltk_data]    | Downloading package punkt to /root/nltk_data...\n",
            "[nltk_data]    |   Unzipping tokenizers/punkt.zip.\n",
            "[nltk_data]    | Downloading package book_grammars to\n",
            "[nltk_data]    |     /root/nltk_data...\n",
            "[nltk_data]    |   Unzipping grammars/book_grammars.zip.\n",
            "[nltk_data]    | Downloading package sample_grammars to\n",
            "[nltk_data]    |     /root/nltk_data...\n",
            "[nltk_data]    |   Unzipping grammars/sample_grammars.zip.\n",
            "[nltk_data]    | Downloading package spanish_grammars to\n",
            "[nltk_data]    |     /root/nltk_data...\n",
            "[nltk_data]    |   Unzipping grammars/spanish_grammars.zip.\n",
            "[nltk_data]    | Downloading package basque_grammars to\n",
            "[nltk_data]    |     /root/nltk_data...\n",
            "[nltk_data]    |   Unzipping grammars/basque_grammars.zip.\n",
            "[nltk_data]    | Downloading package large_grammars to\n",
            "[nltk_data]    |     /root/nltk_data...\n",
            "[nltk_data]    |   Unzipping grammars/large_grammars.zip.\n",
            "[nltk_data]    | Downloading package tagsets to /root/nltk_data...\n",
            "[nltk_data]    |   Unzipping help/tagsets.zip.\n",
            "[nltk_data]    | Downloading package snowball_data to\n",
            "[nltk_data]    |     /root/nltk_data...\n",
            "[nltk_data]    | Downloading package bllip_wsj_no_aux to\n",
            "[nltk_data]    |     /root/nltk_data...\n",
            "[nltk_data]    |   Unzipping models/bllip_wsj_no_aux.zip.\n",
            "[nltk_data]    | Downloading package word2vec_sample to\n",
            "[nltk_data]    |     /root/nltk_data...\n",
            "[nltk_data]    |   Unzipping models/word2vec_sample.zip.\n",
            "[nltk_data]    | Downloading package panlex_swadesh to\n",
            "[nltk_data]    |     /root/nltk_data...\n",
            "[nltk_data]    | Downloading package mte_teip5 to /root/nltk_data...\n",
            "[nltk_data]    |   Unzipping corpora/mte_teip5.zip.\n",
            "[nltk_data]    | Downloading package averaged_perceptron_tagger to\n",
            "[nltk_data]    |     /root/nltk_data...\n",
            "[nltk_data]    |   Unzipping taggers/averaged_perceptron_tagger.zip.\n",
            "[nltk_data]    | Downloading package averaged_perceptron_tagger_ru to\n",
            "[nltk_data]    |     /root/nltk_data...\n",
            "[nltk_data]    |   Unzipping\n",
            "[nltk_data]    |       taggers/averaged_perceptron_tagger_ru.zip.\n",
            "[nltk_data]    | Downloading package perluniprops to\n",
            "[nltk_data]    |     /root/nltk_data...\n",
            "[nltk_data]    |   Unzipping misc/perluniprops.zip.\n",
            "[nltk_data]    | Downloading package nonbreaking_prefixes to\n",
            "[nltk_data]    |     /root/nltk_data...\n",
            "[nltk_data]    |   Unzipping corpora/nonbreaking_prefixes.zip.\n",
            "[nltk_data]    | Downloading package vader_lexicon to\n",
            "[nltk_data]    |     /root/nltk_data...\n",
            "[nltk_data]    | Downloading package porter_test to /root/nltk_data...\n",
            "[nltk_data]    |   Unzipping stemmers/porter_test.zip.\n",
            "[nltk_data]    | Downloading package wmt15_eval to /root/nltk_data...\n",
            "[nltk_data]    |   Unzipping models/wmt15_eval.zip.\n",
            "[nltk_data]    | Downloading package mwa_ppdb to /root/nltk_data...\n",
            "[nltk_data]    |   Unzipping misc/mwa_ppdb.zip.\n",
            "[nltk_data]    | \n",
            "[nltk_data]  Done downloading collection all\n"
          ]
        },
        {
          "output_type": "execute_result",
          "data": {
            "text/plain": [
              "True"
            ]
          },
          "metadata": {},
          "execution_count": 5
        }
      ]
    },
    {
      "cell_type": "markdown",
      "source": [
        "## Perform Tokenization of each comment, removing Stopwords, Text Normalization and Stemming the Tokenized Comment List"
      ],
      "metadata": {
        "id": "gLeBYsbk6edO"
      }
    },
    {
      "cell_type": "code",
      "source": [
        "from nltk.stem import PorterStemmer\n",
        "from nltk.tokenize import word_tokenize\n",
        "from nltk.corpus import stopwords\n",
        "from collections import Counter\n",
        "\n",
        "subreddit_trimmed = []\n",
        "\n",
        "porter_stemmer = PorterStemmer()\n",
        "\n",
        "# get english stopwords\n",
        "stop_words = list(stopwords.words('english'))\n",
        "\n",
        "filtered_and_stemmed_comments = []\n",
        "\n",
        "for index, comment in enumerate(comments):\n",
        "  # tokenizing the comments\n",
        "  word_tokens = word_tokenize(comment)\n",
        "\n",
        "  # filter out stopwords\n",
        "  filtered_word_tokens = [w for w in word_tokens if not w in stop_words]\n",
        "  \n",
        "  # text normalization\n",
        "  # removing punctuations\n",
        "  filtered_word_tokens = [word for word in filtered_word_tokens if word.isalpha()]\n",
        "\n",
        "  # make words lowercase\n",
        "  filtered_word_tokens = [word.lower() for word in filtered_word_tokens]\n",
        "\n",
        "  # performing stemming\n",
        "  stemmed_word_tokens = []\n",
        "  for filtered_word in filtered_word_tokens:\n",
        "    stemmed_word = porter_stemmer.stem(filtered_word)\n",
        "    stemmed_word_tokens.append(stemmed_word)\n",
        "\n",
        "  # checking word count for each tokens \n",
        "  #word_count = Counter(stemmed_word_tokens)\n",
        "  #print(word_count.most_common(10))\n",
        "\n",
        "  filtered_and_stemmed_comments.append(stemmed_word_tokens)\n",
        "  subreddit_trimmed.append(subreddits[index])\n",
        "\n",
        "len(filtered_and_stemmed_comments)"
      ],
      "metadata": {
        "id": "AhunF6iU6ipe",
        "colab": {
          "base_uri": "https://localhost:8080/"
        },
        "outputId": "567c5654-86e5-4d2e-91cd-5bf8768aba65"
      },
      "execution_count": null,
      "outputs": [
        {
          "output_type": "execute_result",
          "data": {
            "text/plain": [
              "7401"
            ]
          },
          "metadata": {},
          "execution_count": 6
        }
      ]
    },
    {
      "cell_type": "code",
      "source": [
        "len(subreddit_trimmed)"
      ],
      "metadata": {
        "colab": {
          "base_uri": "https://localhost:8080/"
        },
        "id": "z0qlzj4rcbur",
        "outputId": "2361e5d4-3464-4382-f8d4-f7cc5cd75aa8"
      },
      "execution_count": null,
      "outputs": [
        {
          "output_type": "execute_result",
          "data": {
            "text/plain": [
              "7401"
            ]
          },
          "metadata": {},
          "execution_count": 7
        }
      ]
    },
    {
      "cell_type": "markdown",
      "source": [
        "## Build a term list with the tokens from each comment"
      ],
      "metadata": {
        "id": "RGPJdCp36x6Z"
      }
    },
    {
      "cell_type": "code",
      "source": [
        "term_list = []\n",
        "\n",
        "for tokens in filtered_and_stemmed_comments:\n",
        "  for word in tokens:\n",
        "    if word not in term_list:\n",
        "      term_list.append(word)\n",
        "\n",
        "print(term_list)"
      ],
      "metadata": {
        "id": "7GaDn-Bx604Q",
        "colab": {
          "base_uri": "https://localhost:8080/"
        },
        "outputId": "033ca2d0-f2ab-47ee-e6a0-e72c90b60e5e"
      },
      "execution_count": null,
      "outputs": [
        {
          "output_type": "stream",
          "name": "stdout",
          "text": [
            "['gg', 'one', 'watch', 'nfl', 'draft', 'i', 'guess', 'are', 'realli', 'impli', 'return', 'time', 'anywher', 'near', 'polit', 'environ', 'if', 'wo', 'much', 'luck', 'sell', 'american', 'peopl', 'govern', 'concept', 'without', 'usher', 'revolut', 'no', 'european', 'accent', 'either', 'exist', 'there', 'europ', 'that', 'kid', 'kevin', 'sad', 'haha', 'get', 'nauseou', 'ingam', 'experi', 'would', 'given', 'whole', 'new', 'level', 'bloodborn', 'after', 'read', 'wholeheartedli', 'believ', 'let', 'go', 'you', 'simpli', 'compat', 'she', 'look', 'committ', 'bent', 'avoid', 'figur', 'issu', 'commit', 'relationship', 'see', 'guy', 'side', 'buy', 'mysteri', 'sampler', 'small', 'batch', 'request', 'nihilum', 'lg', 'significantli', 'better', 'theori', 'ca', 'think', 'replac', 'ptr', 'leav', 'clg', 'place', 'never', 'know', 'fuck', 'do', 'diss', 'grim', 'puncher', 'your', 'bar', 'seem', 'focu', 'introduc', 'rather', 'life', 'worth', 'live', 'understand', 'line', 'made', 'sens', 'theme', 'fear', 'remain', 'aimless', 'trade', 'paper', 'lane', 'could', 'use', 'tell', 'audienc', 'yet', 'but', 'like', 'fight', 'show', 'hand', 'throw', 'yo', 'ass', 'young', 'motherfuck', 'sylvest', 'stallon', 'trinu', 'vr', 'amaz', 'cool', 'abl', 'sit', 'play', 'turn', 'pc', 'wast', 'make', 'fulli', 'function', 'game', 'gc', 'it', 'fault', 'hey', 'help', 'well', 'at', 'least', 'talk', 'shot', 'dog', 'year', 'home', 'parti', 'shoot', 'load', 'outsid', 'accident', 'right', 'me', 'tequila', 'though', 'sleep', 'wake', 'okay', 'call', 'vet', 'save', 'or', 'pain', 'so', 'woke', 'saw', 'dead', 'cri', 'hour', 'old', 'still', 'good', 'littl', 'tini', 'mous', 'man', 'discharg', 'firearm', 'shitzu', 'feel', 'bad', 'player', 'hit', 'remov', 'tempt', 'excus', 'bathroom', 'everi', 'piss', 'boss', 'disgust', 'detail', 'neg', 'reinforc', 'purpos', 'hold', 'sir', 'want', 'hear', 'mucu', 'plug', 'run', 'end', 'mushi', 'green', 'diarrhea', 'pant', 'be', 'back', 'answer', 'acquitt', 'decis', 'recommend', 'account', 'citibank', 'plu', 'transact', 'fee', 'currenc', 'convers', 'transfer', 'charg', 'intern', 'atm', 'withdraw', 'been', 'recent', 'oversea', 'trip', 'pretti', 'handi', 'ordinari', 'collector', 'everyon', 'els', 'frankli', 'giveaway', 'awesom', 'give', 'chanc', 'two', 'final', 'win', 'someon', 'also', 'wft', 'ike', 'pott', 'harri', 'power', 'filter', 'motherboard', 'reach', 'core', 'compon', 'henc', 'crash', 'shitti', 'suppli', 'caus', 'cap', 'psu', 'grammar', 'punctuat', 'internet', 'dose', 'mean', 'smart', 'douch', 'got', 'stevenbomb', 'same', 'hammock', 'fabric', 'train', 'dodger', 'video', 'dexbonu', 'channel', 'sam', 'yeah', 'basic', 'visa', 'expir', 'they', 'long', 'distanc', 'probabl', 'worri', 'haul', 'ash', 'kill', 'tank', 'switch', 'build', 'ie', 'gt', 'must', 'first', 'item', 'whatev', 'u', 'need', 'lw', 'last', 'obv', 'mani', 'thing', 'chang', 'hope', 'test', 'cuz', 'im', 'super', 'hype', 'd', 'oh', 'find', 'annoy', 'obtus', 'friend', 'extend', 'wheeli', 'tendenc', 'starv', 'cylind', 'oil', 'someth', 'speak', 'alway', 'warn', 'forum', 'mine', 'idea', 'the', 'fire', 'escap', 'wood', 'splinter', 'raptor', 'manag', 'break', 'hole', 'top', 'door', 'dresser', 'head', 'poke', 'disappear', 'anoth', 'thud', 'move', 'forward', 'inch', 'mid', 'twenti', 'male', 'rock', 'skinni', 'style', 'hair', 'cut', 'gener', 'strong', 'effort', 'set', 'gaydar', 'nearli', 'kicker', 'brother', 'actual', 'gay', 'rug', 'macho', 'how', 'import', 'heroin', 'god', 'pump', 'vein', 'addict', 'australian', 'bound', 'statist', 'drug', 'relat', 'overdos', 'death', 'is', 'draw', 'bow', 'crime', 'treat', 'similar', 'way', 'murder', 'penalti', 'perspect', 'definit', 'told', 'beginn', 'happi', 'ft', 'boat', 'love', 'weight', 'respons', 'and', 'lot', 'splash', 'thank', 'contribut', 'ill', 'wait', 'wise', 'care', 'clan', 'photoshop', 'in', 'word', 'forev', 'free', 'he', 'claim', 'posit', 'creat', 'discuss', 'huge', 'especi', 'vehicl', 'for', 'starter', 'interior', 'heat', 'leather', 'automat', 'electron', 'touch', 'screen', 'activ', 'everyth', 'crazi', 'overhaul', 'money', 'burn', 'hypothet', 'dream', 'fanciest', 'then', 'fact', 'rubicon', 'trim', 'come', 'bunch', 'requir', 'road', 'kit', 'locker', 'heavi', 'duti', 'axl', 'disconnect', 'sway', 'name', 'featur', 'self', 'respect', 'modern', 'roader', 'sahara', 'equip', 'sport', 'spend', 'grand', 'swap', 'gear', 'skid', 'plate', 'lock', 'differenti', 'etc', 'void', 'warranti', 'stock', 'factori', 'cheaper', 'plan', 'seriou', 'becaus', 'action', 'forebear', 'we', 'race', 'karma', 'common', 'tri', 'advantag', 'affirm', 'divers', 'quota', 'scholarship', 'white', 'even', 'poor', 'poorer', 'black', 'commun', 'lash', 'problem', 'solut', 'what', 'us', 'to', 'abolish', 'polic', 'law', 'punish', 'releas', 'crimin', 'forc', 'neighborhood', 'start', 'measur', 'consequ', 'increas', 'lie', 'misguid', 'individu', 'prejudic', 'insid', 'day', 'collect', 'harder', 'former', 'possibl', 'latter', 'digress', 'second', 'fix', 'violent', 'riot', 'racist', 'forcibl', 'orwellian', 'thought', 'system', 'immor', 'deepest', 'mind', 'complet', 'sure', 'nobodi', 'take', 'improv', 'stop', 'glorifi', 'thuggish', 'notic', 'shift', 'subconsci', 'bake', 'conscious', 'person', 'enough', 'earn', 'hate', 'reason', 'toward', 'say', 'surpris', 'seen', 'bjork', 'song', 'walk', 'on', 'sunshin', 'katrina', 'wave', 'glad', 'done', 'mock', 'season', 'tactic', 'target', 'dumbass', 'mad', 'ai', 'anger', 'express', 'happen', 'damn', 'sjw', 'subset', 'entitl', 'asshol', 'schalk', 'format', 'retain', 'possess', 'short', 'pass', 'work', 'ball', 'box', 'big', 'team', 'tough', 'away', 'narrow', 'exploit', 'flank', 'easier', 'wider', 'whip', 'cross', 'close', 'more', 'stuck', 'dlp', 'bbm', 'bwm', 'meyer', 'attack', 'defens', 'wb', 'fb', 'midfield', 'bought', 'romero', 'silva', 'lb', 'luckili', 'front', 'great', 'includ', 'up', 'scari', 'as', 'alex', 'jame', 'said', 'a', 'barbour', 'jacket', 'bottl', 'champagn', 'invinc', 'compliment', 'best', 'ani', 'suggest', 'far', 'washington', 'bitch', 'honestli', 'hell', 'row', 'seat', 'confess', 'point', 'car', 'reput', 'propos', 'driver', 'clean', 'dirti', 'cleveland', 'check', 'intellig', 'servic', 'area', 'easiest', 'larg', 'conflict', 'fals', 'flag', 'terrorist', 'encourag', 'cycl', 'reveng', 'ad', 'late', 'snubbul', 'id', 'licens', 'credit', 'card', 'subway', 'stampcard', 'streamlink', 'http', 'courtesi', 'bigwig', 'googl', 'sociopath', 'easili', 'often', 'rate', 'enjoy', 'when', 'aw', 'throughout', 'mayb', 'hmm', 'char', 'charact', 'douchebag', 'aoyama', 'frustrat', 'whi', 'anyth', 'now', 'rememb', 'terribl', 'count', 'overanalys', 'art', 'forget', 'forgiv', 'realiz', 'onc', 'episod', 'cute', 'keep', 'distract', 'gave', 'honest', 'score', 'of', 'cours', 'overanalyz', 'part', 'went', 'somewhat', 'holi', 'shit', 'scene', 'sped', 'fast', 'martial', 'movi', 'inspir', 'broke', 'tour', 'misconcept', 'broken', 'despit', 'tweet', 'addit', 'fish', 'download', 'razer', 'surround', 'option', 'upgrad', 'program', 'thnx', 'nicknam', 'nfln', 'henceforth', 'known', 'danc', 'command', 'him', 'byron', 'jone', 'uconn', 'our', 'backfield', 'rush', 'yard', 'easi', 'not', 'mention', 'kap', 'smoke', 'tobacco', 'marlboro', 'turkish', 'silver', 'spirit', 'pipe', 'decid', 'die', 'kept', 'interest', 'event', 'attend', 'weekli', 'op', 'modd', 'shitpost', 'shitcept', 'veri', 'low', 'subtl', 'mania', 'from', 'cowork', 'reaction', 'effici', 'zombi', 'mode', 'physic', 'tire', 'alert', 'mental', 'dumb', 'typo', 'mistak', 'finger', 'left', 'finish', 'night', 'kind', 'suck', 'brain', 'fog', 'lift', 'next', 'today', 'bed', 'earlier', 'middl', 'awak', 'wide', 'eventu', 'fall', 'asleep', 'schedul', 'sinc', 'stay', 'weekend', 'doze', 'afternoon', 'memori', 'consolid', 'wonder', 'am', 'less', 'process', 'faster', 'normal', 'extra', 'term', 'nice', 'translat', 'qualiti', 'blah', 'woulda', 'perfect', 'legitim', 'member', 'tea', 'henchmen', 'bewar', 'batman', 'wrong', 'comprehens', 'valuabl', 'repli', 'straw', 'argument', 'vitriol', 'masturb', 'univers', 'age', 'speech', 'class', 'brick', 'baltimor', 'violenc', 'busi', 'predominantli', 'racism', 'none', 'justifi', 'just', 'la', 'amp', 'support', 'expens', 'consol', 'version', 'suppos', 'did', 'quiz', 'eat', 'ice', 'cream', 'all', 'ghost', 'blue', 'blinki', 'note', 'tier', 'hacker', 'hotwir', 'sorri', 'rage', 'clear', 'major', 'incid', 'sex', 'indoctrin', 'famili', 'ya', 'razor', 'laser', 'studi', 'hall', 'school', 'paranoid', 'anxieti', 'fit', 'transfix', 'pregnant', 'catch', 'diseas', 'ye', 'sweet', 'saul', 'sixth', 'can', 'sticki', 'main', 'thread', 'ten', 'thousand', 'instal', 'electr', 'danger', 'stupid', 'follow', 'code', 'simpl', 'stuff', 'pick', 'electrician', 'crossov', 'municip', 'some', 'allow', 'claw', 'rout', 'dude', 'fajita', 'dammit', 'advic', 'legal', 'medic', 'marijuana', 'goe', 'stand', 'massiv', 'circlejerk', 'shower', 'upvot', 'gold', 'pay', 'chroma', 'base', 'textur', 'skin', 'blucian', 'purchas', 'price', 'valu', 'particular', 'howev', 'obtain', 'rp', 'board', 'layout', 'size', 'minim', 'aspect', 'key', 'larger', 'regular', 'keyboard', 'fewer', 'lower', 'profil', 'case', 'thi', 'smaller', 'space', 'compens', 'compress', 'intend', 'sound', 'unprofit', 'blame', 'failur', 'nah', 'brilliant', 'captain', 'industri', 'incap', 'came', 'rel', 'transpar', 'half', 'serious', 'entertain', 'export', 'rest', 'world', 'modicum', 'daili', 'satir', 'countri', 'master', 'genr', 'banter', 'republican', 'basket', 'beer', 'sleaz', 'fascin', 'pound', 'coin', 'thick', 'fucker', 'almost', 'discontinu', 'oop', 'rainbow', 'fun', 'stori', 'elderli', 'knew', 'gotten', 'remarri', 'wife', 'bare', 'listen', 'ago', 'meant', 'seri', 'gather', 'tournament', 'freelanc', 'warlock', 'peac', 'music', 'bet', 'ui', 'refresh', 'noth', 'stream', 'app', 'store', 'background', 'pull', 'cop', 'taken', 'cash', 'act', 'round', 'alreadi', 'british', 'coward', 'shi', 'real', 'rotherham', 'squabbl', 'ethic', 'gger', 'fatter', 'differ', 'child', 'adult', 'woman', 'torn', 'apart', 'fame', 'success', 'career', 'rich', 'boyfriend', 'legion', 'devot', 'her', 'mdadm', 'x', 'partit', 'drive', 'list', 'output', 'md', 'pastebin', 'fdisk', 'comment', 'botch', 'beauti', 'choos', 'glaze', 'everywher', 'site', 'login', 'heather', 'dakota', 'fail', 'ap', 'rocki', 'purpl', 'swag', 'stack', 'remix', 'five', 'here', 'mod', 'difficult', 'potato', 'silverfish', 'lean', 'juici', 'j', 'too', 'drake', 'lil', 'wayn', 'japanes', 'slut', 'doubl', 'penetr', 'horni', 'asian', 'chick', 'ram', 'ginorm', 'dong', 'rough', 'girl', 'anecdot', 'evid', 'compani', 'amount', 'wear', 'chill', 'silenc', 'clench', 'bug', 'encas', 'entir', 'obsidian', 'occur', 'reload', 'nsfw', 'implic', 'vari', 'cultur', 'unnecessarili', 'gorgeou', 'ask', 'where', 'wa', 'ozil', 'awar', 'situat', 'asid', 'madrid', 'fan', 'upset', 'liga', 'face', 'pau', 'join', 'might', 'softer', 'weather', 'bring', 'bot', 'whose', 'sole', 'timeli', 'accuraci', 'subreddit', 'appear', 'forgot', 'locat', 'titl', 'bodi', 'post', 'updat', 'origin', 'inform', 'report', 'inaccuraci', 'author', 'sign', 'document', 'waiv', 'food', 'seattl', 'current', 'decemb', 'custom', 'staff', 'corpor', 'chain', 'employe', 'length', 'minimum', 'wage', 'offer', 'grant', 'rais', 'passion', 'justic', 'violat', 'put', 'foot', 'job', 'skill', 'while', 'fortun', 'step', 'recours', 'util', 'illeg', 'lose', 'employ', 'header', 'halp', 'edit', 'もし', '見つけられたら', 'rum', 'island', 'emot', 'found', 'weirdo', 'girlfriend', 'moral', 'question', 'disagre', 'liter', 'page', 'facad', 'imagin', 'anim', 'beat', 'pokemon', 'fine', 'salt', 'rant', 'defend', 'weakest', 'hero', 'gank', 'may', 'xp', 'yield', 'strat', 'faith', 'logic', 'therefor', 'defeat', 'theist', 'blith', 'till', 'hop', 'juic', 'will', 'huh', 'trick', 'vintag', 'versac', 'loud', 'pleas', 'ticket', 'taradis', 'alarm', 'tap', 'deep', 'sleeper', 'dont', 'soon', 'week', 'advanc', 'anyway', 'file', 'rural', 'sold', 'speed', 'repres', 'phone', 'receiv', 'dsl', 'router', 'total', 'avail', 'ship', 'manner', 'friendship', 'gon', 'na', 'jet', 'boo', 'dominion', 'betray', 'hous', 'hill', 'boardgam', 'imposs', 'stick', 'democraci', 'unrel', 'anyon', 'poland', 'resembl', 'third', 'reich', 'maximum', 'expans', 'whatchu', 'hawkey', 'dragonborn', 'undefin', 'destini', 'quest', 'ignor', 'challeng', 'survivor', 'truli', 'combin', 'compet', 'consist', 'poetic', 'pretenti', 'bullshit', 'jump', 'hoop', 'true', 'msg', 'onlin', 'flavor', 'enhanc', 'letter', 'send', 'tomorrow', 'purp', 'biggest', 'regret', 'haunt', 'trivia', 'gift', 'coupon', 'xbone', 'control', 'regist', 'nh', 'tax', 'paid', 'deal', 'enver', 'explain', 'admit', 'roll', 'viabl', 'gurante', 'clip', 'hint', 'my', 'shine', 'profession', 'reboot', 'everytim', 'lynch', 'write', 'citizen', 'unit', 'limit', 'hangout', 'yr', 'buzzword', 'du', 'jour', 'conspiraci', 'appar', 'stumbl', 'upon', 'heard', 'ever', 'begin', 'suicid', 'lost', 'graduat', 'boot', 'camp', 'wish', 'offic', 'routin', 'worst', 'societi', 'mess', 'cope', 'mechan', 'academi', 'stress', 'hard', 'weapon', 'fetch', 'cold', 'tv', 'remot', 'dreami', 'eye', 'wow', 'goodra', 'battl', 'spot', 'tanki', 'consid', 'social', 'weird', 'unless', 'state', 'blast', 'past', 'tl', 'dr', 'genui', 'professor', 'invent', 'travel', 'dimens', 'slide', 'random', 'singer', 'wormhol', 'dk', 'freez', 'daum', 'patch', 'immedi', 'dl', 'loki', 'english', 'softwar', 'reika', 'dogpil', 'ahead', 'machin', 'quieter', 'explos', 'vanilla', 'louder', 'alleg', 'crystal', 'maiden', 'korean', 'dota', '수정의', '여인', 'bald', 'eagl', 'perch', 'shoulder', 'opo', 'alongsid', 'separ', 'thumb', 'press', 'sometim', 'recogn', 'recurr', 'dealt', 'faulti', 'cell', 'rma', 'lucki', 'technic', 'wag', 'rick', 'futur', 'kidnap', 'link', 'tag', 'frequent', 'bigot', 'tend', 'properli', 'commerci', 'across', 'type', 'bc', 'calcul', 'craft', 'connect', 'equal', 'eio', 'conduit', 'binder', 'essenc', 'subtract', 'doe', 'california', 'public', 'educ', 'lobbi', 'light', 'armor', 'heal', 'effect', 'healer', 'quit', 'threat', 'health', 'pool', 'particularli', 'minor', 'dmg', 'espn', 'network', 'undi', 'jinx', 'lawd', 'curri', 'factor', 'absolut', 'restrict', 'airflow', 'smidgen', 'watt', 'bam', 'than', 'presenc', 'femal', 'assert', 'argu', 'carri', 'judgement', 'infer', 'describ', 'uneven', 'represent', 'popul', 'media', 'instead', 'premis', 'hah', 'queen', 'depos', 'somewher', 'around', 'crown', 'human', 'maul', 'piec', 'angri', 'suffer', 'dickhead', 'monitor', 'raid', 'activist', 'confus', 'sander', 'subsid', 'bandag', 'aid', 'have', 'isl', 'walmart', 'except', 'height', 'gender', 'mix', 'rule', 'unmix', 'tran', 'uncomfort', 'regardless', 'room', 'assign', 'birth', 'surgeri', 'shown', 'facil', 'necessari', 'lead', 'other', 'ridden', 'cc', 'indian', 'per', 'mile', 'canada', 'england', 'flair', 'metal', 'cage', 'structur', 'seed', 'tube', 'psa', 'youngster', 'teen', 'recur', 'paint', 'pictur', 'bedroom', 'window', 'culdersac', 'steep', 'lit', 'street', 'lamp', 'entri', 'plung', 'oblivion', 'poster', 'exorcist', 'faint', 'incom', 'tune', 'beyond', 'grow', 'nightmar', 'lumber', 'sort', 'bass', 'looney', 'tom', 'jerri', 'number', 'sweetum', 'muppet', 'hide', 'cover', 'closet', 'hallway', 'proceed', 'fling', 'laid', 'bleed', 'miseri', 'crush', 'nearbi', 'bite', 'over', 'learn', 'scenario', 'wolv', 'sick', 'swimmingli', 'red', 'cataton', 'approach', 'open', 'mouth', 'snake', 'reveal', 'teeth', 'tongu', 'freak', 'sea', 'angler', 'horrifi', 'impend', 'sat', 'usual', 'proxim', 'stare', 'spoke', 'dad', 'voic', 'proud', 'pizza', 'serv', 'lithia', 'phd', 'histori', 'teach', 'histor', 'consult', 'abc', 'sb', 'film', 'australia', 'klein', 'circuit', 'acquisit', 'should', 'crop', 'checkbook', 'pic', 'funni', 'keith', 'sf', 'sourc', 'specif', 'decreas', 'rec', 'boost', 'statu', 'ailment', 'inflict', 'weak', 'element', 'damag', 'rebelli', 'mario', 'depend', 'present', 'messag', 'linkedin', 'recruit', 'gif', 'plain', 'slovenli', 'hygien', 'expect', 'loos', 'miss', 'wash', 'mywi', 'hotspot', 'tweak', 'slave', 'revers', 'tether', 'band', 'downvot', 'ireland', 'disappoint', 'puttin', 'perryman', 'fool', 'onto', 'kendrick', 'int', 'yea', 'comic', 'bruce', 'articl', 'wrote', 'student', 'foundat', 'academ', 'colleg', 'math', 'teacher', 'faculti', 'independ', 'order', 'subject', 'knowledg', 'bicep', 'quad', 'gunna', 'vita', 'prophet', 'solid', 'grasp', 'guest', 'toss', 'pile', 'woo', 'brag', 'tonight', 'aveng', 'ok', 'passiv', 'sheen', 'proc', 'nocturn', 'behind', 'bork', 'lack', 'dough', 'born', 'sandiego', 'brought', 'illinoi', 'prepar', 'aliv', 'ohh', 'respond', 'wander', 'involv', 'movement', 'although', 'parent', 'divorc', 'high', 'defin', 'gop', 'beret', 'church', 'saint', 'who', 'promin', 'nick', 'land', 'commentari', 'ballstream', 'playoff', 'novelti', 'gb', 'ign', 'yuukai', 'leader', 'clair', 'selena', 'kanon', 'wip', 'elimo', 'loch', 'altri', 'oulu', 'sefia', 'global', 'by', 'shida', 'shera', 'fadahl', 'kuhla', 'tesla', 'ulkina', 'lario', 'fh', 'colt', 'diana', 'agre', 'podrac', 'auto', 'zone', 'contact', 'landlord', 'neutral', 'wire', 'backward', 'contest', 'grade', 'penni', 'peanut', 'butter', 'particip', 'deliv', 'reward', 'sleepaway', 'banana', 'hidden', 'refer', 'alon', 'favorit', 'hg', 'nar', 'dragon', 'otherwis', 'dragonbal', 'feat', 'scale', 'statement', 'descript', 'sun', 'undermin', 'unsupport', 'fancalc', 'pi', 'outlier', 'beeru', 'destroy', 'sin', 'leagu', 'legend', 'grindi', 'moba', 'rune', 'champion', 'slower', 'nord', 'sever', 'condit', 'deathbal', 'jesu', 'christ', 'delusion', 'sock', 'jaw', 'rogu', 'tht', 'abus', 'lol', 'travi', 'six', 'pot', 'matter', 'took', 'warm', 'strategi', 'reli', 'lad', 'gun', 'lake', 'bit', 'nutrit', 'uh', 'poorli', 'expos', 'sky', 'sub', 'hatr', 'satur', 'photo', 'stale', 'oversatur', 'hdr', 'cel', 'accur', 'earth', 'garena', 'ggg', 'fanci', 'tampa', 'bay', 'gone', 'clock', 'crypt', 'lt', 'youch', 'restart', 'cach', 'vagu', 'perpetu', 'myth', 'acceler', 'rotat', 'curvilinear', 'coordin', 'semant', 'distinct', 'unnecessari', 'gr', 'subsum', 'sr', 'contain', 'formal', 'ident', 'curvatur', 'proper', 'physicist', 'exampl', 'frame', 'constant', 'induc', 'nonzero', 'vacuum', 'thermal', 'radiat', 'flat', 'intim', 'hawk', 'hmmm', 'tpp', 'meet', 'group', 'chat', 'imo', 'joke', 'spark', 'mcdonald', 'thru', 'kirbi', 'star', 'moment', 'input', 'singl', 'idiot', 'handl', 'earli', 'childhood', 'npr', 'convict', 'doubt', 'trial', 'disastr', 'jimmi', 'rogan', 'podcast', 'bigger', 'form', 'efp', 'convent', 'punch', 'multipl', 'about', 'wideman', 'xd', 'testament', 'convinc', 'hang', 'month', 'later', 'suddenli', 'becam', 'date', 'alcohol', 'nor', 'wreck', 'congratul', 'ur', 'complain', 'aye', 'mud', 'michigan', 'decent', 'invest', 'prior', 'resolv', 'butt', 'book', 'longer', 'appreci', 'thorough', 'ha', 'nat', 'inning', 'grew', 'drunk', 'sane', 'hayli', 'mate', 'babi', 'loui', 'armstrong', 'font', 'vip', 'bonfir', 'within', 'color', 'strap', 'slo', 'weirdli', 'gray', 'dull', 'f', 'garnet', 'amend', 'benefit', 'wheel', 'raptur', 'dvd', 'paul', 'blart', 'mall', 'sister', 'kitten', 'leg', 'kennel', 'blanket', 'safe', 'davi', 'drop', 'preseason', 'cobb', 'waiver', 'kelc', 'c', 'mychart', 'hilari', 'wiggli', 'doc', 'phrase', 'germani', 'haaaaam', 'grrrrrrlllll', 'mama', 'doesnt', 'skt', 'ward', 'championship', 'traffic', 'infrastructur', 'landmass', 'noxiak', 'leprechaun', 'cheap', 'german', 'wot', 'kriegsmarin', 'wowp', 'beta', 'wt', 'gf', 'h', 'g', 'weaponri', 'russian', 'favour', 'mg', 'messerschmit', 'tiger', 'uninform', 'dumbest', 'fellow', 'flaw', 'tackl', 'corner', 'lineman', 'bradi', 'alot', 'depth', 'coupl', 'pocket', 'offenc', 'wont', 'ground', 'ps', 'bowl', 'forehead', 'rihanna', 'add', 'estim', 'closer', 'realiti', 'chees', 'repetit', 'perfom', 'ooc', 'push', 'pusssh', 'special', 'roadrunn', 'folk', 'research', 'associ', 'these', 'quick', 'schefti', 'mostli', 'water', 'appradio', 'yesterday', 'prematur', 'radio', 'bluetooth', 'glitch', 'appl', 'develop', 'pioneer', 'alpin', 'inclin', 'oem', 'carplay', 'snail', 'pace', 'cock', 'wild', 'ride', 'mortgag', 'loan', 'circl', 'promo', 'vt', 'backup', 'copi', 'dilemma', 'thane', 'mumbai', 'western', 'prefer', 'huddl', 'qb', 'onli', 'silent', 'bibl', 'forbid', 'news', 'flash', 'bother', 'establish', 'marriag', 'sexual', 'fantast', 'jolen', 'cookbook', 'journey', 'destin', 'intro', 'fuckin', 'dropcam', 'cloud', 'dvr', 'motion', 'ba', 'risp', 'basebal', 'yep', 'youll', 'narrat', 'revi', 'ridley', 'jersey', 'shame', 'mccourti', 'quietli', 'grace', 'rid', 'exact', 'pressur', 'tiiiim', 'suspens', 'chronolog', 'harvest', 'escal', 'forerunn', 'trilog', 'bust', 'nut', 'drip', 'coil', 'higher', 'ceram', 'ohm', 'configur', 'anymor', 'pastel', 'pink', 'nicer', 'calmer', 'deconvert', 'etern', 'edg', 'hung', 'contradictori', 'snyder', 'rendit', 'cave', 'confirm', 'readi', 'panel', 'father', 'son', 'damian', 'reflect', 'citi', 'arc', 'continu', 'hing', 'track', 'beard', 'yay', 'effortless', 'desper', 'pure', 'wand', 'morn', 'felt', 'freakin', 'gigant', 'boy', 'magic', 'accid', 'children', 'attent', 'moron', 'dildo', 'mission', 'unfortun', 'adder', 'bridg', 'athiest', 'north', 'america', 'ridicul', 'belief', 'religi', 'profess', 'atheist', 'dehuman', 'opposit', 'subhuman', 'undeserv', 'dictatorship', 'centuri', 'motiv', 'atheism', 'design', 'boutiqu', 'coffe', 'tabl', 'kinda', 'p', 'drool', 'czw', 'extrem', 'punjabi', 'prison', 'match', 'cj', 'parker', 'roast', 'reddit', 'insert', 'eg', 'vaccin', 'climat', 'gmo', 'evolut', 'those', 'imperi', 'cutter', 'skip', 'anaconda', 'firefight', 'equival', 'grind', 'mofo', 'indic', 'referenc', 'hnnnnng', 'palett', 'gorg', 'notif', 'wing', 'endors', 'zion', 'adventur', 'dan', 'toad', 'diplomaci', 'agnost', 'practic', 'achiev', 'exercis', 'rhythm', 'memor', 'perfectli', 'articul', 'correctli', 'struggl', 'tempo', 'string', 'sequenc', 'fret', 'togeth', 'muscl', 'toaster', 'bagel', 'transubstanti', 'punchlin', 'hatch', 'cringeworthi', 'hello', 'kingdom', 'sarnor', 'whenev', 'slot', 'iron', 'mumbo', 'jumbo', 'assum', 'doom', 'valyria', 'directli', 'commenc', 'blood', 'swept', 'esso', 'dure', 'decim', 'dothraki', 'slaughter', 'field', 'crow', 'tall', 'men', 'driven', 'saath', 'notwithstand', 'three', 'averag', 'akin', 'birthrat', 'war', 'variou', 'catastroph', 'storytel', 'approv', 'civil', 'address', 'bro', 'faili', 'beach', 'oregon', 'coast', 'strict', 'pm', 'curfew', 'wtf', 'primari', 'gotcha', 'verifi', 'pug', 'amazon', 'review', 'exclus', 'csgo', 'opinion', 'lube', 'view', 'natur', 'with', 'mood', 'kelli', 'milhous', 'delet', 'candid', 'laugh', 'koot', 'sync', 'elo', 'wukong', 'highest', 'winrat', 'champ', 'bf', 'breath', 'nervou', 'thrust', 'squat', 'whilst', 'hot', 'jack', 'highlight', 'reel', 'dunk', 'nasti', 'expert', 'ben', 'mom', 'isol', 'which', 'cpu', 'cooler', 'armi', 'began', 'sicken', 'tbh', 'crap', 'injur', 'bench', 'sauc', 'produc', 'louisiana', 'nationwid', 'vz', 'northern', 'sep', 'weekday', 'most', 'sweater', 'jogger', 'shirt', 'brit', 'swim', 'suit', 'creas', 'obliter', 'burnt', 'crisp', 'glow', 'friendli', 'eager', 'compar', 'homeland', 'liquor', 'spent', 'nurs', 'degre', 'icefrog', 'buf', 'onion', 'discov', 'havent', 'stellar', 'steam', 'drm', 'recoveri', 'mele', 'hi', 'glass', 'cannon', 'fox', 'b', 'overal', 'lag', 'hitbox', 'along', 'atlanta', 'aggress', 'quickli', 'aom', 'log', 'map', 'straight', 'dock', 'bizarr', 'clearli', 'writeup', 'behold', 'freeport', 'explicitli', 'data', 'interfer', 'feet', 'doabl', 'antenna', 'nexu', 'infact', 'xda', 'solder', 'wifi', 'record', 'farthest', 'drone', 'flight', 'result', 'progress', 'mark', 'grad', 'divis', 'languag', 'debacl', 'foreign', 'via', 'undergrad', 'diploma', 'exam', 'appropri', 'depart', 'nativ', 'fulfil', 'essenti', 'trilingu', 'membership', 'loyalti', 'chelsea', 'west', 'brom', 'correct', 'vs', 'declar', 'variabl', 'currenttim', 'getattr', 'attr', 'certain', 'vice', 'versa', 'voicebox', 'thirti', 'technolog', 'encyclopedia', 'k', 'wall', 'fifti', 'cord', 'handset', 'mobil', 'nuclear', 'destruct', 'irish', 'east', 'south', 'africa', 'apartheid', 'manga', 'spoiler', 'jewish', 'nazi', 'hunter', 'neopren', 'glove', 'yeahh', 'montag', 'breed', 'bud', 'gba', 'dialogu', 'obviou', 'kefka', 'cele', 'stomp', 'somebodi', 'utc', 'packag', 'rounder', 'fletcher', 'cox', 'boykin', 'unalt', 'faq', 'dub', 'dar', 'darl', 'pred', 'slip', 'sentenc', 'turnbul', 'threw', 'desir', 'outcom', 'obvious', 'dollar', 'loung', 'orbit', 'odd', 'fair', 'delay', 'sum', 'clever', 'attempt', 'happier', 'surviv', 'breakdown', 'ton', 'guilti', 'offens', 'cardin', 'pitch', 'mow', 'bitcoin', 'market', 'minut', 'complex', 'empti', 'yup', 'scariest', 'tunnel', 'willi', 'wonka', 'chocol', 'cluster', 'tread', 'arrow', 'whether', 'lone', 'perman', 'offici', 'coven', 'abraham', 'theolog', 'fcf', 'escort', 'fleet', 'dd', 'bb', 'seal', 'hp', 'winter', 'risk', 'legaci', 'epic', 'cant', 'futurama', 'wikia', 'sfw', 'ami', 'klutzi', 'flexibl', 'spoil', 'due', 'patriot', 'constantli', 'guilt', 'naiv', 'wallet', 'stolen', 'bender', 'scheme', 'plot', 'twelv', 'percent', 'milki', 'giant', 'mini', 'golf', 'wong', 'toggl', 'greatli', 'checkout', 'submit', 'tuesday', 'supposedli', 'reliabl', 'vendor', 'pend', 'cancel', 'bank', 'eas', 'fund', 'basketbal', 'iq', 'necessarili', 'correl', 'brown', 'winston', 'youtub', 'temp', 'overclock', 'rang', 'potenti', 'teammat', 'bottom', 'fresh', 'ey', 'impact', 'quot', 'nowher', 'techi', 'tor', 'award', 'strangest', 'lord', 'rightio', 'tablet', 'miracast', 'incred', 'sri', 'choic', 'empath', 'lace', 'skate', 'tight', 'arch', 'circul', 'cramp', 'cevo', 'fp', 'twist', 'ah', 'ninjew', 'stalk', 'victim', 'cun', 'stealth', 'woodi', 'allen', 'enemi', 'apprehens', 'chines', 'sidetrack', 'imag', 'berni', 'oppon', 'ninja', 'stanc', 'karat', 'nois', 'switcher', 'mesa', 'boogi', 'mk', 'iv', 'roland', 'dial', 'tech', 'album', 'closest', 'strangeul', 'afraid', 'bag', 'bat', 'banjo', 'kazooi', 'egg', 'fli', 'share', 'chameleon', 'hurt', 'spotlight', 'pin', 'flip', 'upsid', 'psp', 'smell', 'expand', 'curti', 'granderson', 'forgiven', 'mont', 'adc', 'eu', 'chip', 'insan', 'uninterest', 'adblock', 'reduc', 'turret', 'cruis', 'surfac', 'ipad', 'wors', 'baron', 'inhib', 'ace', 'coz', 'humperdinck', 'tiiiiiiiiiiiim', 'scienc', 'accept', 'drastic', 'ether', 'slow', 'blind', 'slightli', 'hubri', 'tip', 'realis', 'milton', 'friedman', 'advoc', 'endgam', 'temporari', 'transit', 'coerciv', 'welfar', 'voluntari', 'democrat', 'truck', 'bmw', 'plane', 'creativ', 'esrb', 'settl', 'm', 'ao', 'bing', 'quicker', 'direct', 'copyright', 'minion', 'troll', 'dmca', 'metriot', 'sampl', 'bumper', 'devic', 'overrid', 'thiev', 'exot', 'focus', 'competit', 'smash', 'pillow', 'lay', 'ring', 'sentiment', 'husband', 'afford', 'cherish', 'lab', 'diamond', 'telu', 'certainli', 'ci', 'oppress', 'shitlord', 'constru', 'nimh', 'screwi', 'har', 'lipo', 'condom', 'steril', 'women', 'pacquiao', 'demolish', 'mayweath', 'bwahahaha', 'climb', 'usewii', 'wii', 'codenam', 'fe', 'amiibo', 'robin', 'lucina', 'typic', 'cranki', 'warden', 'lurk', 'block', 'serial', 'provid', 'applic', 'acrobat', 'audit', 'honor', 'e', 'johnson', 'select', 'mildli', 'solicit', 'vote', 'octob', 'thay', 'chute', 'deploy', 'deem', 'non', 'derogatori', 'racial', 'footbal', 'certifi', 'beast', 'ingrain', 'overwrit', 'eras', 'counterargu', 'standard', 'batteri', 'subclin', 'brainmess', 'codepend', 'trust', 'jealousi', 'envi', 'unknown', 'uncertainti', 'sooner', 'chose', 'errat', 'exhaust', 'whini', 'petti', 'wound', 'instantli', 'partner', 'hover', 'modifi', 'sustain', 'boundari', 'comfort', 'albeit', 'gentli', 'outgoingli', 'insincer', 'aim', 'pleasant', 'demeanour', 'alch', 'agh', 'rusher', 'sapporo', 'ramen', 'central', 'squar', 'yume', 'ought', 'moan', 'principl', 'terminolog', 'earnest', 'randomli', 'seek', 'bear', 'throat', 'relev', 'fallaci', 'argumentum', 'hominem', 'refut', 'specifi', 'payment', 'mutual', 'inclus', 'gain', 'payrol', 'consider', 'digit', 'suffici', 'temper', 'plenti', 'everyday', 'identifi', 'oppos', 'consum', 'empower', 'product', 'overpr', 'storm', 'y', 'z', 'alpha', 'cost', 'pack', 'appeal', 'ultim', 'quantifi', 'blizzard', 'warcraft', 'micro', 'orang', 'mmorpg', 'comparison', 'idaho', 'mountain', 'conceiv', 'prom', 'bedhead', 'ugli', 'ronaldo', 'kick', 'angl', 'fatti', 'cherri', 'highway', 'offend', 'retardedli', 'compound', 'dachschund', 'june', 'troubl', 'heh', 'clanci', 'truth', 'feminist', 'garbag', 'passeng', 'iran', 'becom', 'china', 'screw', 'territori', 'asia', 'russia', 'camera', 'homi', 'nurkic', 'noel', 'dpoy', 'dual', 'tripl', 'posthol', 'pre', 'doge', 'tc', 'kiss', 'incest', 'mcdank', 'bravo', 'basement', 'oblig', 'balanc', 'stabl', 'satisfactori', 'million', 'owner', 'capabl', 'mojang', 'creator', 'own', 'decad', 'unoffici', 'demand', 'selfish', 'greedi', 'resourc', 'crappi', 'abandon', 'constrain', 'modder', 'built', 'oper', 'conform', 'octarin', 'mida', 'unstopp', 'pub', 'bristleback', 'outlevel', 'chatwheel', 'mango', 'sunday', 'local', 'spare', 'steal', 'oxo', 'maker', 'knive', 'full', 'tang', 'hors', 'frozen', 'soundtrack', 'smile', 'drew', 'moon', 'strang', 'beavi', 'rabid', 'ammount', 'canon', 'tlt', 'fanart', 'explod', 'jerk', 'drink', 'shotglass', 'feast', 'flesh', 'cook', 'medium', 'rare', 'woodchuck', 'cockroach', 'facebook', 'roach', 'sadli', 'dick', 'psychedel', 'exactli', 'partaken', 'swing', 'quarter', 'repeal', 'accommod', 'portion', 'chosen', 'spawn', 'obligatori', 'düsseldorf', 'goldbären', 'brauchen', 'kein', 'schweinflesich', 'accompani', 'gummi', 'pigskin', 'campaign', 'vegetarian', 'haribo', 'ala', 'entireti', 'befor', 'sidebar', 'clarif', 'error', 'perform', 'moder', 'concern', 'kane', 'spotifi', 'spectrum', 'salti', 'practis', 'psycholog', 'vibe', 'kilter', 'viciou', 'striker', 'bader', 'outclass', 'rumbl', 'takedown', 'couldnt', 'cormier', 'deserv', 'unlik', 'curios', 'strike', 'wrestl', 'osp', 'didnt', 'outwrestl', 'elit', 'wrestler', 'judg', 'winner', 'lynnwood', 'denni', 'dunno', 'leak', 'predict', 'stephon', 'william', 'ilb', 'clemson', 'marri', 'ex', 'shout', 'gamepass', 'coconutcov', 'frigidair', 'model', 'bellvu', 'fort', 'collin', 'town', 'park', 'lori', 'horsetooth', 'reservoir', 'unload', 'ect', 'biker', 'hiker', 'busier', 'encount', 'trail', 'etiquett', 'highli', 'canva', 'tattoo', 'ruin', 'artist', 'curv', 'pwnd', 'monster', 'st', 'chem', 'wine', 'naxirian', 'tomshardewar', 'metamori', 'exchang', 'slim', 'mariota', 'n', 'mankind', 'satisfi', 'adapt', 'uk', 'coverag', 'feed', 'righteou', 'mxe', 'superb', 'nbome', 'def', 'wasnt', 'disso', 'sweat', 'marathon', 'legit', 'drunkish', 'manslaught', 'estd', 'kickstart', 'regard', 'implement', 'polici', 'zealand', 'psychologist', 'criminologist', 'cring', 'creami', 'thigh', 'hundr', 'shitter', 'patient', 'aggrav', 'penguin', 'idk', 'insur', 'retail', 'pharmaci', 'substanti', 'mail', 'prescript', 'older', 'wipe', 'booger', 'sheet', 'whoop', 'degrom', 'degoat', 'usa', 'corn', 'sfb', 'bird', 'bee', 'epa', 'monsanto', 'denmark', 'vader', 'mardi', 'gra', 'alt', 'bang', 'waterfal', 'percentag', 'humbl', 'apolog', 'held', 'harm', 'konqueror', 'katafract', 'kolossu', 'krusad', 'robot', 'os', 'wan', 'grrrrrrggggggllllll', 'broker', 'therapi', 'appoint', 'hudmo', 'lem', 'critic', 'jelli', 'johnathan', 'ac', 'countless', 'lectur', 'convey', 'islam', 'ama', 'horror', 'specialti', 'filament', 'bronzefil', 'copperfil', 'matterhack', 'makergeek', 'staggeringli', 'rank', 'dalamadur', 'prove', 'bike', 'fking', 'cohes', 'cum', 'ta', 'fill', 'london', 'rocket', 'launcher', 'bright', 'barn', 'buddi', 'nasa', 'telescop', 'etch', 'disk', 'supermodel', 'stereo', 'energi', 'obama', 'elect', 'senat', 'remind', 'kucinich', 'dump', 'inferior', 'air', 'superior', 'indign', 'visit', 'turnov', 'playthrough', 'dozen', 'rise', 'navig', 'trigger', 'difficulti', 'dungeon', 'exit', 'guard', 'knock', 'affect', 'each', 'recov', 'scan', 'consensu', 'trophi', 'hollow', 'forest', 'pop', 'jkap', 'crowd', 'suffic', 'rabbl', 'grown', 'homemad', 'zero', 'fare', 'instructor', 'evalu', 'nation', 'port', 'economi', 'seiz', 'kim', 'gianni', 'heart', 'dickbutt', 'congrat', 'silverman', 'previou', 'bia', 'wisconsin', 'rb', 'analyz', 'melvin', 'analyst', 'abil', 'cutback', 'v', 'welcom', 'percept', 'decept', 'investig', 'bonus', 'determin', 'strength', 'dexter', 'constitut', 'wisdom', 'charisma', 'profici', 'bonu', 'appli', 'outlin', 'handbook', 'search', 'pathfind', 'altern', 'lowest', 'divid', 'boom', 'theft', 'spiritomb', 'famin', 'disast', 'india', 'absorb', 'saudi', 'twice', 'accumul', 'fed', 'qe', 'forex', 'reserv', 'rbi', 'monetari', 'trillion', 'korea', 'fx', 'march', 'indra', 'net', 'interconnect', 'metaphor', 'vision', 'osu', 'user', 'evil', 'steven', 'prayer', 'comm', 'ult', 'tab', 'inventori', 'childish', 'architectur', 'devex', 'wpf', 'winform', 'platform', 'shoe', 'cucumb', 'tast', 'soldier', 'roman', 'embarrass', 'eh', 'mother', 'halo', 'nostalgia', 'period', 'em', 'dash', 'ellipsi', 'alzheim', 'titan', 'variat', 'signatur', 'va', 'librari', 'andi', 'filth', 'tumblr', 'graph', 'overlap', 'splitter', 'changeup', 'slider', 'distinguish', 'commiss', 'upsel', 'salespeopl', 'volum', 'upsold', 'upfront', 'profit', 'sale', 'elimin', 'casual', 'react', 'initi', 'multicam', 'desert', 'pmc', 'camo', 'homura', 'emotionless', 'distinctli', 'kyoko', 'angelica', 'pickl', 'madoka', 'actress', 'irrit', 'sayaka', 'counterpart', 'rebound', 'spreadsheet', 'overcast', 'web', 'pun', 'facepalm', 'hahaha', 'hiko', 'lenovo', 'flex', 'yoga', 'rumor', 'marcu', 'fairli', 'fsu', 'centric', 'tallahasse', 'burger', 'grouper', 'sandwich', 'oyster', 'shack', 'hotel', 'partnership', 'phase', 'tinder', 'tifu', 'email', 'caesar', 'christian', 'signific', 'empir', 'inscript', 'render', 'amus', 'ms', 'ballmer', 'tenur', 'myerson', 'nadella', 'belfior', 'chop', 'plausibl', 'duck', 'shut', 'reddhubb', 'android', 'frontmen', 'phew', 'usabl', 'joe', 'yahoo', 'mayer', 'ceo', 'stain', 'strain', 'nerd', 'frontman', 'leadership', 'stamp', 'instagram', 'foodi', 'monstros', 'timer', 'yoshitaka', 'naito', 'shooto', 'strawweight', 'fighter', 'tutori', 'ive', 'layer', 'cakey', 'lighter', 'dermablend', 'spotti', 'powder', 'shitload', 'headroom', 'oc', 'framer', 'pattern', 'lugi', 'ubw', 'archer', 'karl', 'grahden', 'pinki', 'presser', 'nato', 'crack', 'weed', 'rap', 'axe', 'interact', 'taught', 'tie', 'materi', 'among', 'younger', 'disposit', 'algebra', 'elementari', 'mentor', 'coke', 'nerv', 'lesser', 'chung', 'cling', 'ranger', 'doin', 'inher', 'profound', 'affleck', 'clue', 'restor', 'scott', 'pill', 'de', 'cancer', 'bittervet', 'rotmg', 'server', 'profan', 'frogetog', 'reckon', 'makeshift', 'toll', 'epl', 'faction', 'prot', 'display', 'eula', 'multiplay', 'caught', 'peek', 'electrifi', 'bpl', 'tryout', 'xl', 'grab', 'guid', 'talent', 'christma', 'presum', 'villain', 'formid', 'foe', 'bill', 'shapeshift', 'giffani', 'gideon', 'shove', 'sidelin', 'anxious', 'anticip', 'dc', 'pac', 'fa', 'threesom', 'spell', 'erron', 'deliber', 'attribut', 'empathi', 'sent', 'boozebag', 'hyperlink', 'dim', 'num', 'integ', 'worksheet', 'homepag', 'elseif', 'fart', 'client', 'horribl', 'poe', 'promis', 'optim', 'desync', 'introduct', 'ping', 'packet', 'loss', 'isp', 'singapor', 'gateway', 'extent', 'lockstep', 'killua', 'gettin', 'stone', 'eatin', 'myplayoffsmo', 'gamefreak', 'wightant', 'shrop', 'king', 'lesbian', 'wayyy', 'airbnb', 'kitchen', 'lurker', 'blackfish', 'captiv', 'cruel', 'dope', 'pearl', 'arm', 'buff', 'regener', 'lob', 'stat', 'gtaa', 'biggi', 'newest', 'isnt', 'reinstal', 'spin', 'hardli', 'spun', 'uhh', 'packer', 'dank', 'desk', 'everybodi', 'headphon', 'concentr', 'click', 'rins', 'repeat', 'dg', 'baphomet', 'plam', 'esoter', 'occult', 'tarot', 'lovecraft', 'dwarf', 'grass', 'propag', 'tricki', 'wool', 'patienc', 'beverag', 'senior', 'yell', 'complic', 'meter', 'cbd', 'liquid', 'homeotherapi', 'ubi', 'asscre', 'watchdog', 'wd', 'consent', 'qld', 'stanford', 'uc', 'berkeley', 'comput', 'loath', 'liber', 'financi', 'startup', 'hub', 'popular', 'engin', 'gene', 'mutat', 'aww', 'stawwp', 'prevent', 'dri', 'saison', 'hydro', 'bloodi', 'magnific', 'recip', 'belgian', 'pilsner', 'flake', 'rye', 'oz', 'mosaic', 'motueka', 'min', 'chiller', 'wyeast', 'abv', 'og', 'fg', 'tropic', 'fruit', 'pineappl', 'earthi', 'yeast', 'spici', 'tasti', 'bomb', 'citra', 'galaxi', 'amarillo', 'pair', 'complementari', 'nelson', 'ipa', 'muddl', 'ahh', 'crawdaunt', 'inconsist', 'button', 'subscript', 'platinum', 'credd', 'mainli', 'nexian', 'al', 'pve', 'entiti', 'jabbit', 'pvp', 'cast', 'combat', 'menu', 'exil', 'lfg', 'dom', 'entitylfm', 'tool', 'premad', 'queue', 'spam', 'exp', 'region', 'chunk', 'task', 'overstay', 'path', 'perk', 'btw', 'max', 'opportun', 'dp', 'interrupt', 'mob', 'abd', 'stun', 'smooth', 'guild', 'flask', 'renown', 'unlock', 'authent', 'lvl', 'decor', 'fri', 'dodg', 'customiz', 'forg', 'addon', 'clase', 'interfac', 'useful', 'strikehardmet', 'latenc', 'visual', 'finder', 'arkship', 'invas', 'unsur', 'tree', 'fern', 'fossil', 'artifici', 'taller', 'plant', 'underneath', 'prettier', 'carnivor', 'pig', 'duncan', 'farm', 'pen', 'chronotyp', 'embed', 'enclosur', 'lasso', 'potion', 'dinopedia', 'admittedli', 'feeder', 'ga', 'station', 'ahhhhh', 'undraft', 'professionn', 'blur', 'civilian', 'militari', 'imho', 'arrest', 'headless', 'creepi', 'subrreddit', 'dnd', 'althought', 'dolphin', 'ham', 'teamfight', 'squishi', 'weekfor', 'dear', 'badli', 'debat', 'burst', 'versu', 'arguement', 'irrelev', 'were', 'wherea', 'uv', 'print', 'printer', 'discrepecni', 'recal', 'landslid', 'ther', 'edmund', 'info', 'prop', 'graphic', 'unlimit', 'pitt', 'project', 'incorrect', 'advertis', 'websit', 'lf', 'machiavellian', 'turbo', 'pray', 'broadcast', 'hd', 'painter', 'ventur', 'ceremoni', 'curiou', 'dragoon', 'solidifi', 'loldrg', 'stigma', 'ffxi', 'ffxiv', 'hardcor', 'diet', 'wingman', 'cheer', 'cakeday', 'ori', 'lego', 'mindstorm', 'suspect', 'upload', 'bandwidth', 'moot', 'rapunzel', 'tear', 'cure', 'princ', 'sexist', 'holiday', 'inn', 'omg', 'lmao', 'ruler', 'regenc', 'betti', 'middleweight', 'bump', 'welter', 'cruiser', 'drawer', 'mirror', 'instruct', 'dust', 'ypf', 'sponsor', 'appeas', 'nevil', 'chamberlin', 'nixon', 'dignifi', 'awkward', 'interview', 'bless', 'demon', 'heavili', 'dismember', 'lion', 'grizzli', 'meat', 'foray', 'shock', 'marvel', 'disney', 'gut', 'thu', 'dosag', 'medicin', 'ran', 'primarili', 'doctor', 'farfetch', 'ymmv', 'gap', 'substanc', 'pg', 'impress', 'detect', 'gelo', 'atop', 'remnant', 'villag', 'grin', 'widen', 'goofi', 'hiya', 'amethyst', 'gate', 'luca', 'brasi', 'audio', 'tribe', 'curren', 'saturday', 'gucci', 'mane', 'trap', 'mixtap', 'whoooool', 'vape', 'healthiest', 'hobbi', 'deni', 'mucousi', 'cough', 'tar', 'gunk', 'lung', 'sona', 'occas', 'bore', 'anni', 'peel', 'mash', 'mana', 'dj', 'guqin', 'prettiest', 'vapor', 'millimet', 'lest', 'hyster', 'bigbang', 'mv', 'bori', 'nic', 'perimet', 'askreddit', 'sadder', 'wiser', 'meta', 'facepaint', 'facial', 'rubber', 'mask', 'neck', 'texa', 'method', 'goal', 'calor', 'intak', 'deadlift', 'tad', 'uncoordin', 'capit', 'mileag', 'pledg', 'jeb', 'kerbal', 'dark', 'abyss', 'mishap', 'led', 'revert', 'brighter', 'reappear', 'gdq', 'rape', 'pussi', 'pertain', 'transgend', 'assault', 'fenc', 'scare', 'yuck', 'minecraft', 'hurrican', 'joint', 'toatal', 'stole', 'dun', 'bell', 'italian', 'thin', 'crust', 'ndgo', 'murk', 'melod', 'derrick', 'lip', 'holder', 'gloriou', 'giggl', 'celebr', 'chicago', 'chicken', 'duluth', 'korpiklaani', 'coe', 'dip', 'wind', 'shear', 'lightn', 'ammi', 'bracer', 'museum', 'ballpark', 'dandruff', 'itch', 'jouster', 'shaman', 'kifflom', 'offshoot', 'ufo', 'script', 'hash', 'japan', 'murayama', 'girli', 'growth', 'spurt', 'eyesight', 'lasik', 'chest', 'healthi', 'calori', 'sugar', 'focuss', 'hip', 'grate', 'ladi', 'lotteri', 'pervi', 'newish', 'foo', 'august', 'loop', 'zoop', 'intent', 'chase', 'bs', 'hypocrit', 'hardest', 'esteem', 'reject', 'jungl', 'discount', 'alloy', 'melt', 's', 'dumber', 'redditor', 'thumbnail', 'emperor', 'rotj', 'esb', 'jedi', 'alec', 'guin', 'ewan', 'mcgreggor', 'anh', 'coach', 'nba', 'deck', 'antoni', 'walker', 'roster', 'jordan', 'bull', 'laker', 'spur', 'wthat', 'th', 'renam', 'sphere', 'integr', 'stoke', 'theorem', 'spheresect', 'precis', 'vector', 'explan', 'flux', 'object', 'fieldlin', 'upward', 'enter', 'yowl', 'digimon', 'palmon', 'frown', 'hiwa', 'itun', 'jailbrok', 'ipod', 'penc', 'summer', 'festiv', 'san', 'francisco', 'brush', 'syclon', 'understood', 'lobstertain', 'alo', 'vera', 'fanbas', 'fnaf', 'rebornica', 'au', 'foxi', 'meth', 'director', 'del', 'toro', 'witch', 'unsaf', 'combo', 'dab', 'neosporin', 'northeast', 'ny', 'termin', 'trailer', 'tradit', 'pollut', 'puppi', 'grappl', 'edgi', 'streetwear', 'fashion', 'consciou', 'gross', 'cigarett', 'aesthet', 'worship', 'ian', 'connor', 'cloth', 'soul', 'ralli', 'femin', 'sharp', 'rub', 'alright', 'vacat', 'tee', 'unfair', 'out', 'w', 'paraphras', 'tywin', 'bend', 'knee', 'zed', 'mayock', 'bait', 'pleasur', 'lover', 'unhappi', 'toxic', 'malici', 'ticki', 'tack', 'sniff', 'phuk', 'mm', 'drown', 'content', 'fm', 'spec', 'nuditi', 'sexi', 'sexier', 'submiss', 'resubmit', 'devil', 'perceiv', 'kiper', 'hairspray', 'squirrel', 'hairpiec', 'anthem', 'sugari', 'splurg', 'procedur', 'both', 'makeup', 'selfi', 'speaker', 'squad', 'jirard', 'deposit', 'govt', 'borrow', 'disclaim', 'budget', 'dollah', 'mill', 'nihil', 'intp', 'existenti', 'contextu', 'determinist', 'intj', 'pragmat', 'thereof', 'genuin', 'disdain', 'celestai', 'aftermath', 'singular', 'perhap', 'coord', 'liberta', 'abduct', 'dropchest', 'impolit', 'vault', 'classi', 'secur', 'plethora', 'prospect', 'bucket', 'heel', 'alrighti', 'feedback', 'host', 'manni', 'floyd', 'toe', 'adam', 'reaaaalli', 'kennen', 'scope', 'degrad', 'torrent', 'koch', 'buck', 'favor', 'blank', 'meantim', 'vic', 'crume', 'novel', 'andrew', 'eta', 'dave', 'controversi', 'anvilici', 'confront', 'sacrifici', 'slab', 'prime', 'convo', 'pie', 'diabet', 'pride', 'dawn', 'comrad', 'microwav', 'jitterbug', 'clarifi', 'legisl', 'outdoor', 'toler', 'unpleas', 'freedom', 'sympath', 'flow', 'thicker', 'fourth', 'sheesh', 'heck', 'fist', 'gem', 'gogok', 'enforc', 'bott', 'blade', 'river', 'miranda', 'arthur', 'observ', 'clone', 'templ', 'ray', 'seam', 'sensor', 'momma', 'fat', 'xander', 'piddli', 'rnh', 'eakin', 'toffoli', 'druid', 'monk', 'palli', 'disc', 'priest', 'resto', 'versatil', 'weav', 'mistweav', 'ador', 'chuck', 'shammi', 'mop', 'mozilla', 'exec', 'mule', 'hybrid', 'cat', 'rubi', 'goodby', 'unbeliev', 'unsourc', 'hyperbol', 'chrome', 'browser', 'axial', 'tilt', 'tourgig', 'excit', 'announc', 'anniversari', 'harmoni', 'furthur', 'jazzfest', 'orlean', 'cafe', 'istanbul', 'april', 'replay', 'access', 'reliv', 'couch', 'an', 'bundl', 'stu', 'jgb', 'phil', 'lesh', 'mar', 'cryptic', 'guitar', 'rob', 'eaton', 'orchestra', 'mitch', 'stein', 'groov', 'gator', 'bob', 'weir', 'ratdog', 'jay', 'drum', 'shop', 'plastic', 'lyric', 'spoileri', 'monorail', 'grodd', 'gorilla', 'trend', 'da', 'kung', 'fu', 'spar', 'forth', 'snack', 'wasabi', 'pea', 'delici', 'gim', 'fake', 'photorealist', 'incorpor', 'microsoft', 'natal', 'monopol', 'necess', 'conserv', 'nomin', 'wheelbas', 'longest', 'baffl', 'shorter', 'propheci', 'bj', 'outfit', 'truer', 'sleev', 'sleeveless', 'sober', 'pl', 'orpik', 'insensit', 'vulner', 'nitpicki', 'assholeish', 'resum', 'fanfic', 'topic', 'moustaka', 'calendar', 'occasion', 'howard', 'samsung', 'touchscreen', 'experienc', 'downsid', 'screenshot', 'imgur', 'playerbas', 'porn', 'vers', 'peyton', 'corey', 'simon', 'ultrasound', 'dh', 'photograph', 'smth', 'pyrion', 'hookah', 'clown', 'mickey', 'viii', 'excess', 'bail', 'shall', 'impos', 'unusu', 'q', 'miser', 'mithic', 'creatur', 'centuar', 'zebrashark', 'wizard', 'tim', 'enchant', 'roam', 'role', 'inspector', 'attic', 'ceil', 'roof', 'effloresc', 'warrant', 'dummi', 'thugass', 'dunleavi', 'salvag', 'greatest', 'presbyterian', 'biblic', 'preload', 'cholula', 'motorcycl', 'tail', 'unexpect', 'stem', 'wealth', 'billion', 'revenu', 'handsom', 'poni', 'yessir', 'rude', 'workout', 'cartoon', 'tmnt', 'congress', 'bipartisan', 'dwell', 'laggi', 'hundredth', 'haze', 'thrill', 'uofu', 'sketch', 'mormon', 'vega', 'um', 'gabba', 'wyckoff', 'kyle', 'ferreira', 'proteu', 'shelton', 'funnier', 'gild', 'wank', 'plural', 'dno', 'vom', 'worthi', 'dislik', 'disinterest', 'flavourless', 'undesir', 'mild', 'cheddar', 'cake', 'flavour', 'paneer', 'similarli', 'bland', 'edibl', 'blend', 'complement', 'cardboard', 'tikka', 'tofu', 'soft', 'blob', 'soy', 'byproduct', 'tvp', 'backpack', 'config', 'kessel', 'leaf', 'disneyland', 'toy', 'wolverin', 'rider', 'rom', 'avali', 'temasek', 'lollipoplooza', 'smoothest', 'kernel', 'hack', 'deton', 'carbin', 'mag', 'twilight', 'highschool', 'mhz', 'juli', 'interpret', 'conclus', 'nate', 'tradingview', 'keyword', 'counti', 'rip', 'yam', 'cite', 'stetson', 'hat', 'fantasi', 'ugh', 'flyer', 'underestim', 'nigger', 'allud', 'shade', 'bdsm', 'secretari', 'prepaid', 'toyota', 'corolla', 'subaru', 'kink', 'tit', 'feather', 'heap', 'lydia', 'uniqu', 'corset', 'mumbl', 'explor', 'shutdown', 'coooould', 'refin', 'жe', 'bi', 'sem', 'ʐə', 'нe', 'se', 'nə', 'əm', 'ʐe', 'te', 'tə', 'əmz', 'œf', 'le', 'lə', 'bɨ', 'ne', 'ɪ', 'mɨʂ', 'cy', 'ty', 'teб', 'aбх', 'goat', 'нa', 'жeб', 'rain', 'шevх', 'leonard', 'troy', 'kingsman', 'vertic', 'outrag', 'context', 'overshadow', 'jeremi', 'renner', 'shoebox', 'creationist', 'deeper', 'slowli', 'pit', 'prey', 'stage', 'verbal', 'pet', 'babysit', 'lessen', 'lastli', 'prioriti', 'bradford', 'blackberri', 'sanskrit', 'illustr', 'interpenetr', 'buddhist', 'philosophi', 'mahayana', 'scriptur', 'avatamsaka', 'sutra', 'huayan', 'multidimension', 'spider', 'dew', 'infinitum', 'condo', 'neither', 'kha', 'zix', 'themat', 'indicit', 'lore', 'hulk', 'met', 'virgin', 'preselect', 'attract', 'overli', 'medusa', 'laner', 'repair', 'hsbc', 'crook', 'killa', 'boar', 'hungri', 'acquir', 'worgen', 'blacksmith', 'ratio', 'zoom', 'borderland', 'loot', 'toast', 'blackburn', 'prof', 'yack', 'ini', 'feminin', 'bo', 'eyebrow', 'drape', 'twitch', 'knit', 'anxiou', 'gangster', 'ocean', 'shave', 'equat', 'elabor', 'insul', 'mast', 'bond', 'mosquito', 'blake', 'offspe', 'strasburg', 'pitcher', 'demean', 'hurdl', 'spp', 'cheat', 'cup', 'realm', 'afterlif', 'proven', 'off', 'caffein', 'beforehand', 'shini', 'ekan', 'endeavor', 'ppp', 'gdp', 'globe', 'ghana', 'adjust', 'refuge', 'newer', 'incomplet', 'deadli', 'disobey', 'lobster', 'daughter', 'slaveri', 'religion', 'disabl', 'disrespect', 'rapist', 'prepubesc', 'inherit', 'pretend', 'jot', 'tittl', 'alter', 'sergeant', 'ribbon', 'pathet', 'whistl', 'groceri', 'hartman', 'downtown', 'aliexpress', 'costco', 'club', 'mayor', 'pakistani', 'albanian', 'romanian', 'greek', 'ethnic', 'rose', 'barbar', 'nope', 'jackson', 'yanke', 'stadium', 'objectifi', 'hug', 'vaal', 'rukin', 'taul', 'chamber', 'avatar', 'ear', 'impuls', 'curtain', 'killer', 'tobascobutthol', 'skull', 'ali', 'baba', 'had', 'shark', 'skank', 'shank', 'sarcasm', 'bitten', 'depot', 'rigor', 'coincident', 'cunt', 'studio', 'trent', 'necrochasm', 'horseman', 'infin', 'until', 'shah', 'mat', 'tate', 'taint', 'metro', 'detroit', 'flood', 'nerf', 'juggernaut', 'kenni', 'bastard', 'greenhous', 'gm', 'frum', 'axi', 'atleast', 'mage', 'carnag', 'accus', 'beliv', 'aka', 'proof', 'euthan', 'van', 'african', 'wilson', 'mike', 'drawn', 'eric', 'narr', 'pact', 'fundament', 'chemistri', 'alchemi', 'contract', 'scour', 'ingredi', 'envelop', 'portabl', 'foremost', 'reu', 'gfycat', 'rd', 'jubile', 'morbid', 'decrepit', 'mortal', 'adopt', 'jeff', 'condescend', 'impass', 'fusion', 'meteo', 'tsm', 'lan', 'scrim', 'reevalu', 'compos', 'seper', 'wether', 'matchup', 'bullock', 'shaq', 'ppg', 'dwight', 'yao', 'ming', 'gasol', 'amar', 'gotchya', 'hawaii', 'molest', 'patti', 'blond', 'kojima', 'reviv', 'infiltr', 'pointless', 'whimper', 'snow', 'besid', 'milk', 'nippl', 'crawl', 'four', 'wolf', 'doubli', 'ambigu', 'gw', 'claus', 'swirl', 'lame', 'text', 'colder', 'grey', 'chief', 'marin', 'reclaim', 'misson', 'index', 'cutscen', 'adnan', 'briefli', 'nisha', 'cathi', 'alibi', 'smoothli', 'unplan', 'streetwis', 'wannab', 'thug', 'flatter', 'redesign', 'york', 'tick', 'diagnos', 'babesiosi', 'antibiot', 'prescrib', 'lyme', 'under', 'documentari', 'felic', 'dingo', 'donga', 'thirsti', 'truffl', 'gloria', 'pasada', 'footer', 'uri', 'handler', 'intervent', 'behavior', 'warfar', 'cod', 'dlc', 'launch', 'gym', 'openli', 'fuj', 'useless', 'prick', 'teenag', 'bu', 'ea', 'burlesqu', 'wore', 'kilt', 'dancer', 'wink', 'cleaner', 'yj', 'rust', 'portland', 'dragic', 'lillard', 'sawmil', 'section', 'transport', 'roommat', 'furthermor', 'yeesh', 'santa', 'cruz', 'sunburn', 'vinc', 'counterspel', 'wf', 'propel', 'undignifi', 'squeek', 'wrap', 'nighttim', 'mindset', 'ottawa', 'ovi', 'canadian', 'calgari', 'mandatori', 'rsi', 'jurisdict', 'superced', 'seller', 'properti', 'blackmarket', 'geez', 'ot', 'meaningless', 'indiana', 'pacer', 'bid', 'nicola', 'written', 'manifesto', 'hostil', 'snp', 'specul', 'confer', 'shadowless', 'raikou', 'latio', 'vast', 'neighbor', 'sheriff', 'beagl', 'regularli', 'bong', 'coconut', 'logger', 'fatal', 'funki', 'locomot', 'invit', 'dinner', 'coalit', 'labour', 'collaps', 'dod', 'rei', 'pleasantli', 'incongru', 'gerri', 'shoelac', 'velcro', 'mil', 'salari', 'confid', 'watercool', 'alimoni', 'wicker', 'gypsi', 'dilbit', 'corros', 'montreal', 'wit', 'hab', 'wallpap', 'daequan', 'ii', 'assassin', 'creed', 'gpu', 'explanatori', 'vac', 'ban', 'piti', 'neat', 'sugarcoat', 'snark', 'deris', 'judgment', 'dig', 'fought', 'throwaway', 'ip', 'subpoena', 'instant', 'breaker', 'redneck', 'alabama', 'homophob', 'camel', 'happili', 'roos', 'pragmatist', 'devoid', 'wed', 'stark', 'ramsay', 'downright', 'sadist', 'deriv', 'redbubbl', 'sticker', 'bool', 'bitter', 'dickish', 'fishi', 'knight', 'republ', 'excel', 'wrpg', 'restort', 'battlefront', 'galact', 'conquest', 'commando', 'shooter', 'trooper', 'undertak', 'depict', 'geograph', 'humor', 'unintellig', 'geographi', 'cali', 'overview', 'subscrib', 'summari', 'domain', 'megathread', 'gen', 'demo', 'resolut', 'width', 'pixel', 'bracket', 'mac', 'conceal', 'oxid', 'scientist', 'peer', 'hominoidea', 'reptil', 'biolog', 'dna', 'ape', 'belong', 'lop', 'guarante', 'isi', 'tangent', 'gobbl', 'publish', 'prais', 'wick', 'franc', 'administr', 'conduct', 'mexican', 'sycamor', 'guider', 'meal', 'cm', 'punk', 'chant', 'comfi', 'syntra', 'hvac', 'technician', 'drag', 'cvo', 'vdab', 'summon', 'dealership', 'pro', 'sy', 'spammer', 'guidelin', 'shadowban', 'construct', 'refrain', 'maintain', 'again', 'clog', 'promot', 'musician', 'creation', 'instrument', 'mashup', 'multireddit', 'dedic', 'protect', 'permalink', 'sliver', 'biodegrad', 'dankest', 'convolut', 'clichéd', 'cathol', 'uniform', 'grader', 'madison', 'cainhurst', 'chalic', 'presid', 'ashevil', 'mass', 'cert', 'uni', 'r', 'fap', 'maggot', 'hail', 'debt', 'grovel', 'cereal', 'hook', 'vancouverianit', 'hassl', 'ehhh', 'vim', 'emac', 'discoveri', 'skeev', 'incit', 'esc', 'somehow', 'filli', 'minimap', 'missha', 'swatch', 'pointer', 'overlook', 'philli', 'jamei', 'phillip', 'twirl', 'chakram', 'dant', 'overhead', 'preexist', 'chariti', 'emilia', 'clark', 'manziel', 'undef', 'voicel', 'rack', 'fowler', 'fov', 'shambl', 'crafter', 'unbox', 'arriv', 'leagueoflegend', 'iloveplaterpuss', 'rougelik', 'georgia', 'rod', 'rylai', 'valid', 'smurf', 'plat', 'sertralin', 'awhil', 'bk', 'outer', 'brake', 'pad', 'dimpl', 'ate', 'piston', 'needless', 'calip', 'soooo', 'glimmer', 'cape', 'imbalanc', 'slark', 'boldfac', 'meh', 'alteriw', 'sketchi', 'sinist', 'bodyfat', 'composit', 'physiqu', 'andrematt', 'alic', 'mommi', 'casserol', 'navajo', 'spiritu', 'grandmoth', 'yenaldlooshi', 'ensur', 'amok', 'spanton', 'simpler', 'terrifi', 'clariti', 'opaqu', 'hologram', 'rifl', 'stranger', 'rioter', 'inaccur', 'vile', 'persh', 'jelou', 'sink', 'toni', 'skater', 'crossfit', 'conveni', 'imac', 'intel', 'ssd', 'yosemit', 'blaze', 'rig', 'pcpartpick', 'fedora', 'strongli', 'disprov', 'ikea', 'sweden', 'sloth', 'poo', 'bacon', 'chuckl', 'duel', 'exempt', 'donor', 'deduct', 'agi', 'floor', 'bottleneck', 'troop', 'smartli', 'angel', 'reapprov', 'url', 'assist', 'automod', 'traffick', 'rotor', 'driveway', 'setup', 'carv', 'basepl', 'assur', 'ludwig', 'purs', 'colourblind', 'atlant', 'stripper', 'owe', 'theatr', 'mose', 'unjustli', 'mumia', 'upstand', 'brutu', 'cinemat', 'swear', 'franchis', 'quarterback', 'petit', 'ubisoft', 'superhuman', 'tourni', 'ww', 'fluctuat', 'donut', 'discard', 'hunson', 'concur', 'guuuuuuuuuuuuy', 'sethhack', 'gmod', 'garri', 'visualis', 'timet', 'werribe', 'altona', 'rep', 'dean', 'detent', 'label', 'usag', 'linspac', 'theta', 'correspond', 'convert', 'cartesian', 'dot', 'manual', 'cmap', 'gist', 'buri', 'overcom', 'insight', 'humanli', 'solo', 'deu', 'workflow', 'yah', 'napervil', 'apach', 'cleric', 'gentlemen', 'strand', 'posess', 'inspect', 'willingli', 'john', 'führer', 'co', 'reef', 'gallon', 'strife', 'hitter', 'britain', 'noon', 'frontlin', 'tome', 'caller', 'aphro', 'choke', 'fn', 'mehta', 'lck', 'qualifi', 'weirder', 'bureau', 'ingest', 'aa', 'goddam', 'chore', 'ilvl', 'acan', 'hitler', 'til', 'tyrion', 'projector', 'chemic', 'nonfunct', 'cd', 'unretriev', 'hormon', 'incentiv', 'compel', 'ration', 'probe', 'speci', 'capac', 'scientif', 'bind', 'simultan', 'gatekeep', 'registr', 'feder', 'motor', 'carrier', 'safeti', 'fmcsa', 'publicli', 'databas', 'scorch', 'outbound', 'tm', 'fleetmat', 'mainten', 'dept', 'esp', 'grump', 'sarcast', 'parodi', 'complaint', 'lawyer', 'colloqui', 'resid', 'strayan', 'hola', 'unblock', 'mandat', 'flustrat', 'grandfath', 'mexico', 'urban', 'beaten', 'athlet', 'ryan', 'skeptic', 'twitter', 'rockshox', 'sektor', 'fork', 'blow', 'pike', 'calliop', 'uu', 'peep', 'symbol', 'cherub', 'liveblogg', 'bandcamp', 'reloc', 'uproot', 'crappiest', 'shard', 'clearer', 'stronger', 'quiet', 'dozla', 'sacr', 'belli', 'upbeat', 'hammi', 'demeanor', 'rival', 'berserk', 'ross', 'garcia', 'nich', 'axeman', 'garden', 'gnome', 'classroom', 'engag', 'backfir', 'hose', 'br', 'commission', 'gengi', 'khan', 'tryndamer', 'smith', 'condon', 'brutal', 'hae', 'sizabl', 'userbas', 'awwww', 'kat', 'trash', 'walter', 'platoon', 'sausag', 'hispano', 'sooo', 'static', 'aff', 'bootcamp', 'proxi', 'lull', 'paradox', 'martyrdom', 'unhealthi', 'wipeout', 'insuffer', 'obsess', 'mainstream', 'opt', 'mmm', 'mislead', 'meme', 'discrimin', 'workplac', 'lawsuit', 'meager', 't', 'oppressor', 'ftfi', 'sect', 'teaser', 'bair', 'pivot', 'scissor', 'crucial', 'jab', 'tldr', 'icp', 'hanson', 'copper', 'bourgouis', 'silli', 'obnoxi', 'talker', 'unheard', 'root', 'ツ', 'banner', 'cursiv', 'ssj', 'frieza', 'transform', 'lagerwey', 'ml', 'concacaf', 'cwc', 'sounder', 'tyler', 'swallow', 'reconsid', 'prefix', 'www', 'dish', 'homeown', 'inexperienc', 'amongst', 'botown', 'changelog', 'ambros', 'restructur', 'pixma', 'ink', 'autofe', 'tray', 'duplex', 'dent', 'wireless', 'cloudprint', 'airplay', 'alien', 'macaroni', 'basi', 'mp', 'blackout', 'nike', 'menac', 'raider', 'david', 'lee', 'flop', 'furnitur', 'genesi', 'era', 'secret', 'ohhhhhh', 'examin', 'wheelchair', 'blowjob', 'radic', 'whatnot', 'acquaint', 'vocal', 'bolster', 'flinch', 'lump', 'nonsens', 'umm', 'peach', 'frost', 'berri', 'methyl', 'carbon', 'dioxid', 'boron', 'tint', 'flame', 'bunsen', 'burner', 'fuel', 'falcon', 'irrat', 'masahiro', 'sakurai', 'underrepres', 'overrepres', 'capita', 'pickax', 'extort', 'buyout', 'tone', 'copypasta', 'visibl', 'donat', 'pr', 'sanji', 'orb', 'mihawk', 'moreso', 'bias', 'straightforwardli', 'evidenc', 'dismiss', 'unwelcom', 'wager', 'valv', 'plaster', 'their', 'recap', 'hid', 'easter', 'dian', 'frisbe', 'labl', 'recipi', 'blew', 'mobo', 'tensil', 'exponenti', 'contractor', 'waffl', 'protein', 'proprietari', 'emerg', 'distant', 'government', 'sector', 'prohibit', 'discourag', 'vpn', 'unlucki', 'nail', 'stroke', 'princip', 'evolv', 'madam', 'rewatch', 'std', 'dontcha', 'cav', 'scout', 'bread', 'crevic', 'tarzan', 'tumbl', 'fade', 'temptat', 'ghoulish', 'reynold', 'jake', 'breakfast', 'hypnagog', 'imageri', 'englishman', 'french', 'bout', 'cliti', 'thursday', 'floofi', 'refus', 'cutler', 'heatsink', 'silverston', 'zalman', 'amulet', 'wield', 'adrianna', 'scumbag', 'cater', 'dropout', 'intens', 'readili', 'builder', 'shulk', 'seatbelt', 'reckless', 'gsd', 'neuter', 'monti', 'familiar', 'testicular', 'treatment', 'castrat', 'hoax', 'environmentalist', 'industrialist', 'coal', 'environmenralist', 'elway', 'camouflag', 'sunscreen', 'predat', 'cretac', 'coloni', 'immigr', 'negro', 'quip', 'tyrant', 'thoma', 'nast', 'sequel', 'beecher', 'thou', 'hoffman', 'execr', 'cowardli', 'carcass', 'rot', 'doctrin', 'commonest', 'vermin', 'afflict', 'ouch', 'scefter', 'jaelon', 'perriman', 'necrom', 'codifi', 'archetyp', 'classic', 'align', 'dishonor', 'necromant', 'categori', 'gestur', 'execut', 'corps', 'mindless', 'kindli', 'abhorr', 'innat', 'corrupt', 'caster', 'pf', 'anchor', 'undead', 'slain', 'golarian', 'pharasma', 'goddess', 'abhor', 'pervers', 'shtick', 'tortur', 'necromanc', 'pitfal', 'pedant', 'licenc', 'criticis', 'instanc', 'quango', 'asp', 'boilerpl', 'myspac', 'center', 'detriment', 'affianc', 'against', 'parad', 'down', 'byob', 'kany', 'sabbath', 'ua', 'untru', 'quantum', 'qubit', 'methodolog', 'adiabat', 'wavefunct', 'algorithm', 'previous', 'josephson', 'junction', 'songcraft', 'candi', 'bomber', 'remark', 'standup', 'sheep', 'unicorn', 'firefox', 'youth', 'armori', 'whop', 'battalion', 'paladin', 'pistol', 'sidearm', 'gunner', 'asspil', 'crew', 'unrest', 'dress', 'sqn', 'colour', 'odditi', 'whitey', 'lucr', 'dayjob', 'genisi', 'thriller', 'andr', 'allemand', 'jerom', 'andri', 'michael', 'anglin', 'armijo', 'alan', 'taylor', 'await', 'upcom', 'fiction', 'laeta', 'kalogridi', 'patrick', 'lussier', 'fifth', 'theatric', 'arnold', 'schwarzenegg', 'repris', 'titular', 'newcom', 'jason', 'jai', 'courtney', 'matt', 'simmon', 'paramount', 'imax', 'imdb', 'freebas', 'wikipedia', 'rotten', 'tomato', 'metacrit', 'jam', 'franki', 'repsons', 'delus', 'scrub', 'brawl', 'olimar', 'pikmin', 'influenti', 'tourney', 'restaur', 'hipster', 'bubbl', 'extravert', 'irl', 'inadvert', 'birthday', 'tacki', 'palest', 'mammoth', 'hydra', 'teleport', 'passag', 'hairi', 'tal', 'delrasha', 'juggl', 'thundercunt', 'thunder', 'ptsd', 'outlet', 'ursa', 'bargain', 'bin', 'radiohead', 'hume', 'pardon', 'inappropri', 'vocabulari', 'certainti', 'insist', 'pedro', 'ws', 'hockey', 'bleach', 'nsfwish', 'backwat', 'hick', 'planet', 'carpet', 'trashi', 'nofap', 'tenri', 'henri', 'gaug', 'expertli', 'fshop', 'elhaseus', 'matchmak', 'endless', 'hord', 'narcissist', 'brand', 'depress', 'overarch', 'backdrop', 'skyrim', 'lightsab', 'yu', 'bae', 'hood', 'cheapest', 'ummmm', 'drama', 'odysseu', 'inhand', 'similarili', 'polynomicon', 'yest', 'despic', 'supremacist', 'politician', 'spread', 'censor', 'factual', 'demonstr', 'fbi', 'poverti', 'domin', 'homework', 'poison', 'repugn', 'agenc', 'nihlium', 'chao', 'dm', 'hardwar', 'lineup', 'footact', 'armpit', 'bone', 'jumper', 'acuali', 'sith', 'bechdel', 'mako', 'mori', 'defici', 'advocaci', 'portray', 'metric', 'infal', 'rarewar', 'rool', 'welp', 'cmp', 'deliveri', 'compil', 'intestin', 'shayanw', 'illidan', 'mythic', 'puszu', 'yellowstar', 'botlan', 'royal', 'semifin', 'ez', 'heaven', 'hamburg', 'beef', 'sugarless', 'niner', 'suitabl', 'wiki', 'btn', 'modqueu', 'hypergami', 'institution', 'societ', 'norm', 'imper', 'compli', 'brew', 'volley', 'gaffot', 'wet', 'gaben', 'asap', 'sweep', 'surprisingli', 'xc', 'defect', 'regul', 'hera', 'boston', 'canyon', 'agricultur', 'guardian', 'ana', 'skuld', 'muse', 'valk', 'lzl', 'keeper', 'downgrad', 'clientel', 'ultimatum', 'trojan', 'ransom', 'extortionist', 'freeness', 'premium', 'actuat', 'flush', 'tactil', 'gamma', 'imprint', 'exposur', 'mushroom', 'wherein', 'evacu', 'withstand', 'regen', 'trait', 'radioact', 'drift', 'margin', 'enthusiast', 'bjerg', 'dumpster', 'bjergsen', 'sight', 'nooo', 'peni', 'zidan', 'finest', 'passer', 'madden', 'gameplay', 'hoodi', 'theater', 'extract', 'scarjo', 'toasti', 'crank', 'mighti', 'smelli', 'idl', 'unlit', 'propan', 'torch', 'throttl', 'gasket', 'noid', 'injector', 'puls', 'hiccup', 'yakuman', 'tenhou', 'snazzi', 'ref', 'foul', 'pouti', 'mcpouterson', 'ahhh', 'hike', 'cellular', 'autom', 'framework', 'inact', 'oijdarklord', 'mcmahon', 'intef', 'brock', 'taker', 'streak', 'sudden', 'bischoff', 'heyman', 'thefourth', 'sewer', 'cowboy', 'crotch', 'suspend', 'med', 'lithium', 'liver', 'preserv', 'kimbl', 'vivid', 'stair', 'creek', 'hiss', 'crocodil', 'scrambl', 'scream', 'croc', 'meteorit', 'blown', 'paralysi', 'screech', 'blink', 'stomach', 'crouch', 'pounc', 'leap', 'fuuuuuuuuuuuuuuuuuu', 'millisecond', 'haz', 'cz', 'guacamol', 'selenium', 'java', 'branch', 'javascript', 'python', 'par', 'dekalb', 'conced', 'southern', 'cmon', 'hemispher', 'colorschem', 'piggyback', 'arena', 'kaboom', 'reset', 'binari', 'ecu', 'pulledman', 'dumbjok', 'shook', 'manipul', 'rubick', 'cow', 'elev', 'instanti', 'paramet', 'inde', 'valor', 'elsbeth', 'recreat', 'belushi', 'gram', 'dbrandinc', 'abbathur', 'stab', 'longish', 'cooldown', 'shield', 'spike', 'ish', 'dart', 'abba', 'panther', 'cam', 'marth', 'cg', 'uthrow', 'hometown', 'rim', 'sorta', 'shape', 'momentum', 'missil', 'airplan', 'tranc', 'preced', 'cydia', 'criteria', 'voter', 'bosom', 'toke', 'uncl', 'jess', 'gordon', 'redeem', 'innov', 'blunt', 'compromis', 'beneath', 'aircraft', 'proport', 'metabol', 'richardson', 'lifesav', 'handcuf', 'shackl', 'jenson', 'lewi', 'hr', 'afk', 'jalen', 'monstrou', 'indirectli', 'stagger', 'halfway', 'assumpt', 'wildlif', 'hedgehog', 'hatchback', 'pathway', 'sidewalk', 'anybodi', 'butki', 'hangtim', 'successful', 'theoret', 'anonimis', 'flak', 'verdun', 'gamer', 'peasant', 'toung', 'cheek', 'peasantri', 'apologis', 'behaviour', 'ammend', 'session', 'takeaway', 'folder', 'archiv', 'threshhold', 'therapist', 'psychiatrist', 'philosoph', 'stoic', 'allegedli', 'weigh', 'shirin', 'editor', 'repeatedli', 'upris', 'caricatur', 'likabl', 'triumphant', 'victori', 'manufactur', 'rupert', 'tragic', 'bootlist', 'yt', 'victimless', 'fantasia', 'ghostli', 'revel', 'grom', 'orc', 'raspberri', 'rib', 'unprov', 'wouldnt', 'nobleknight', 'tin', 'anionbot', 'pose', 'proletariat', 'palm', 'reg', 'vanagon', 'vw', 'danish', 'sneaki', 'brace', 'crouton', 'carrot', 'paypal', 'rebat', 'chapter', 'marx', 'usb', 'volt', 'charger', 'dustin', 'echo', 'rewrit', 'oxford', 'comma', 'misconstru', 'snap', 'rail', 'bpa', 'gurley', 'belt', 'seth', 'ss', 'mannnn', 'evad', 'impun', 'subsidi', 'fiddl', 'unscrew', 'compart', 'misplac', 'signal', 'commut', 'nicotin', 'emblem', 'er', 'banel', 'snipe', 'loudli', 'invari', 'exagger', 'sake', 'chef', 'requisit', 'eyelin', 'itali', 'yoshi', 'abq', 'stood', 'walt', 'rko', 'outta', 'trope', 'reassur', 'poop', 'urgenc', 'roh', 'realist', 'provok', 'usernam', 'calm', 'ayoz', 'perez', 'euro', 'newcastl', 'nearer', 'shepard', 'latest', 'dbz', 'thrive', 'batcav', 'fave', 'sonic', 'knuckl', 'runner', 'chronicl', 'brotherhood', 'shadow', 'recolor', 'uncolor', 'liek', 'auction', 'anytim', 'pronounc', 'gp', 'phantom', 'racer', 'rs', 'taichi', 'knox', 'sp', 'fwiw', 'xxxl', 'xxl', 'privileg', 'scroll', 'spaz', 'spa', 'arrang', 'wolfhound', 'tng', 'brantley', 'partial', 'fatebring', 'ascend', 'attain', 'node', 'recognis', 'overton', 'journal', 'monthli', 'badg', 'salvi', 'mebb', 'lavern', 'shirley', 'mckean', 'tp', 'rice', 'vbscript', 'linux', 'scar', 'lcg', 'goate', 'gilligan', 'shelf', 'pal', 'sheik', 'strawberri', 'oreo', 'newshour', 'porsch', 'ferrari', 'kuno', 'lazi', 'hinami', 'ghoul', 'kagun', 'kakuja', 'rc', 'cannib', 'smoothi', 'constraint', 'tooth', 'savori', 'chimborazo', 'everest', 'schemat', 'centr', 'cuidando', 'lo', 'nino', 'nnnnnnngh', 'strongest', 'angela', 'merkel', 'stanni', 'triumph', 'overst', 'overkil', 'haphazardli', 'shitili', 'lc', 'pob', 'fanboy', 'krepo', 'freezer', 'temperatur', 'defrost', 'grandpa', 'fountain', 'calligraphi', 'pelikan', 'logo', 'wut', 'kauai', 'darn', 'lush', 'dryer', 'rasta', 'ganja', 'rosi', 'ness', 'lapi', 'shell', 'misquot', 'splenda', 'scotch', 'sherman', 'bum', 'pat', 'juggalo', 'syria', 'geopolit', 'sunni', 'shia', 'genocid', 'canfora', 'iirc', 'arti', 'fartsi', 'raw', 'slr', 'megapixel', 'jpg', 'border', 'headquart', 'slap', 'butku', 'exclud', 'permiss', 'paperwork', 'ukip', 'yall', 'urf', 'warwick', 'extinct', 'analysi', 'nefarian', 'varianc', 'shredder', 'circumst', 'thoughtsteal', 'ysera', 'chrommagu', 'tampon', 'ars', 'l', 'cutti', 'gin', 'salut', 'geno', 'neal', 'knife', 'gl', 'penta', 'invert', 'oa', 'grimscal', 'oracl', 'silverback', 'patriarch', 'magma', 'rager', 'threaten', 'yeti', 'headach', 'curtail', 'spring', 'storag', 'badass', 'sympathi', 'hire', 'shisha', 'combust', 'shisa', 'roger', 'goodel', 'precid', 'justif', 'occurr', 'hindu', 'lifestyl', 'dismay', 'adequ', 'crosbi', 'malkin', 'downer', 'pd', 'momo', 'heartbreak', 'overeat', 'billi', 'okc', 'miller', 'horford', 'noah', 'brewer', 'parson', 'beal', 'monday', 'sensit', 'insignific', 'sincer', 'outburst', 'messi', 'aomori', 'efficaci', 'deterr', 'presidenti', 'sepia', 'skew', 'distort', 'salvador', 'dali', 'creep', 'abe', 'lincoln', 'stretch', 'bye', 'footag', 'darren', 'sharper', 'bucker', 'traindart', 'bold', 'fackk', 'vomit', 'turnaround', 'honesti', 'gyno', 'meetup', 'giliuss', 'eur', 'jp', 'knowingli', 'baker', 'ae', 'servant', 'bulli', 'doj', 'coral', 'nightclub', 'shoutout', 'semp', 'nurfac', 'rlc', 'gandalf', 'cloudbridg', 'vpx', 'attach', 'cb', 'foreskin', 'pinch', 'cutch', 'dickerson', 'myer', 'shrug', 'anti', 'prosecutor', 'supernova', 'union', 'alf', 'torah', 'prestigi', 'firm', 'harvard', 'textbook', 'secondari', 'oral', 'infinit', 'gullibl', 'contagi', 'magnitud', 'gamerg', 'barrel', 'arcad', 'shahz', 'breakup', 'prosper', 'psychiatri', 'checkbox', 'autoupd', 'sweeten', 'januari', 'broni', 'avast', 'fluttershi', 'septemb', 'dt', 'gibson', 'wooooooooooo', 'monologu', 'plagu', 'un', 'overpopul', 'substitut', 'lambda', 'dv', 'cardio', 'racquetbal', 'aqua', 'aerob', 'zumba', 'ginger', 'katya', 'fridg', 'blockabl', 'someday', 'teabag', 'bounti', 'kiddo', 'skyland', 'icon', 'cyanid', 'taeyang', 'dayum', 'marrow', 'inexperinc', 'mech', 'blueflam', 'hellion', 'harass', 'relax', 'lilina', 'lugh', 'raigh', 'rng', 'unreason', 'symptom', 'refere', 'committe', 'savior', 'liabil', 'surcharg', 'exce', 'threshold', 'peak', 'regiment', 'errywher', 'ab', 'supe', 'zorro', 'costum', 'influenc', 'tu', 'annual', 'supermarket', 'classifi', 'shaver', 'touchup', 'boymod', 'varieti', 'abdomen', 'minorli', 'wardrob', 'fazer', 'campus', 'avil', 'inanim', 'default', 'modul', 'addison', 'gotrp', 'genit', 'pixil', 'censorship', 'embarrassingli', 'whichev', 'bernat', 'whoever', 'rowl', 'morningwood', 'smallest', 'jff', 'deter', 'whoa', 'backer', 'goof', 'hereo', 'tide', 'timbersaw', 'psychot', 'carpark', 'htc', 'firmwar', 'tinker', 'sorc', 'sorcer', 'grenad', 'mastumeh', 'qarme', 'idlib', 'warrior', 'hmmmm', 'lick', 'manli', 'ooohh', 'neckbeard', 'tingl', 'enlighten', 'chili', 'asada', 'salsa', 'guna', 'mbp', 'ethernet', 'uggghh', 'ditch', 'digger', 'retir', 'pole', 'jan', 'sitter', 'krill', 'aquacultur', 'pellet', 'livestock', 'nutraceut', 'dietari', 'supplement', 'philip', 'elizabeth', 'chair', 'aeroplan', 'submarin', 'cantones', 'entranc', 'flung', 'blog', 'notwizard', 'jafar', 'almond', 'lesson', 'trimmer', 'immediatley', 'asset', 'marraig', 'legliz', 'fiscal', 'uniti', 'kiosk', 'oust', 'orgasm', 'nude', 'classmat', 'rsd', 'hahah', 'brofessor', 'purgatori', 'caterpillar', 'cocoon', 'herd', 'squeez', 'sack', 'championsuggest', 'kush', 'balotelli', 'cig', 'neglig', 'pregnanc', 'activis', 'treyarch', 'nintendo', 'drain', 'nose', 'advis', 'piercer', 'bayer', 'aspirin', 'distil', 'levi', 'jean', 'inseam', 'mmmm', 'bingo', 'etf', 'admir', 'sl', 'timelaps', 'accura', 'clearvu', 'sla', 'ipro', 'rpm', 'torqu', 'diminish', 'ƀ', 'innoc', 'carniv', 'minu', 'dud', 'quo', 'oscar', 'marcia', 'nephene', 'kieran', 'stefan', 'gatri', 'rolf', 'reyson', 'jill', 'elincia', 'dirt', 'sitcom', 'senseless', 'spacedick', 'psbl', 'jaeger', 'tailgat', 'starvat', 'stuf', 'feebl', 'mvp', 'segment', 'ebook', 'webinar', 'disciplin', 'disord', 'hubbub', 'hater', 'djc', 'coolest', 'tho', 'indonesia', 'prosecut', 'court', 'rife', 'disservic', 'unreport', 'toilet', 'despis', 'sli', 'pepper', 'cracker', 'businessmen', 'spous', 'such', 'nine', 'ambient', 'ambienc', 'midi', 'squeal', 'soup', 'veget', 'hitman', 'repost', 'insult', 'cynic', 'duplicit', 'writer', 'zak', 'eron', 'laptop', 'deceit', 'smear', 'journalist', 'elig', 'et', 'eschew', 'britter', 'trainer', 'yesss', 'toxocariasi', 'litter', 'spiderman', 'wacom', 'intuo', 'mew', 'swampert', 'mors', 'rent', 'scent', 'babadook', 'stubborn', 'wax', 'gatsbi', 'chikuhodu', 'fanni', 'worn', 'deadgiveway', 'toysru', 'toywiz', 'bbt', 'typeerror', 'float', 'setcursorpo', 'fittit', 'foolish', 'friday', 'tpo', 'ppl', 'overreact', 'yifu', 'unwant', 'kron', 'supajoint', 'aforement', 'waaaaaa', 'eisen', 'irvin', 'nana', 'occ', 'cano', 'disput', 'discours', 'jade', 'magazin', 'haiti', 'lookin', 'libertarian', 'kooki', 'pmo', 'cultiv', 'lacksidas', 'yharnam', 'dat', 'dayuuuum', 'shhh', 'afterthought', 'clipper', 'choreograph', 'ode', 'joy', 'flypast', 'battlegroup', 'vener', 'schuman', 'gasperi', 'monnet', 'spaak', 'spinelli', 'stereotyp', 'theyr', 'specialis', 'marksmanship', 'skirmish', 'masteri', 'wilder', 'specilis', 'longbow', 'shortbow', 'hamper', 'seahawk', 'turd', 'frag', 'dupe', 'imman', 'rapper', 'deviantzen', 'swastika', 'burrow', 'watermellon', 'overweight', 'organ', 'vain', 'copious', 'merit', 'scholar', 'gpa', 'succeed', 'strait', 'oman', 'classif', 'dover', 'malacca', 'mere', 'signatori', 'abnorm', 'playa', 'pore', 'enviou', 'pilot', 'mississippi', 'dime', 'famer', 'derp', 'beerfest', 'ponytail', 'thong', 'wedgi', 'standout', 'immodestli', 'midriff', 'rectal', 'barb', 'oooooo', 'hurri', 'curli', 'usopp', 'augur', 'oath', 'composur', 'affili', 'enabl', 'contemporari', 'schoenberg', 'nijinski', 'pollock', 'minuscl', 'mega', 'semest', 'enact', 'avalon', 'scion', 'honda', 'majorli', 'xbox', 'milwauke', 'disregard', 'repo', 'milleni', 'halllefuckinluja', 'grammat', 'sic', 'butcher', 'quotat', 'inconveni', 'goku', 'vegeta', 'gohan', 'witti', 'outsmart', 'faulcon', 'ost', 'trench', 'nylon', 'pcmr', 'robit', 'handwrit', 'impal', 'blowoff', 'kryptonit', 'microchip', 'bouncer', 'holo', 'milimet', 'jewel', 'loup', 'dissolv', 'hydrochlor', 'acid', 'pt', 'gotg', 'thor', 'civic', 'lambo', 'barcelona', 'geniu', 'thibb', 'zaff', 'craigslist', 'kayak', 'carpool', 'livonia', 'chipper', 'walton', 'forslund', 'wolfenstein', 'anbeav', 'asham', 'panic', 'bloat', 'hopeless', 'overwhelm', 'geezu', 'thanksgiv', 'secular', 'dubnyk', 'nake', 'anthropolog', 'peski', 'extreeem', 'closeup', 'tenner', 'khz', 'dandi', 'jag', 'ecstat', 'graviti', 'richer', 'gta', 'circadian', 'fiiiirreee', 'powerlanguag', 'vu', 'mkx', 'ari', 'sympathet', 'virtu', 'petal', 'stool', 'granit', 'mustard', 'doggi', 'nsync', 'spooki', 'glare', 'rhetor', 'ant', 'spout', 'righteous', 'brass', 'applianc', 'prize', 'fax', 'denial', 'medal', 'pacha', 'analogu', 'earplug', 'hissi', 'elixir', 'drill', 'hound', 'pronunci', 'ohio', 'preorder', 'scandal', 'eec', 'ftw', 'mirot', 'ricki', 'churn', 'pancak', 'syrup', 'butteri', 'complimentari', 'matchbook', 'dealer', 'distrust', 'zoe', 'peter', 'russo', 'rachel', 'demis', 'christina', 'arent', 'luke', 'cement', 'postur', 'grip', 'downtim', 'flap', 'jarvi', 'eshop', 'sapphir', 'verizon', 'mc', 'cardnam', 'partway', 'devast', 'eco', 'incent', 'gov', 'propagandaish', 'leavi', 'unmistak', 'bask', 'apertur', 'focal', 'shutter', 'iso', 'catalog', 'beggin', 'melodramat', 'capitalist', 'democrraci', 'chopper', 'underperform', 'fnatic', 'roseann', 'airport', 'mari', 'vodka', 'corphish', 'thib', 'martyr', 'spellcast', 'synerg', 'gunsling', 'grit', 'potent', 'hex', 'aoo', 'reflex', 'cmd', 'bane', 'aura', 'draenor', 'maraad', 'timelin', 'tabernacl', 'atl', 'earthlink', 'bn', 'elton', 'cmt', 'undeni', 'agent', 'horrend', 'canist', 'brittl', 'nva', 'fiasco', 'barley', 'arvn', 'ford', 'radar', 'respawn', 'wybeast', 'deinonychu', 'lend', 'deflect', 'gosh', 'btx', 'trader', 'desktop', 'marrig', 'daewoo', 'fal', 'solv', 'overconsum', 'cymbal', 'egregi', 'iphon', 'hs', 'osprey', 'tempest', 'hipbelt', 'attitud', 'thorin', 'famou', 'grill', 'thinli', 'veil', 'pander', 'dubai', 'fabul', 'podast', 'automoder', 'borat', 'butterfli', 'moth', 'rariti', 'ssb', 'oi', 'carn', 'sporto', 'pgp', 'perstig', 'sniper', 'goddamn', 'rivalri', 'chi', 'hernandez', 'raul', 'cosmo', 'violet', 'bliss', 'touchwiz', 'lollipop', 'snappier', 'titanium', 'deist', 'vouch', 'lgr', 'them', 'grave', 'tina', 'chin', 'fupa', 'droop', 'snowman', 'nile', 'egypt', 'naw', 'hotshot', 'modship', 'muspah', 'jealou', 'vlan', 'gigabit', 'modem', 'blinker', 'voy', 'levantar', 'el', 'hilo', 'easli', 'inerti', 'dampen', 'thruster', 'bloatwar', 'fragment', 'textview', 'mytextview', 'alloc', 'behalf', 'tester', 'psn', 'eziszero', 'stint', 'worldpow', 'crass', 'instalock', 'senpai', 'pioxi', 'starmi', 'otp', 'weaken', 'punctur', 'mmo', 'sigh', 'painless', 'stra', 'dugout', 'particl', 'tangibl', 'compact', 'uptak', 'antimatt', 'dimension', 'firmli', 'flatland', 'sokllllllll', 'baz', 'basil', 'unsmart', 'maneuv', 'percuss', 'monosyl', 'nigga', 'rome', 'fr', 'ovat', 'afterword', 'quintessenti', 'concurr', 'mnk', 'lnc', 'invigor', 'fractur', 'mrd', 'honey', 'matur', 'diff', 'jk', 'goodun', 'napkin', 'soujorn', 'loader', 'ol', 'happycow', 'sensat', 'eaten', 'hammer', 'mediocr', 'yasuo', 'nami', 'hecarim', 'techniqu', 'fizz', 'nasu', 'rengar', 'leblanc', 'vayn', 'introductori', 'misl', 'defibril', 'cpr', 'ineffect', 'strawman', 'sadfac', 'tabzz', 'nyph', 'anu', 'nest', 'msi', 'nazr', 'crossey', 'refreshrefreshrefreshrefreshrefreshrefreshrefreshrefreshrefreshrefreshrefreshrefreshrefreshrefreshrefreshrefreshrefreshrefreshrefreshrefreshrefreshrefreshrefreshrefreshrefreshrefreshrefreshrefreshrefreshrefreshrefreshrefreshrefreshrefreshrefreshrefreshrefreshrefreshrefreshrefreshrefreshrefreshrefreshrefreshrefreshrefreshrefreshrefreshrefreshrefreshrefreshrefreshrefreshrefreshrefreshrefreshrefreshrefreshrefreshrefreshrefreshrefreshrefreshrefreshrefreshrefreshrefreshrefreshrefreshrefreshrefreshrefreshrefreshrefreshrefreshrefreshrefreshrefreshrefreshrefreshrefreshrefreshrefreshrefreshrefreshrefreshrefreshrefreshrefreshrefreshrefreshrefreshrefreshrefreshrefreshrefreshrefreshrefreshrefreshrefreshrefreshrefreshrefreshrefreshrefreshrefreshrefreshrefreshrefreshrefreshrefreshrefreshrefreshrefreshrefreshrefreshrefreshrefreshrefreshrefreshrefreshrefreshrefreshrefreshrefreshrefreshrefreshrefreshrefreshrefreshrefreshrefreshrefreshrefreshrefreshrefreshrefreshrefreshrefreshrefreshrefreshrefreshrefr', 'steroid', 'crashing', 'acapella', 'bayonet', 'mw', 'golden', 'reforg', 'buccan', 'deez', 'dinosaur', 'through', 'sneak', 'suspicion', 'dupre', 'lucian', 'serqet', 'cdr', 'shakespear', 'hamlet', 'playabl', 'downhil', 'thewarz', 'reliev', 'traumat', 'garner', 'necessit', 'clash', 'worker', 'agreement', 'ffxii', 'apreci', 'neofag', 'overrun', 'tranni', 'simplist', 'buuuuut', 'allegori', 'kite', 'curd', 'shinigami', 'bandaid', 'polysporin', 'caramel', 'sweati', 'burnout', 'honeydew', 'dove', 'aj', 'shortli', 'followup', 'meltzer', 'nikki', 'diner', 'café', 'portrait', 'sacramento', 'omfg', 'arni', 'receptionist', 'allerg', 'mum', 'mcdavid', 'dentist', 'gulag', 'muffl', 'ron', 'ruthless', 'unreli', 'tenouttaten', 'bose', 'massag', 'vanguard', 'fidel', 'citigold', 'parenthesi', 'typ', 'deer', 'mount', 'quirki', 'taxidermi', 'sn', 'bulk', 'jail', 'snell', 'antsi', 'breakaway', 'nbc', 'nash', 'gkr', 'lipsync', 'scoreboard', 'overhyp', 'payload', 'mun', 'ker', 'δv', 'lko', 'aero', 'avenu', 'envis', 'confetti', 'onec', 'asu', 'econom', 'slump', 'alfalfa', 'farmer', 'commod', 'bean', 'emporio', 'mott', 'palma', 'cornelia', 'doen', 'murdock', 'levonorgestrel', 'postag', 'ellaon', 'uliprist', 'acet', 'legitimis', 'vow', 'kylo', 'ren', 'handjob', 'rad', 'lightakin', 'kipner', 'steel', 'buc', 'plumber', 'tan', 'telephoni', 'conceptu', 'theodor', 'paraskevako', 'patent', 'telephon', 'smartphon', 'boe', 'huntsvil', 'transmitt', 'pda', 'leesburg', 'sunspear', 'dorn', 'referendum', 'huskar', 'sharpnel', 'phoenix', 'arkham', 'asylum', 'backlog', 'kinnect', 'tfa', 'ecigexpress', 'imbecil', 'columbia', 'februari', 'filthi', 'pusher', 'absolv', 'necro', 'gyro', 'barag', 'downward', 'huff', 'growl', 'agit', 'zoomi', 'schmuck', 'masculin', 'tension', 'ideal', 'symmetri', 'eleg', 'fragil', 'rope', 'tug', 'begun', 'fray', 'stagnat', 'revolt', 'militar', 'domest', 'sought', 'livelihood', 'greater', 'poorest', 'richest', 'loom', 'fring', 'slack', 'accord', 'conscienc', 'intellect', 'momentari', 'lloyd', 'xdxd', 'tretorn', 'monaco', 'colab', 'diy', 'projectil', 'nevertheless', 'roleplay', 'moveset', 'dissip', 'allot', 'synonym', 'manchest', 'microphon', 'juggernautfit', 'boob', 'penis', 'jj', 'hyperthread', 'multitask', 'processor', 'amd', 'rda', 'khabib', 'acl', 'interim', 'lunarch', 'elyot', 'undersel', 'aiiiiiiiiiiiiiiiiiiiiiiiiiiiiiii', 'jurass', 'malcolm', 'elli', 'hammond', 'wolfpack', 'wigger', 'keger', 'freudian', 'sd', 'gilliu', 'unfairli', 'counselor', 'slyli', 'ladyfan', 'seemingli', 'iowa', 'bailey', 'outworld', 'devour', 'straggl', 'warlord', 'vinyl', 'warp', 'intest', 'shred', 'banshe', 'bt', 'amout', 'comp', 'hardengag', 'footlock', 'receipt', 'edr', 'pluto', 'thusia', 'whalezz', 'brook', 'hump', 'bankrupt', 'chiefdom', 'reykjavik', 'nbsp', 'beasley', 'groundwork', 'preeeeeti', 'lamin', 'tub', 'clang', 'snowflak', 'decay', 'arab', 'etnocentr', 'gunsmith', 'micropay', 'kungen', 'jar', 'enterpris', 'ffp', 'mpg', 'financ', 'spaghetti', 'pixhawk', 'iri', 'failsaf', 'geofenc', 'copter', 'bsc', 'extrordinari', 'slick', 'tougher', 'snooti', 'ooo', 'rolex', 'chap', 'yeh', 'pirat', 'stallion', 'fodder', 'turtl', 'rerol', 'efrideet', 'spear', 'ambush', 'optic', 'agil', 'parol', 'junk', 'vignett', 'foreplay', 'spoon', 'hibbiti', 'brazil', 'cdjapan', 'amiami', 'jax', 'cocain', 'helluva', 'anafenza', 'slam', 'stormbreath', 'surrak', 'sarkhan', 'resili', 'abzan', 'charm', 'raksha', 'deathdeal', 'fleeceman', 'alacr', 'pharrel', 'daisi', 'encircl', 'lifetim', 'gauss', 'misunderstood', 'emoji', 'piggli', 'planetsid', 'ttk', 'tomcat', 'manoeuvr', 'afterburn', 'coyot', 'getaway', 'whatsoev', 'crutch', 'heeeer', 'justin', 'horusscop', 'esv', 'lavant', 'lavont', 'fell', 'tommi', 'heinsohn', 'oj', 'effic', 'ion', 'interplanetari', 'plasma', 'mct', 'musk', 'emdriv', 'elon', 'nationalist', 'virul', 'aha', 'inequ', 'systemat', 'poli', 'rtm', 'occupi', 'subjug', 'episiotomi', 'hospit', 'perineum', 'dolch', 'greyscal', 'ting', 'sa', 'dsa', 'eval', 'temporarili', 'nanna', 'radeon', 'antagonist', 'homestuck', 'intermiss', 'hussi', 'ludicr', 'karkat', 'gu', 'ascens', 'solomon', 'platypu', 'weirdest', 'ditto', 'safari', 'onomatopoeia', 'clack', 'usda', 'liberti', 'konami', 'yamaoka', 'sh', 'cocki', 'heeney', 'krak', 'novemb', 'outro', 'amon', 'amarth', 'metallica', 'halen', 'panama', 'prejud', 'subcutan', 'inject', 'insulin', 'needl', 'prep', 'tent', 'vessel', 'restrain', 'rn', 'suction', 'octopu', 'tentacl', 'assad', 'iranian', 'fsb', 'variant', 'ndf', 'reform', 'saa', 'scratch', 'tartu', 'putin', 'jihadi', 'ru', 'firepow', 'outright', 'extern', 'turkey', 'negoci', 'kurd', 'sultan', 'erdogan', 'reiter', 'amnesti', 'ceas', 'autonom', 'shabiba', 'syrian', 'planifi', 'rebuild', 'infra', 'endear', 'rebel', 'bullet', 'irk', 'drank', 'begrudg', 'overpaid', 'overpay', 'defensemen', 'sapel', 'cabinet', 'countertop', 'environment', 'unscrupul', 'greas', 'eboni', 'bribe', 'timber', 'nonexist', 'habit', 'tuggi', 'pheasant', 'redund', 'quatloo', 'sacrific', 'grunt', 'setter', 'appointe', 'tryna', 'feasibl', 'cactuar', 'portal', 'adamantit', 'cumbersom', 'fo', 'retard', 'esper', 'uwx', 'delver', 'gyarado', 'vgc', 'reorganis', 'clinic', 'phwa', 'letang', 'ballot', 'riddler', 'courag', 'spacer', 'polari', 'bolt', 'bucan', 'pyro', 'overextend', 'huntington', 'vocat', 'wooooooo', 'hickepontebaum', 'vagina', 'cab', 'waltz', 'accomplish', 'sylv', 'aishwarya', 'rai', 'chri', 'hay', 'artest', 'tsunami', 'hazard', 'earthquak', 're', 'florida', 'fema', 'apprais', 'gulf', 'arbitrari', 'continuum', 'shaggi', 'scoob', 'lemon', 'balm', 'rosemari', 'sinus', 'dreamer', 'eastern', 'staatsfeiertag', 'der', 'arbeit', 'pleb', 'becus', 'oregairu', 'fansubb', 'reap', 'akam', 'akira', 'preti', 'nz', 'argentina', 'cuddl', 'sara', 'whisper', 'porch', 'monkey', 'innuendo', 'survey', 'exhal', 'nostril', 'moist', 'kneepad', 'harbor', 'freight', 'pediatrician', 'infant', 'urg', 'ped', 'blw', 'gerber', 'gum', 'shun', 'uncontrol', 'suffoc', 'unawar', 'transpir', 'ment', 'forgav', 'aluminum', 'polym', 'replica', 'tb', 'curat', 'fraud', 'ownership', 'elast', 'photon', 'nc', 'veloc', 'itd', 'tr', 'cof', 'shrink', 'simco', 'wellington', 'papa', 'sand', 'literatur', 'automobil', 'machineri', 'shamu', 'dysphoria', 'untreat', 'sec', 'citationszszsdz', 'unedit', 'preacher', 'wub', 'stderr', 'wrappedprintstream', 'println', 'journeymap', 'luni', 'ancient', 'judici', 'homosexu', 'sinner', 'timothi', 'slaver', 'dam', 'strictli', 'blackbeard', 'dice', 'leviticu', 'haircut', 'essay', 'ed', 'bikepedia', 'insidi', 'recollect', 'airbas', 'stainless', 'aeolu', 'fin', 'afc', 'ebay', 'extrapol', 'admiss', 'moor', 'dockabl', 'trivial', 'coffin', 'watchlist', 'banal', 'slang', 'floozi', 'grain', 'beam', 'obscen', 'obscur', 'reaper', 'shotgun', 'overwatch', 'spit', 'motm', 'foil', 'lizard', 'catfish', 'jackpot', 'mesh', 'misinterpret', 'disown', 'propaganda', 'diffus', 'perc', 'counter', 'monogam', 'coercion', 'polygami', 'untangl', 'polygam', 'hahahahahahaha', 'heeeell', 'prolong', 'inevit', 'premedit', 'dubiou', 'acknowledg', 'utilitarian', 'relativ', 'sacrif', 'plainli', 'amor', 'morbidli', 'secondarili', 'shenanigan', 'strateg', 'yum', 'stall', 'gandiva', 'allergi', 'deconstruct', 'swill', 'applesauc', 'moto', 'viewfind', 'memo', 'congeni', 'centaur', 'bitchfac', 'fandom', 'potter', 'emmers', 'ded', 'unapologet', 'goddamnit', 'zumhoff', 'thoorin', 'deviat', 'soo', 'dignita', 'spiel', 'releg', 'kiwi', 'gutter', 'split', 'openhab', 'io', 'kodi', 'kore', 'yats', 'domoticz', 'lua', 'plugin', 'networkhealth', 'cacti', 'persist', 'rrd', 'scrape', 'csv', 'xtend', 'syntax', 'whee', 'sitemap', 'explicit', 'setpoint', 'lyghtsab', 'colleagu', 'strive', 'psych', 'kumamoto', 'fanfar', 'sgt', 'ermi', 'treasur', 'tower', 'leas', 'southeastern', 'utah', 'valley', 'havr', 'crippl', 'qwer', 'frustratingli', 'slur', 'underdog', 'payback', 'goodli', 'srser', 'dye', 'harsh', 'trp', 'dreamworld', 'faeri', 'hobbit', 'triforc', 'aud', 'heroism', 'decorum', 'inflat', 'mish', 'missionari', 'orient', 'stewardess', 'fundrais', 'flu', 'berman', 'crummi', 'sword', 'kilij', 'battlefuri', 'quell', 'sillier', 'password', 'overlord', 'snowbal', 'socrat', 'mel', 'horn', 'planar', 'fenton', 'giftrocket', 'skrill', 'timid', 'prankster', 'cottone', 'whirlpoo', 'wrapper', 'bawa', 'rubert', 'throne', 'rockstar', 'ego', 'deprec', 'catti', 'unbalanc', 'jizz', 'tigrex', 'cfo', 'noto', 'gs', 'tmt', 'vezina', 'sv', 'goali', 'ilya', 'samsonov', 'minnesota', 'jose', 'niec', 'nemo', 'bernier', 'reimer', 'anderson', 'lehner', 'buffalo', 'lindback', 'comeback', 'vancouv', 'markstrom', 'gilli', 'ramo', 'krister', 'gudlevski', 'zachari', 'fucal', 'subban', 'flare', 'interst', 'volterra', 'kaiserinreich', 'skillshot', 'walru', 'kfc', 'grape', 'soda', 'austria', 'wiener', 'frau', 'goin', 'speck', 'sashimi', 'macro', 'wth', 'abundantli', 'furiou', 'phyrra', 'juan', 'nora', 'darkest', 'mug', 'restock', 'unconfirm', 'minnesotan', 'goaltend', 'hydraul', 'garag', 'girder', 'overhang', 'pere', 'erni', 'brockman', 'ecologist', 'anadrom', 'trout', 'mia', 'cliff', 'yogap', 'underwear', 'salad', 'whit', 'bleux', 'notch', 'lawn', 'vulvodynia', 'shipment', 'pistachio', 'joystick', 'wive', 'polygoni', 'kean', 'sucki', 'mcd', 'lunch', 'premier', 'spyro', 'bandicoot', 'teensi', 'krokodil', 'nilli', 'bacteria', 'feloni', 'sip', 'felon', 'o', 'armstead', 'fifteen', 'crewmat', 'brisban', 'treyvon', 'martin', 'skittl', 'ng', 'masturbatori', 'overturn', 'roe', 'wade', 'parenthood', 'abort', 'founder', 'margaret', 'sanger', 'caution', 'scammer', 'pantri', 'pingu', 'favourit', 'xenoblad', 'xcx', 'zelda', 'metroid', 'thrown', 'drinkd', 'latt', 'frap', 'blender', 'evolutionari', 'polar', 'vivillon', 'paralyz', 'emerald', 'strip', 'greed', 'clutch', 'zare', 'mariotta', 'damnit', 'wingless', 'sti', 'lipstick', 'mitig', 'kudo', 'mutton', 'munchi', 'cooki', 'gwg', 'yandl', 'custer', 'accessori', 'intermedi', 'bodyweight', 'vietnam', 'winnipeg', 'expo', 'fishermen', 'crab', 'nurseri', 'mr', 'youd', 'cart', 'blanch', 'cctv', 'immediatli', 'ydcb', 'ellia', 'concours', 'sox', 'crate', 'tobi', 'clyne', 'depay', 'hummel', 'dortmund', 'bale', 'likelihood', 'shovel', 'thij', 'rdu', 'thoroughli', 'skinner', 'addi', 'sg', 'brief', 'brushkana', 'splashi', 'rapid', 'monahan', 'nenana', 'approxim', 'denali', 'rejoin', 'pw', 'lazier', 'cdc', 'bourn', 'helmet', 'deafen', 'rev', 'catcal', 'mph', 'cheesi', 'romant', 'bachelor', 'barter', 'brosephes', 'brah', 'poseur', 'quadricep', 'inabl', 'lebron', 'tunabl', 'pfsens', 'gui', 'sternum', 'jut', 'stitch', 'injuri', 'ufc', 'cerron', 'yi', 'labor', 'misunderstand', 'upbring', 'ordeal', 'cutesi', 'analog', 'twa', 'refund', 'roblox', 'nevada', 'som', 'absurd', 'utterli', 'irrespons', 'reson', 'spacetim', 'sheed', 'hooligan', 'stoud', 'jeopard', 'saniti', 'offspr', 'specialist', 'drivetrain', 'bodystyl', 'flirt', 'counsel', 'steer', 'paulist', 'eject', 'detract', 'atmospher', 'hierarchi', 'ancom', 'hirearchi', 'gallagh', 'cf', 'fiba', 'slovenia', 'demarcu', 'cousin', 'crashz', 'viewmodel', 'tara', 'overtim', 'dystopian', 'unemploy', 'castl', 'beater', 'mitb', 'curs', 'js', 'mayo', 'sata', 'chipset', 'adrenalin', 'guatemala', 'taka', 'tuck', 'majest', 'tootsi', 'grossli', 'outlandish', 'badger', 'noooooo', 'clusterfucki', 'junior', 'claudin', 'lafond', 'honsa', 'sydney', 'peev', 'tonn', 'ko', 'prone', 'sheath', 'collis', 'dairi', 'asthma', 'myfitnessp', 'flour', 'boycott', 'hight', 'suss', 'nsw', 'wahhhh', 'steph', 'barca', 'viewer', 'nutriti', 'midwest', 'flipsid', 'snarki', 'luci', 'deepli', 'spectacular', 'ironi', 'maxx', 'giliu', 'mullen', 'halfback', 'uat', 'merritt', 'mortag', 'dw', 'popularli', 'unincorpor', 'paradis', 'gari', 'ellig', 'tennesse', 'cull', 'mildhotsauc', 'invoic', 'tron', 'gcf', 'ontario', 'frugal', 'squash', 'declassifi', 'fnafb', 'ror', 'portfolio', 'wring', 'resel', 'gunshot', 'healthcar', 'burden', 'upper', 'breadwinn', 'transplant', 'extens', 'oof', 'fatass', 'corp', 'sao', 'kirito', 'conundrum', 'mindblown', 'anabol', 'plz', 'slept', 'noc', 'soloq', 'boudica', 'namesak', 'affection', 'buddha', 'mortar', 'astronomi', 'hobbyist', 'teas', 'offseason', 'joachim', 'gauck', 'dickhol', 'ppv', 'sponsorship', 'buyer', 'hoster', 'tulli', 'tyto', 'riverrun', 'squeetoast', 'swb', 'into', 'bhar', 'pasta', 'cob', 'dunhil', 'latakia', 'boomer', 'spain', 'jr', 'complianc', 'templar', 'succes', 'approrpri', 'swiftrag', 'simul', 'heist', 'expedi', 'catnip', 'cooper', 'dutch', 'choppa', 'absent', 'chord', 'ebron', 'pettigrew', 'fauria', 'thompsen', 'devin', 'funchess', 'radiolab', 'nay', 'fate', 'drumstick', 'tickin', 'mistaken', 'lesnar', 'backlund', 'goon', 'wilmor', 'fallon', 'midnight', 'eheh', 'princess', 'shoulda', 'sprung', 'anywho', 'syphilli', 'landind', 'baton', 'roug', 'unluckiest', 'powerless', 'tommen', 'thinker', 'motto', 'hahahahaaa', 'ballsi', 'unstabl', 'unabl', 'concess', 'scotland', 'rebellion', 'arrog', 'breathtak', 'ciggi', 'starstreak', 'freeweight', 'db', 'impati', 'lor', 'inconvenienc', 'qn', 'methink', 'pee', 'calvari', 'polo', 'zettai', 'ryouiki', 'israel', 'cooley', 'armatur', 'ksp', 'manley', 'gig', 'monet', 'swamp', 'ancestor', 'rite', 'helper', 'spellblad', 'nugget', 'apologet', 'vegan', 'leijer', 'gk', 'georgievski', 'muscat', 'murnan', 'fullback', 'radiant', 'ampl', 'fluffi', 'eso', 'transexu', 'epcot', 'pixar', 'tucker', 'rosen', 'veggi', 'unsaid', 'muscular', 'scam', 'holli', 'chock', 'wealthi', 'entrepreneur', 'deduc', 'barbitur', 'contort', 'kraftwerk', 'carol', 'doda', 'gwendolin', 'quorra', 'loveth', 'derbi', 'aftershav', 'freedberg', 'wetshav', 'paulhfilm', 'alum', 'sting', 'lotion', 'oliv', 'vitamin', 'moistur', 'sprint', 'douglasvil', 'kennwsaw', 'pristin', 'mic', 'underst', 'gmc', 'glue', 'ep', 'stripe', 'schoolwork', 'lvt', 'necrobook', 'ld', 'brood', 'tusk', 'learnt', 'outpush', 'serpent', 'bush', 'wwe', 'merfolk', 'amphibi', 'arcan', 'boon', 'guppi', 'prefac', 'prefilt', 'dive', 'excrement', 'guarantue', 'expertis', 'spew', 'sasuk', 'danzo', 'sharingan', 'gameboy', 'clayton', 'bigsbi', 'duracel', 'relief', 'flashlight', 'snorkel', 'forza', 'brandon', 'weeden', 'pseudo', 'pyramid', 'astronom', 'soro', 'clearhead', 'foggi', 'lola', 'grid', 'thousandth', 'wich', 'voodoo', 'oversimplif', 'stunt', 'legitimaci', 'pokebank', 'pokémon', 'manaphi', 'meloetta', 'genesect', 'bypass', 'umlaut', 'russki', 'reindeer', 'lutefisk', 'norway', 'incurs', 'gradual', 'multivers', 'molecul', 'destabil', 'steve', 'immin', 'soaz', 'toplan', 'instinct', 'hinderniss', 'strenght', 'unpredict', 'harden', 'armour', 'ew', 'dameshek', 'calc', 'trig', 'snuggli', 'snuggl', 'underweight', 'shaw', 'rek', 'gabon', 'premerg', 'randi', 'drivel', 'sacrosanct', 'limey', 'fuction', 'folli', 'almighti', 'mackerel', 'nothin', 'skype', 'dem', 'skadoodl', 'awper', 'con', 'hashtag', 'willing', 'jfk', 'transcript', 'toronto', 'anyhow', 'jac', 'helpdesk', 'azir', 'numer', 'predemonantli', 'attest', 'dickcunt', 'scientolog', 'dopamin', 'receptor', 'nuerotox', 'pulp', 'pasteur', 'sanit', 'leftov', 'savegam', 'buzz', 'shopp', 'clyde', 'decenc', 'unprepar', 'pbe', 'imaginari', 'underappreci', 'lentil', 'whateverthefuck', 'sharon', 'carter', 'underus', 'celiac', 'gluten', 'involuntarili', 'velvet', 'cupcak', 'paddl', 'humour', 'invad', 'terri', 'cahil', 'rollin', 'smackdown', 'sorkin', 'downfal', 'lovi', 'helm', 'oneplu', 'sot', 'greenifi', 'criminolog', 'fruitless', 'smoker', 'snivi', 'tsv', 'amaura', 'ak', 'vulcan', 'casey', 'grapevin', 'bulki', 'hunger', 'rnd', 'ine', 'hunt', 'emotuon', 'reali', 'pudgi', 'tummi', 'shaven', 'twisti', 'tile', 'mustach', 'facet', 'watter', 'mobl', 'spray', 'muffin', 'pam', 'pan', 'orlando', 'westorlando', 'paleo', 'spoken', 'dietitian', 'imit', 'godzilla', 'heartwarm', 'sightse', 'excurs', 'outfuckingstand', 'sneez', 'succinctli', 'pagan', 'jive', 'mountian', 'toug', 'spycrab', 'winnah', 'cabl', 'miami', 'hiv', 'infect', 'syring', 'syphili', 'massdrop', 'puff', 'coco', 'dreamsicl', 'mtf', 'wherev', 'safest', 'eliquid', 'geni', 'circumcis', 'pothol', 'bbq', 'shill', 'harmless', 'selv', 'mishear', 'ati', 'mistranspos', 'cockpit', 'unchart', 'subtitl', 'mutter', 'ethier', 'staredown', 'clinton', 'commonli', 'speedbump', 'mistreat', 'bronson', 'kg', 'jaidynn', 'spoof', 'richard', 'joshua', 'wishlist', 'gong', 'dread', 'winchel', 'oakland', 'augustin', 'captur', 'alexand', 'angrili', 'dare', 'thief', 'navi', 'moss', 'masterclass', 'stamina', 'humpback', 'jenk', 'goggl', 'merced', 'manuel', 'fangio', 'diaper', 'oddli', 'glhf', 'swore', 'freeli', 'viva', 'faceti', 'wristband', 'vick', 'afterward', 'jimi', 'hendrix', 'marvin', 'allman', 'notori', 'funk', 'ssw', 'underbelli', 'zyra', 'crafti', 'ambit', 'mah', 'ooh', 'tvd', 'bulgaria', 'overcrowd', 'awww', 'beatl', 'twix', 'largest', 'wwi', 'tibet', 'partisan', 'illus', 'ogr', 'eo', 'erect', 'glori', 'quantiti', 'nowaday', 'tx', 'forego', 'miner', 'btc', 'hinder', 'anonym', 'mixer', 'protocol', 'obfusc', 'aganc', 'silk', 'tumbler', 'monero', 'zerocash', 'horizon', 'targ', 'alli', 'manc', 'rayder', 'jon', 'renli', 'pow', 'sprout', 'suddenlink', 'nickelodeon', 'gemtech', 'hof', 'hillari', 'autocorrect', 'showcas', 'stan', 'legendari', 'danni', 'calib', 'digest', 'prompt', 'amazingli', 'daze', 'arbitrarili', 'jumpsuit', 'appel', 'attorney', 'televis', 'paratroop', 'institut', 'heartbroken', 'fargo', 'dole', 'mlk', 'stake', 'unconsci', 'gravi', 'hehe', 'seiko', 'chronograph', 'diver', 'woof', 'tardi', 'localbitcoin', 'pinta', 'oishi', 'jusu', 'downcak', 'fiver', 'amn', 'shyv', 'awe', 'daddi', 'fatigu', 'diagnosi', 'hindsight', 'octavian', 'lepidu', 'legionari', 'hoplit', 'yuki', 'nonsexu', 'pisser', 'forearm', 'disturb', 'dbrand', 'pikachu', 'certaintli', 'hyeyeon', 'fluent', 'omit', 'preval', 'notair', 'sanction', 'merci', 'airwav', 'council', 'etsi', 'newegg', 'vastli', 'wordpress', 'odesk', 'choosi', 'shake', 'corsair', 'zowi', 'mice', 'steelseri', 'deirdr', 'mercenari', 'vent', 'noot', 'penn', 'georgetown', 'nw', 'clarendon', 'arlington', 'booz', 'reznor', 'atticu', 'dratini', 'puli', 'apnea', 'reactiv', 'paediatr', 'ehar', 'proactiv', 'coa', 'cetf', 'distilleri', 'whiskey', 'vid', 'uninvolv', 'counteract', 'moddest', 'endomondo', 'retweet', 'freckl', 'buscemi', 'useabl', 'bexp', 'titania', 'zihark', 'bastian', 'lucia', 'por', 'unpromot', 'staf', 'playstyl', 'draftnik', 'blizz', 'ormu', 'unnam', 'companion', 'portugues', 'benfica', 'belgium', 'spanish', 'lga', 'hdmi', 'atx', 'dervic', 'opc', 'barfun', 'ommiss', 'ted', 'prīd', 'noun', 'satisfact', 'resort', 'uncertain', 'rand', 'duo', 'po', 'dashboard', 'flippantflipperi', 'homeless', 'hygen', 'gladli', 'saver', 'onward', 'fib', 'sunken', 'comb', 'phish', 'scepter', 'merciless', 'borefest', 'prerequisit', 'gloss', 'chipotl', 'battlefield', 'dreamland', 'logitech', 'sennheis', 'schiit', 'viewership', 'roku', 'scandrick', 'poker', 'fold', 'pacif', 'emul', 'tighter', 'nissan', 'pickup', 'humblebrag', 'upkeep', 'scv', 'thc', 'stipul', 'miscalcul', 'gould', 'charli', 'fallen', 'burdick', 'dingi', 'cannabi', 'impair', 'cognit', 'undoubtedli', 'hypothesi', 'astroturf', 'abid', 'metadata', 'skydriv', 'gore', 'traitor', 'column', 'editori', 'butthurt', 'stingi', 'nav', 'demigod', 'uncompar', 'rethink', 'tidbit', 'vex', 'revisit', 'rambl', 'radiolaria', 'nisekoi', 'arsefac', 'kurt', 'cobain', 'mucj', 'wnate', 'corridor', 'ro', 'switzerland', 'sysadmin', 'soundcloud', 'hesit', 'endang', 'primit', 'underwat', 'surveil', 'campu', 'rhyme', 'dui', 'imperson', 'yellow', 'synth', 'experiment', 'drawback', 'korg', 'reverb', 'spacious', 'pedal', 'programm', 'synthesi', 'volca', 'zenimax', 'bethesda', 'eirika', 'nflnetwork', 'skysport', 'vani', 'charcuteri', 'laughter', 'connot', 'playground', 'fag', 'descriptor', 'honki', 'idgaf', 'caucasian', 'odb', 'koog', 'paintbal', 'harmon', 'contin', 'disgrac', 'amagami', 'kaoru', 'contend', 'pete', 'blacktown', 'fucken', 'mort', 'braddon', 'gemignani', 'cornmeal', 'lard', 'flaki', 'lou', 'malnatti', 'aerat', 'prett', 'dialect', 'sharehold', 'marketplac', 'superflow', 'utter', 'rubbish', 'arguabl', 'xyz', 'constellar', 'ptolemi', 'gauntlet', 'inzektor', 'chronomali', 'atlandi', 'utopia', 'bounzer', 'pilgrim', 'gaia', 'nightli', 'gamestop', 'merrimack', 'densiti', 'sworn', 'unapp', 'wraith', 'frighten', 'insecur', 'humil', 'caveman', 'farther', 'fuse', 'cldmkr', 'apostroph', 'radianc', 'evas', 'immun', 'stephen', 'fella', 'irv', 'sega', 'knack', 'betta', 'strawlemon', 'spire', 'stalker', 'stargat', 'sentri', 'muta', 'zealot', 'nonstop', 'twillight', 'robo', 'vod', 'zerg', 'hallucin', 'hive', 'antisjw', 'sjwcomic', 'sjwscifi', 'sjwsport', 'sjwtech', 'sjwanim', 'batsign', 'flick', 'instantan', 'headshot', 'spectat', 'extric', 'ked', 'tediou', 'firefli', 'reign', 'wrestlemania', 'tourist', 'juliett', 'verona', 'erri', 'mouthfuck', 'bronz', 'barf', 'puck', 'kinet', 'roughli', 'ekp', 'watchtow', 'jw', 'invalu', 'unwav', 'lootcrat', 'bandwagon', 'uncivil', 'shrek', 'notion', 'ndp', 'astonish', 'uncommon', 'inoffens', 'fuzzi', 'bullpen', 'dirk', 'aminu', 'momento', 'shawshank', 'redempt', 'interstellar', 'cosplay', 'headstand', 'handstand', 'phenomenon', 'partli', 'broader', 'disagr', 'sensibl', 'erupt', 'ferguson', 'restroom', 'few', 'superhero', 'standford', 'vigilant', 'confin', 'populac', 'surrend', 'infight', 'skrull', 'conquer', 'pitchfork', 'unquestion', 'incomprehens', 'preach', 'solar', 'delv', 'dropship', 'windshield', 'perci', 'unseen', 'yap', 'dichotomi', 'invalid', 'backslash', 'mono', 'dir', 'chartiy', 'beckon', 'gimmick', 'puppet', 'concord', 'earthl', 'flore', 'msc', 'bluescreen', 'asteroid', 'fdl', 'uphil', 'banish', 'mountaintop', 'gaze', 'rarer', 'rem', 'farmabl', 'nuke', 'multipli', 'mal', 'mekakuc', 'actor', 'kager', 'clich', 'unorigin', 'seven', 'eight', 'soooooo', 'sayonara', 'mahouka', 'koukou', 'rettousei', 'bla', 'iam', 'wooden', 'cancl', 'tec', 'magician', 'obviu', 'usless', 'wat', 'happend', 'rli', 'boor', 'zetsuen', 'knokout', 'vibrathion', 'knok', 'sienciest', 'foce', 'noisenc', 'drope', 'tought', 'romanc', 'onlli', 'milo', 'yiannopol', 'sue', 'blockbot', 'contradict', 'benghazi', 'delud', 'flail', 'jeep', 'wrangler', 'tj', 'prob', 'viper', 'unavail', 'tazer', 'machismo', 'outspend', 'nomine', 'oblivi', 'figurin', 'hyrul', 'toon', 'spinner', 'subsequ', 'ganondorf', 'rupe', 'typhoon', 'harp', 'astro', 'malzahar', 'counterplay', 'gangplank', 'cleans', 'veigar', 'tibber', 'starship', 'humid', 'pref', 'destro', 'ccing', 'uncontest', 'thhe', 'unpopular', 'emmiss', 'flammabl', 'ladder', 'kindersley', 'ammunt', 'friggin', 'repay', 'virtual', 'booo', 'chromo', 'staircas', 'nfc', 'rind', 'supercharg', 'passabl', 'worthwhil', 'depreci', 'dramat', 'cw', 'nenshi', 'provinci', 'aspir', 'salem', 'itt', 'gofundm', 'admiralti', 'hgh', 'nighmar', 'corian', 'mewtwo', 'puerto', 'rican', 'declin', 'sylvan', 'yang', 'zing', 'shaddolsworn', 'monarch', 'pendulum', 'reppin', 'savemoney', 'ib', 'mayfield', 'bst', 'passerbi', 'mawil', 'beg', 'dalla', 'emmitt', 'siren', 'motorola', 'kayfun', 'brawler', 'afr', 'vincent', 'gofuckyourself', 'eb', 'blazer', 'mi', '水', 'bloodlust', 'urbandictionari', 'microcent', 'crossfir', 'ar', 'smuggler', 'muhammad', 'cholili', 'coexist', 'demolit', 'gratifi', 'cavali', 'unspeak', 'watchespn', 'wooooo', 'consumpt', 'ponzi', 'boiler', 'crisi', 'uneth', 'gruden', 'meaning', 'reshuffl', 'fyi', 'irelasia', 'dragun', 'djinn', 'protector', 'carboneddon', 'kinka', 'byo', 'poll', 'wholli', 'disproportion', 'adulthood', 'equiti', 'usp', 'henrik', 'won', 'compass', 'blurt', 'privat', 'trueish', 'naval', 'streamer', 'rollm', 'emu', 'av', 'liabl', 'mumbojumbo', 'painesvil', 'brm', 'grubbi', 'superbal', 'whore', 'barbershop', 'quartet', 'sentient', 'shawn', 'crit', 'overload', 'miracl', 'boil', 'bearer', 'austin', 'aunti', 'hackuriphon', 'pawn', 'grandpar', 'bladder', 'mma', 'blowhard', 'boxer', 'inhibitor', 'camino', 'camri', 'nil', 'gare', 'sexy', 'crim', 'huntard', 'implos', 'phreak', 'rper', 'awalt', 'swagbuck', 'sbtv', 'pediatr', 'pulmo', 'floss', 'urghhhh', 'nobl', 'freeway', 'kart', 'dorito', 'adolesc', 'scum', 'homogen', 'trump', 'resist', 'ofc', 'lockup', 'mooch', 'slumerican', 'surrog', 'embodi', 'amplyopia', 'stigmat', 'floater', 'graveston', 'marker', 'elvi', 'span', 'crib', 'stroller', 'glider', 'registri', 'bruh', 'np', 'digg', 'fucktard', 'prioritis', 'annoyingli', 'booth', 'elsewher', 'plo', 'paywal', 'genet', 'ploson', 'mister', 'finit', 'admin', 'youneedabudget', 'lei', 'rebutt', 'manhattan', 'brow', 'heroic', 'chug', 'asphalt', 'concret', 'boc', 'bitumin', 'retrofit', 'reconstruct', 'overlay', 'pavement', 'roadway', 'aggreg', 'caviti', 'grout', 'arround', 'fifa', 'thrower', 'oraclenet', 'silki', 'shampoo', 'condition', 'aveeno', 'ringlet', 'wavi', 'frizzi', 'referr', 'development', 'appt', 'cheerlead', 'zac', 'efron', 'tribut', 'outgo', 'polish', 'damnnnn', 'bystand', 'catalyst', 'mullet', 'doug', 'anesthet', 'sore', 'sauron', 'tokyo', 'oakhous', 'sakura', 'cyclon', 'rift', 'nova', 'hotlap', 'semi', 'incorrectli', 'myki', 'reader', 'slipperi', 'icicl', 'outdat', 'otto', 'gortat', 'gooden', 'pierc', 'aristid', 'aquino', 'cin', 'rave', 'griffey', 'natti', 'caliroot', 'anchorman', 'hilter', 'barrett', 'trickshot', 'infograph', 'laboratori', 'shalt', 'aciii', 'phoni', 'parrot', 'sixti', 'hazz', 'genja', 'pinoy', 'edward', 'diego', 'mtg', 'playmat', 'artemi', 'guangxu', 'kangxi', 'jilin', 'mint', 'qianlong', 'monstercat', 'boyl', 'jagr', 'ax', 'hashtagsmakesthisdeeperandmoreconvincingsonowtheownerswilllistent', 'intrigu', 'gtfo', 'custodi', 'cuter', 'aaron', 'crucifixion', 'enbu', 'forgotten', 'vampir', 'wattag', 'fractal', 'nzxt', 'paragraph', 'freshman', 'debri', 'youv', 'deadlin', 'dale', 'carnegi', 'amateur', 'romo', 'adhes', 'abdomin', 'dinnerwar', 'mapl', 'barrington', 'matthew', 'sori', 'blotter', 'yoda', 'consisit', 'agora', 'aisbxkaoaijw', 'gamecub', 'compuls', 'cleanli', 'glyph', 'backstori', 'cafeteria', 'strangl', 'headlin', 'apparatu', 'tabletop', 'rutherford', 'widespread', 'fresnel', 'francoi', 'argo', 'galileo', 'curi', 'radium', 'newton', 'prism', 'implod', 'neutron', 'marque', 'iii', 'coj', 'sissi', 'splatoon', 'reciproc', 'symbiot', 'filipino', 'yummi', 'walli', 'nephew', 'didi', 'butler', 'outsourc', 'wiimot', 'colbster', 'philippin', 'belov', 'atroci', 'congressman', 'witcher', 'subdu', 'roomi', 'dorm', 'unwrap', 'specular', 'graze', 'fece', 'breakout', 'fibromyalgia', 'inflam', 'hydrogel', 'braxton', 'cockerel', 'parlou', 'bitterli', 'quoth', 'wilt', 'comest', 'jule', 'affluent', 'someplac', 'neater', 'cue', 'naxx', 'blackrock', 'zoo', 'imp', 'gang', 'midrang', 'hearthpwn', 'simplifi', 'genitalia', 'intoler', 'amphetamin', 'kale', 'broadli', 'median', 'adject', 'netbal', 'econometr', 'regress', 'landfal', 'minpr', 'maxwind', 'surg', 'rudimentari', 'drose', 'henson', 'wilfr', 'chateau', 'laurier', 'brunch', 'buffet', 'pricey', 'covert', 'replier', 'viewpoint', 'firstli', 'miriad', 'importantli', 'casm', 'exsist', 'underli', 'discredit', 'cubon', 'tyranitar', 'aggron', 'malphit', 'salam', 'shyvanna', 'krookodil', 'renekton', 'squirtl', 'jigglypuff', 'rammu', 'drapion', 'skarner', 'rapidash', 'deerl', 'cobalion', 'grumpig', 'emboar', 'bristl', 'sejuani', 'gothorita', 'ursar', 'quinn', 'annivia', 'teemo', 'flygon', 'shuck', 'mythoclast', 'tlw', 'ligament', 'tre', 'tia', 'dwarv', 'elf', 'abseloutli', 'redem', 'elv', 'coti', 'seizur', 'neurologist', 'slight', 'kareem', 'quienciera', 'herb', 'summit', 'mytholog', 'condemn', 'fairi', 'tale', 'alibaba', 'watchmak', 'masterpiec', 'counterward', 'communist', 'regim', 'tipsi', 'munion', 'chainsword', 'overlaid', 'contrast', 'thyroidasauru', 'rex', 'bendi', 'inquisit', 'bayern', 'unbal', 'stattrak', 'vibrat', 'broad', 'flowmast', 'outlaw', 'axleback', 'oninit', 'faceit', 'quaid', 'emphas', 'blockad', 'turf', 'coma', 'kluber', 'odorizzi', 'hugh', 'smyli', 'chavez', 'paxton', 'mchugh', 'hammel', 'mower', 'stafford', 'czar', 'psychopath', 'feign', 'gamepad', 'vista', 'undivid', 'anthil', 'sunder', 'sundi', 'cloak', 'nanit', 'wanderlust', 'grammi', 'allah', 'outlook', 'deed', 'sha', 'guai', 'getcha', 'gall', 'grosser', 'ninkasi', 'bark', 'supernatur', 'psychic', 'repel', 'crispi', 'batter', 'tartar', 'grandma', 'yip', 'baddest', 'supervillain', 'lex', 'luthor', 'kgb', 'chronic', 'patriarchi', 'scrap', 'catholic', 'parliament', 'supremaci', 'ploy', 'annul', 'catherin', 'ann', 'boleyn', 'tempor', 'behead', 'nvidia', 'someboyd', 'nod', 'seamless', 'aphex', 'twin', 'dynam', 'womb', 'beak', 'rotex', 'shroud', 'bubba', 'gump', 'shrimp', 'taser', 'decontextualis', 'gimp', 'kinesiolog', 'spine', 'sturdier', 'tomboy', 'alph', 'falsehood', 'sga', 'juju', 'deniro', 'georg', 'speedway', 'ge', 'inhal', 'checklist', 'inexplic', 'pursu', 'exorbitantli', 'siriann', 'belial', 'newman', 'soccer', 'augusta', 'meanwhil', 'protool', 'shortcut', 'idol', 'tape', 'certif', 'googley', 'edm', 'fl', 'lfo', 'dissatisfactori', 'scimitar', 'alchemist', 'yooka', 'layle', 'mt', 'gox', 'breach', 'greg', 'progeni', 'xith', 'nek', 'suruzul', 'sprinkl', 'boooooooooooooo', 'payout', 'cornflak', 'emeri', 'polyamor', 'oiler', 'dvffheaven', 'doughnut', 'ale', 'om', 'enorm', 'mindlessli', 'bash', 'subzerogazpacho', 'astral', 'displac', 'saliv', 'despair', 'chart', 'morphl', 'thailand', 'fumbl', 'swype', 'elsanna', 'fic', 'balrog', 'smaug', 'thorn', 'invect', 'heyyyi', 'destil', 'cad', 'grindr', 'fem', 'perv', 'margarita', 'sour', 'yisssss', 'keg', 'jealousss', 'blush', 'lippi', 'understat', 'confound', 'humili', 'cleanest', 'cocksuck', 'sjd', 'stride', 'cleverley', 'mata', 'carrick', 'fellaini', 'rooney', 'bobbl', 'groot', 'coor', 'suburban', 'horseradish', 'hummu', 'cottag', 'cheetoh', 'queso', 'malt', 'vinegar', 'tuna', 'caption', 'starkey', 'goldfrapp', 'lsfyl', 'kyli', 'rpdr', 'cp', 'greninja', 'hemp', 'textil', 'fiber', 'bamboo', 'amen', 'turnigi', 'amo', 'simonk', 'livewood', 'eberron', 'jabari', 'simplif', 'baselin', 'dissent', 'potluck', 'certi', 'zut', 'hog', 'pcr', 'herald', 'merveil', 'uhm', 'bounc', 'celebi', 'venusaur', 'iceland', 'protest', 'goodbal', 'nyc', 'nigeria', 'pine', 'sump', 'skimmer', 'biocub', 'bio', 'plumb', 'filtrat', 'saltwat', 'freshwat', 'nerscylla', 'mycolog', 'toxik', 'protip', 'pcgamingwiki', 'myriophyllum', 'ornament', 'exhibit', 'filigre', 'myrio', 'mattogrossens', 'alga', 'karen', 'randal', 'aga', 'piaba', 'expedit', 'mystifi', 'retak', 'pennysav', 'muslim', 'don', 'matcha', 'unrevers', 'schroding', 'incognito', 'kumho', 'hopin', 'nativekil', 'accustom', 'swerv', 'lsd', 'shroom', 'hansen', 'childless', 'volunt', 'livabl', 'tracert', 'eggnivia', 'bard', 'hibik', 'euphonium', 'valedictorian', 'bho', 'caregiv', 'foothold', 'drunken', 'churlish', 'hampshir', 'joseph', 'campbel', 'expel', 'oldest', 'youngest', 'aris', 'rigid', 'midlif', 'crise', 'webcam', 'reopen', 'ratchet', 'clank', 'piscat', 'coland', 'liftoff', 'twr', 'steadi', 'swordsmith', 'slash', 'froot', 'cinnamon', 'dipper', 'mabel', 'otk', 'steed', 'nib', 'gloat', 'pizzaria', 'charizard', 'wario', 'soni', 'heathen', 'replic', 'nolan', 'overpow', 'bluray', 'sweeper', 'cubicl', 'encrypt', 'perceptu', 'discern', 'swift', 'touchpiss', 'dev', 'hectic', 'backstab', 'leon', 'sandcastl', 'fole', 'rapidli', 'td', 'rooki', 'dalton', 'puke', 'kansan', 'psd', 'pcgf', 'godfest', 'tiamat', 'mystic', 'pierdrawn', 'drall', 'odin', 'norn', 'urd', 'chrono', 'neptun', 'gambl', 'thanato', 'automak', 'robust', 'grabber', 'offroad', 'sidewal', 'daniel', 'conley', 'glanc', 'homo', 'farnsworth', 'frolick', 'ruffian', 'endur', 'ja', 'wingtip', 'helix', 'toolkit', 'kivi', 'xaml', 'sop', 'rosey', 'rosacea', 'soften', 'soap', 'lukewarm', 'cleanser', 'cerav', 'foam', 'hydrat', 'revlon', 'photoreadi', 'meow', 'cosmet', 'formula', 'unproven', 'smokescreen', 'reunion', 'reunit', 'dearli', 'sideshow', 'honolulu', 'frapaccino', 'coulda', 'outstretch', 'bbc', 'comedi', 'beaver', 'ultron', 'intimid', 'negat', 'quicksilv', 'stellan', 'skarsgard', 'oirish', 'feckin', 'ul', 'unreal', 'wk', 'sven', 'stagnant', 'ldr', 'redon', 'swgemu', 'arlen', 'paycheck', 'snub', 'ks', 'unmotiv', 'tlou', 'gtav', 'idi', 'unfinish', 'geekier', 'preset', 'vndb', 'inquisitor', 'dhamphir', 'refug', 'darker', 'magrid', 'bulkier', 'lightnign', 'distribut', 'hannah', 'inner', 'fetish', 'frank', 'oooooooooo', 'remast', 'blogger', 'kotaku', 'gdt', 'bayn', 'dainton', 'phenomen', 'ontolog', 'postul', 'sk', 'hm', 'consistensi', 'fcat', 'absenc', 'smoother', 'aram', 'bm', 'surrogaci', 'tantrum', 'grief', 'cutleri', 'macca', 'itchi', 'embrac', 'louisvil', 'ky', 'courier', 'retort', 'talisman', 'granni', 'pane', 'januzaj', 'barbarian', 'rampag', 'vicki', 'ironborn', 'dani', 'undo', 'scrutini', 'disbelief', 'indent', 'kalista', 'runann', 'doubleshot', 'corki', 'mf', 'teabagg', 'smv', 'su', 'larri', 'abathur', 'shrine', 'shanahan', 'shanaplan', 'noni', 'shanaban', 'shanaman', 'shanaclan', 'undergradu', 'fluid', 'presto', 'sail', 'cgi', 'galor', 'breakneck', 'odlh', 'mosley', 'shane', 'deflat', 'pencil', 'yen', 'storylin', 'tomarrow', 'cryo', 'pod', 'swensen', 'smarter', 'spagetti', 'malazan', 'hangov', 'sprawl', 'vasectomi', 'taco', 'parasit', 'shiver', 'chew', 'lovehandl', 'dug', 'minti', 'sympathis', 'netflix', 'riversid', 'pasadena', 'scooter', 'msf', 'unambigu', 'rekkl', 'remoraid', 'naughti', 'foster', 'yhe', 'mummi', 'tuition', 'yusui', 'org', 'fur', 'undergo', 'charlott', 'tilburi', 'dolc', 'jaguar', 'asd', 'touchdown', 'probat', 'deferr', 'horrif', 'bestial', 'elephon', 'slacker', 'foremen', 'superintend', 'immens', 'geo', 'bodili', 'autonomi', 'satan', 'tenet', 'inviol', 'obstacl', 'mockeri', 'mea', 'culpa', 'edmonton', 'warpdriv', 'gtx', 'strix', 'enermax', 'evga', 'evo', 'earthbound', 'unfold', 'illog', 'pretenci', 'mathmat', 'ohhh', 'nerdi', 'leer', 'riddl', 'lockerroom', 'remindm', 'toriyama', 'daizenshuu', 'inki', 'braill', 'podium', 'gq', 'apeldoorn', 'cult', 'kobe', 'factoid', 'dishonest', 'intercept', 'rawr', 'woosh', 'chirp', 'zzzzzzzzzztzzzzzzzzt', 'eldar', 'ccon', 'iren', 'introvers', 'extrovert', 'solitari', 'obes', 'jagoff', 'jackoff', 'kb', 'mb', 'loser', 'havnt', 'allianc', 'autism', 'erm', 'slowcat', 'hollywood', 'graciou', 'kc', 'blocklist', 'nunu', 'yarn', 'freddi', 'flinger', 'aggro', 'lebrun', 'jim', 'barack', 'robert', 'jabroni', 'themself', 'rag', 'junki', 'tren', 'tfw', 'fungu', 'shff', 'nair', 'dair', 'feint', 'grantland', 'brows', 'eater', 'sledg', 'rondo', 'celtic', 'embiid', 'guac', 'nacho', 'dippin', 'tophat', 'frist', 'yuo', 'profus', 'faggiest', 'butthol', 'noob', 'worthless', 'ironclad', 'tarik', 'marbl', 'staionari', 'siltfin', 'carddraw', 'coldlight', 'ofcours', 'murloc', 'vaniti', 'neymar', 'critiqu', 'playmak', 'freakish', 'dribbl', 'di', 'maria', 'venmo', 'coinbas', 'olli', 'cautiou', 'km', 'cdma', 'linguist', 'etymolog', 'conson', 'babe', 'acronym', 'matia', 'kranevitt', 'cdm', 'mould', 'mascherano', 'hmmmmmmmmm', 'centrelink', 'heartbeat', 'adher', 'piggi', 'jazz', 'mhm', 'falco', 'incalcul', 'unforeseen', 'tibetan', 'condol', 'gehrman', 'tomb', 'doll', 'cyclic', 'cent', 'jewelleri', 'septum', 'overnight', 'ornithologist', 'fuckeri', 'alittl', 'fig', 'artwork', 'eve', 'godiva', 'vike', 'rampant', 'metacanada', 'brigad', 'tickl', 'radiu', 'compendium', 'succumb', 'billboard', 'riaa', 'piraci', 'moustach', 'recept', 'sexism', 'udder', 'zürich', 'smack', 'pent', 'sylmar', 'burbank', 'jphhpgsddbgsdaspsphhh', 'ma', 'mistertim', 'gettem', 'heinou', 'joel', 'tejano', 'donner', 'qed', 'rebadg', 'anaecho', 'mooer', 'echol', 'misinform', 'dingu', 'fester', 'trio', 'laughabl', 'roller', 'coaster', 'spiral', 'spice', 'otang', 'rayn', 'nonathlet', 'depo', 'balloon', 'scandinavia', 'malygo', 'antonida', 'alextrazsa', 'booooo', 'circumvent', 'wog', 'ki', 'nebula', 'amuspher', 'accordingli', 'gog', 'dragonair', 'ev', 'savi', 'charmand', 'eeve', 'eeveelut', 'ue', 'westin', 'bimbo', 'indestruct', 'tranzit', 'godwin', 'bearbottom', 'chubbi', 'intuit', 'horner', 'motif', 'cingular', 'monopoli', 'qwest', 'centurylink', 'landlin', 'reproduc', 'ahhhh', 'magnet', 'railroad', 'juri', 'brainstorm', 'trajectori', 'durden', 'nuanc', 'heathkit', 'magenta', 'mothafucka', 'helium', 'kinship', 'guitarist', 'songwrit', 'lyricist', 'betsi', 'laura', 'sadi', 'deorro', 'fong', 'inc', 'scndl', 'quisqu', 'melbourn', 'knowltey', 'leisur', 'thunderdom', 'boooooo', 'swine', 'openssl', 'keto', 'snore', 'chernobyl', 'jdf', 'jasmin', 'daedric', 'artifact', 'gees', 'explet', 'solidar', 'gase', 'trauma', 'tha', 'emo', 'diari', 'wean', 'divert', 'vege', 'wheeler', 'stapler', 'dragonstorm', 'alterc', 'dunleavey', 'liandri', 'transfag', 'dang', 'spook', 'wildli', 'unfriendli', 'snob', 'steinhart', 'armani', 'dutchessarch', 'niliti', 'clarkson', 'between', 'wv', 'shithol', 'pa', 'edelman', 'kook', 'brainiac', 'rake', 'magikarp', 'ovenchicken', 'barrack', 'paus', 'norri', 'sanchez', 'hearthston', 'disadvantag', 'vaz', 'maynard', 'baldock', 'weari', 'hooper', 'kia', 'jug', 'urgh', 'kiki', 'bitchi', 'minj', 'vocalist', 'cunti', 'hahahah', 'flew', 'slightest', 'ginsburg', 'skinwalk', 'solac', 'brynden', 'coldhand', 'benjen', 'debunk', 'dictionari', 'tsunder', 'tsun', 'dere', 'spooni', 'tsuyokisu', 'lovestruck', 'urbanbot', 'unus', 'thinkin', 'golarion', 'phrarasma', 'boneyard', 'groetu', 'descend', 'resurrect', 'bestow', 'disrupt', 'predecessor', 'riley', 'reiff', 'bryan', 'bulaga', 'axton', 'mainstag', 'spr', 'sosumi', 'lte', 'stoop', 'weddingwir', 'theknot', 'yelp', 'connecticut', 'ct', 'pittsburgh', 'skirt', 'whisperdom', 'commish', 'urn', 'troublesom', 'nfe', 'doublad', 'stabil', 'vine', 'tame', 'feelin', 'maximis', 'usc', 'dripper', 'niko', 'wiggin', 'hentai', 'tornado', 'meteor', 'beatkc', 'sprite', 'coincid', 'carlo', 'ruiz', 'jed', 'oad', 'paker', 'ncaa', 'blockbust', 'gentlesir', 'cane', 'guis', 'bootlick', 'lambast', 'thesauru', 'vedalken', 'goblin', 'bur', 'problemat', 'benefici', 'shaki', 'firebird', 'grift', 'hon', 'deadwood', 'forsaken', 'privaci', 'permit', 'uoft', 'nevermind', 'guerilla', 'bcjp', 'bcen', 'cheater', 'servo', 'pervert', 'luther', 'peripher', 'cupid', 'muzen', 'neith', 'ullr', 'xbal', 'wolftyla', 'anatom', 'tissu', 'tatar', 'expend', 'horseshit', 'handicap', 'ramp', 'cretin', 'prereleas', 'hungov', 'triniti', 'motrin', 'rat', 'paw', 'thefix', 'acut', 'preciat', 'yogscast', 'doomsay', 'rt', 'righto', 'surplu', 'mote', 'slutti', 'legatotheon', 'diabloprogress', 'jailer', 'leduff', 'cone', 'sheer', 'auckland', 'swipe', 'buzzfe', 'douchey', 'gel', 'canal', 'encapsul', 'panick', 'sob', 'limb', 'othertim', 'curb', 'ymir', 'virus', 'dawkin', 'pedantri', 'intellectu', 'dishonesti', 'verb', 'weakli', 'arguer', 'amput', 'pascal', 'unl', 'thurougli', 'brainwash', 'healthili', 'allevi', 'unrestrict', 'hhh', 'hogan', 'pili', 'crumb', 'nigerian', 'tout', 'roppongi', 'nervewrack', 'filipina', 'manila', 'feria', 'wholesal', 'griddl', 'robb', 'norf', 'sansa', 'darth', 'arya', 'faceless', 'bran', 'greenseer', 'rickon', 'skago', 'azhor', 'azhai', 'warg', 'kentucki', 'shebang', 'disengag', 'rg', 'mikael', 'zeke', 'jungler', 'locket', 'morello', 'spellthief', 'brave', 'rescu', 'chiraq', 'treadmil', 'predomin', 'heyi', 'militantli', 'isolationist', 'prolif', 'trad', 'chalk', 'enrich', 'soymilk', 'starbuck', 'reread', 'whyyyyi', 'vantag', 'screem', 'leverag', 'cuban', 'kathi', 'settler', 'uninhabit', 'az', 'notabl', 'tens', 'ghostgam', 'cuddyer', 'ballist', 'luxuri', 'covet', 'omniski', 'chariot', 'yik', 'yak', 'shir', 'crier', 'unselfish', 'intang', 'malon', 'tittay', 'imsa', 'yaaaaaaaaay', 'gooddel', 'yaaaaaayyyyyi', 'clapclapclapclapclapclapclapclapclapclap', 'nuc', 'keen', 'brix', 'shutup', 'vaper', 'blowout', 'plastidip', 'bungi', 'frisk', 'residenti', 'credibl', 'ogn', 'quarterfin', 'wigginsworth', 'shite', 'ticker', 'whiff', 'airway', 'stove', 'stink', 'cigar', 'smelt', 'joi', 'poopag', 'plaintext', 'asi', 'digniti', 'crossroad', 'pandora', 'someway', 'getz', 'incept', 'mightier', 'placement', 'approx', 'postgrad', 'inbox', 'fijian', 'rusti', 'chomp', 'tremend', 'absinth', 'cotton', 'waiter', 'disloy', 'af', 'pebbl', 'connector', 'indi', 'gritti', 'aaa', 'uninspir', 'secondli', 'igc', 'liar', 'reggi', 'zaeed', 'massani', 'freed', 'commot', 'incendiari', 'smulder', 'garru', 'loopin', 'louie', 'hippo', 'luga', 'ultra', 'jizo', 'chevolum', 'linc', 'soviet', 'homecom', 'cena', 'corni', 'onu', 'goddel', 'boooooooo', 'gooooodell', 'lxgg', 'seraph', 'deceiv', 'wx', 'reincarn', 'anaesthet', 'oxygen', 'unwel', 'copd', 'rey', 'swung', 'maxim', 'pmed', 'mennonit', 'delux', 'chivalri', 'pteroc', 'coincount', 'blm', 'mystiqu', 'ofcom', 'toothless', 'patio', 'shakier', 'muddi', 'eros', 'gortex', 'scopper', 'misplay', 'livingroom', 'boggl', 'distributor', 'forklift', 'watchnak', 'disclos', 'pale', 'cs', 'euphoria', 'tripoli', 'outscor', 'abrevi', 'caucasu', 'rewritten', 'downsmash', 'thatd', 'likewis', 'rodger', 'smiley', 'osha', 'biden', 'warren', 'socialist', 'rhe', 'procrastin', 'malaka', 'toa', 'vero', 'unawaken', 'chasun', 'bernon', 'bella', 'shannon', 'kona', 'frontpag', 'buyin', 'sayin', 'amelia', 'franz', 'sooooo', 'spartan', 'chiv', 'soaphax', 'atchu', 'val', 'mrsomebodi', 'fishlen', 'beooti', 'horribad', 'uninstal', 'featurett', 'optimist', 'cheerin', 'olayish', 'silhouett', 'yve', 'laurent', 'hubert', 'givenchi', 'chanel', 'georgio', 'owen', 'terror', 'puzzl', 'grok', 'traction', 'rta', 'vg', 'whine', 'shutterspe', 'firework', 'melon', 'blocki', 'pallett', 'levit', 'cataclysm', 'drove', 'kneel', 'doorstep', 'maritim', 'unarmour', 'bled', 'rpa', 'tendon', 'surgic', 'reattach', 'alicia', 'cambrian', 'plaza', 'que', 'gilgamesh', 'balmung', 'unlearn', 'roc', 'crucibl', 'larva', 'wriggl', 'pecker', 'firebal', 'watermelon', 'en', 'mechjeb', 'afaik', 'herp', 'robinson', 'sdn', 'earnestli', 'dentistri', 'disqualifi', 'priorit', 'outweigh', 'dental', 'curriculum', 'cutoff', 'willpow', 'outfield', 'ofer', 'turtleneck', 'gpg', 'cyphertext', 'decrypt', 'socail', 'conmfort', 'deceid', 'negoti', 'tt', 'breakpoint', 'fireplac', 'halloween', 'parkinson', 'quentin', 'tarantino', 'reportedli', 'pierr', 'inton', 'qm', 'bejesu', 'originalist', 'wanker', 'reliant', 'esf', 'nano', 'itll', 'descent', 'hexagon', 'subservi', 'ick', 'resent', 'miracul', 'unpreced', 'tabasco', 'pajama', 'ouya', 'enclos', 'flashbang', 'ammo', 'untrain', 'kitti', 'orphan', 'evan', 'gatti', 'pitbul', 'dio', 'googli', 'rivet', 'interv', 'acryl', 'suh', 'rework', 'nidale', 'nida', 'vanish', 'splitpush', 'obsurcur', 'ambassador', 'ukrain', 'causal', 'misrepres', 'smithsonian', 'nyazov', 'minifig', 'bink', 'plumle', 'shoo', 'elk', 'moos', 'roost', 'misus', 'indirect', 'needi', 'fer', 'fanstraight', 'amagi', 'lewd', 'kyoani', 'flagship', 'flashback', 'mjolner', 'geofri', 'crest', 'windripp', 'rammstien', 'olymp', 'swimmer', 'hemsworth', 'sphincter', 'ariel', 'dunham', 'pour', 'dens', 'dundun', 'rodeo', 'praedyth', 'kickback', 'rheolog', 'genom', 'sclerosi', 'autoimmun', 'cn', 'lymphocyt', 'myelin', 'axon', 'inflamm', 'transient', 'neurolog', 'suscept', 'microbiolog', 'immunolog', 'inflammatori', 'hypothes', 'viru', 'ebv', 'levin', 'lang', 'tcr', 'peptid', 'molecular', 'mimicri', 'mening', 'serafini', 'patholog', 'encompass', 'demyelin', 'remyelin', 'oligodendrocyt', 'deplet', 'astrocytosi', 'neuron', 'degener', 'sclerot', 'plaqu', 'compston', 'cole', 'migrat', 'autoreact', 'barrier', 'bbb', 'dysfunct', 'immunocellular', 'haemorheolog', 'ischem', 'cerebr', 'microvasculatur', 'ballabh', 'braun', 'nedergaard', 'extravas', 'tumour', 'necrosi', 'α', 'tnfα', 'interferon', 'γ', 'endotheli', 'engelhardt', 'macrophag', 'mediat', 'antigen', 'glycoprotein', 'mog', 'moreov', 'αb', 'crystallin', 'chaperon', 'physiolog', 'suppress', 'autoantibodi', 'mathey', 'exacerb', 'microglia', 'cytokin', 'opsonis', 'fc', 'antibodi', 'microgli', 'phagocytosi', 'transduct', 'proteas', 'nitrogen', 'ortiz', 'depolaris', 'neurodegener', 'insolubl', 'tau', 'archelo', 'intrathec', 'citat', 'aint', 'exert', 'veteran', 'blueprint', 'chow', 'geddert', 'twistar', 'qualif', 'lauri', 'jazmyn', 'foburg', 'gymnast', 'purina', 'gastrointestin', 'unfunni', 'ambul', 'surgeon', 'infus', 'salin', 'peddl', 'unspectacularli', 'ncshp', 'napoleon', 'swagger', 'competitv', 'persona', 'forsen', 'extant', 'direwolf', 'panda', 'cursori', 'inmat', 'gritty', 'nge', 'bebop', 'standalon', 'scone', 'outward', 'clojur', 'simplic', 'invis', 'collar', 'arsen', 'nerw', 'warriror', 'smug', 'glutton', 'arnt', 'contamin', 'crosswalk', 'damsel', 'abrupt', 'character', 'heavier', 'rockonmyfriend', 'photosynth', 'tivo', 'schrödinger', 'amalgam', 'casket', 'rafter', 'clamp', 'romex', 'stapl', 'psycho', 'completli', 'ideolog', 'swede', 'lundqvist', 'grime', 'nicoview', 'mmcafe', 'colorist', 'dac', 'heterosexu', 'kardashian', 'modric', 'tot', 'suarez', 'toti', 'ibra', 'ligu', 'yhose', 'hasnt', 'delt', 'rafael', 'gundogan', 'valencia', 'rwb', 'chitown', 'buffoon', 'fictiti', 'nap', 'arduino', 'freeduino', 'homophobia', 'dearth', 'corinthian', 'flowchart', 'shortag', 'epsom', 'clearanc', 'lust', 'bustl', 'district', 'merchant', 'holler', 'ornat', 'warzon', 'crumbl', 'tarnish', 'sanctiti', 'collater', 'ow', 'resign', 'rotisseri', 'breast', 'shakey', 'booooooo', 'blasphemi', 'griffin', 'sacrilegi', 'holiest', 'oculu', 'tighten', 'preemptiv', 'hcigar', 'fursona', 'simciti', 'elitist', 'goddammit', 'joker', 'woah', 'butthead', 'emin', 'secularli', 'sevilla', 'deperson', 'submitt', 'textbox', 'gangren', 'suntour', 'hider', 'rear', 'fluanc', 'thx', 'togglabl', 'runescap', 'chime', 'robe', 'tenodera', 'sinesen', 'mustv', 'murica', 'gynecologist', 'agin', 'inexpens', 'vagin', 'intercours', 'reproduct', 'unwil', 'abstin', 'purpotratir', 'mansplain', 'apac', 'histrion', 'fetu', 'mizon', 'cosrx', 'mucin', 'hyperpigment', 'exfoli', 'serum', 'whitehead', 'mannequin', 'hag', 'siberian', 'manton', 'abstract', 'crawler', 'bonesaw', 'decompos', 'tatsuya', 'preciou', 'illya', 'saber', 'essentaili', 'mitsuru', 'shatterbird', 'alessi', 'retali', 'kojou', 'hax', 'spatial', 'erasur', 'kilomet', 'struck', 'scc', 'puf', 'xma', 'si', 'congreg', 'sermon', 'crane', 'ork', 'squig', 'humanist', 'dismantl', 'geek', 'betanc', 'github', 'uf', 'alumni', 'kiva', 'charit', 'arvi', 'cherch', 'merlinu', 'malliesia', 'vigard', 'weaksauc', 'holtbi', 'cilbert', 'conan', 'escobar', 'popup', 'worm', 'singaporean', 'safer', 'aswel', 'sneaker', 'sweatpant', 'kettl', 'wuloft', 'physician', 'wusplain', 'ashtanga', 'vinyasa', 'bikram', 'yin', 'keselowski', 'bobbi', 'allison', 'seagat', 'sshd', 'ce', 'oversight', 'coachella', 'venu', 'gi', 'replenish', 'dsr', 'ocd', 'tsk', 'horatio', 'shadi', 'excadril', 'snax', 'pasha', 'codriv', 'whaaat', 'callou', 'metahuman', 'headcanon', 'citizenship', 'undocu', 'trailmix', 'cfcf', 'balear', 'belicheck', 'stir', 'pv', 'maneuvr', 'sperm', 'thewariofart', 'jenner', 'califlow', 'photospher', 'deaf', 'deaflymp', 'felwint', 'urin', 'spillag', 'skarmori', 'cameraman', 'payday', 'dodgi', 'vn', 'okab', 'shamaliamnalianman', 'fuzz', 'ay', 'tater', 'minat', 'icecream', 'purdi', 'earlygam', 'geitz', 'rath', 'motorbik', 'brunswick', 'merc', 'ftl', 'suspici', 'galio', 'induct', 'unnatur', 'overdu', 'vbac', 'choppi', 'sassi', 'misread', 'macrium', 'padlock', 'cub', 'castro', 'russel', 'baez', 'mlb', 'strikeout', 'sim', 'zinc', 'aspart', 'monomethionin', 'defacto', 'ahl', 'bibeau', 'mantha', 'pipelin', 'echl', 'onss', 'particap', 'cu', 'ck', 'protagonist', 'undersud', 'jupit', 'tristana', 'statikk', 'und', 'panzer', 'avow', 'borderlin', 'dox', 'wizardchan', 'neet', 'swate', 'brad', 'animalist', 'primal', 'privledg', 'waitress', 'lens', 'megaggron', 'eq', 'sylveon', 'dragonit', 'weve', 'applaud', 'tact', 'calcium', 'stanley', 'giver', 'sandwhich', 'desold', 'smd', 'shmup', 'cajun', 'rectangl', 'monolith', 'puffbal', 'scotti', 'pippen', 'dikemb', 'mutombo', 'crucifi', 'boldin', 'overdr', 'uva', 'cyberbulli', 'jessi', 'renaiss', 'rembrandt']\n"
          ]
        }
      ]
    },
    {
      "cell_type": "code",
      "source": [
        "len(term_list)"
      ],
      "metadata": {
        "id": "UiEqctH6FWvH",
        "colab": {
          "base_uri": "https://localhost:8080/"
        },
        "outputId": "86a43aaf-1d11-4ae8-ec53-e7501637bdf7"
      },
      "execution_count": null,
      "outputs": [
        {
          "output_type": "execute_result",
          "data": {
            "text/plain": [
              "12312"
            ]
          },
          "metadata": {},
          "execution_count": 9
        }
      ]
    },
    {
      "cell_type": "markdown",
      "source": [
        "## Calculate TF matrix for a term in all comments/documents."
      ],
      "metadata": {
        "id": "k0PvtiUOAOKY"
      }
    },
    {
      "cell_type": "code",
      "source": [
        "import numpy as np\n",
        "\n",
        "term_list_length = len(term_list)\n",
        "#print(term_list_length)\n",
        "\n",
        "# initialize feature vectors set\n",
        "tf_matrix = np.zeros((len(comments), term_list_length), dtype=np.int64)\n",
        "\n",
        "for index, document in enumerate(filtered_and_stemmed_comments):\n",
        "  # initialize individual row vector of document\n",
        "  row = [0] * term_list_length\n",
        "\n",
        "  for word in document:\n",
        "    # if word is in term list get the index and update row count in document\n",
        "    if word in term_list:\n",
        "      index_of_word_in_term_list = term_list.index(word)\n",
        "      row[index_of_word_in_term_list] += 1\n",
        "\n",
        "  row = np.asarray(row).astype(int)\n",
        "  tf_matrix[index] = row"
      ],
      "metadata": {
        "id": "p7R2sP5865Vt"
      },
      "execution_count": null,
      "outputs": []
    },
    {
      "cell_type": "code",
      "source": [
        "tf_matrix = np.asarray(tf_matrix)"
      ],
      "metadata": {
        "id": "hsZQFaKqTrjt"
      },
      "execution_count": null,
      "outputs": []
    },
    {
      "cell_type": "code",
      "source": [
        "tf_matrix.shape"
      ],
      "metadata": {
        "id": "jY9xK9ovsYnf",
        "colab": {
          "base_uri": "https://localhost:8080/"
        },
        "outputId": "b780791f-d2c9-4247-b6f4-348d680baf85"
      },
      "execution_count": null,
      "outputs": [
        {
          "output_type": "execute_result",
          "data": {
            "text/plain": [
              "(7401, 12312)"
            ]
          },
          "metadata": {},
          "execution_count": 12
        }
      ]
    },
    {
      "cell_type": "code",
      "source": [
        "tf_matrix[0]"
      ],
      "metadata": {
        "id": "OuCMoiUGuqhT",
        "colab": {
          "base_uri": "https://localhost:8080/"
        },
        "outputId": "60c20f13-9aa4-4416-e484-b854c7fad5ee"
      },
      "execution_count": null,
      "outputs": [
        {
          "output_type": "execute_result",
          "data": {
            "text/plain": [
              "array([1, 1, 1, ..., 0, 0, 0])"
            ]
          },
          "metadata": {},
          "execution_count": 13
        }
      ]
    },
    {
      "cell_type": "code",
      "source": [
        "tf_matrix"
      ],
      "metadata": {
        "id": "mFYVzhEvtHKn",
        "colab": {
          "base_uri": "https://localhost:8080/"
        },
        "outputId": "85ea758f-eb15-44fa-8234-b25e68559f4c"
      },
      "execution_count": null,
      "outputs": [
        {
          "output_type": "execute_result",
          "data": {
            "text/plain": [
              "array([[1, 1, 1, ..., 0, 0, 0],\n",
              "       [0, 0, 0, ..., 0, 0, 0],\n",
              "       [0, 1, 0, ..., 0, 0, 0],\n",
              "       ...,\n",
              "       [0, 0, 0, ..., 1, 0, 0],\n",
              "       [0, 0, 0, ..., 0, 0, 0],\n",
              "       [0, 0, 0, ..., 0, 1, 1]])"
            ]
          },
          "metadata": {},
          "execution_count": 13
        }
      ]
    },
    {
      "cell_type": "markdown",
      "source": [
        "## Normalized TF Matrix"
      ],
      "metadata": {
        "id": "XDlX1s_jIiY8"
      }
    },
    {
      "cell_type": "markdown",
      "source": [
        "## Applying Sub-linear scaling"
      ],
      "metadata": {
        "id": "43NUc_W5tdqE"
      }
    },
    {
      "cell_type": "code",
      "source": [
        "import math \n",
        "\n",
        "for tf in tf_matrix:\n",
        "  for t in tf:\n",
        "    if t > 0:\n",
        "      t = 1 - math.log(t)"
      ],
      "metadata": {
        "id": "8szlGVc5IhGO"
      },
      "execution_count": null,
      "outputs": []
    },
    {
      "cell_type": "code",
      "source": [
        "tf_matrix"
      ],
      "metadata": {
        "colab": {
          "base_uri": "https://localhost:8080/"
        },
        "id": "Y4294bTctLkS",
        "outputId": "f9c73b52-e16a-4b3a-c2cd-3f1307bb8bd5"
      },
      "execution_count": null,
      "outputs": [
        {
          "output_type": "execute_result",
          "data": {
            "text/plain": [
              "array([[1, 1, 1, ..., 0, 0, 0],\n",
              "       [0, 0, 0, ..., 0, 0, 0],\n",
              "       [0, 1, 0, ..., 0, 0, 0],\n",
              "       ...,\n",
              "       [0, 0, 0, ..., 1, 0, 0],\n",
              "       [0, 0, 0, ..., 0, 0, 0],\n",
              "       [0, 0, 0, ..., 0, 1, 1]])"
            ]
          },
          "metadata": {},
          "execution_count": 15
        }
      ]
    },
    {
      "cell_type": "code",
      "source": [
        "tf_matrix.shape"
      ],
      "metadata": {
        "colab": {
          "base_uri": "https://localhost:8080/"
        },
        "id": "e63TtU5Ct6XK",
        "outputId": "72c540cd-104e-4713-bec1-8cc774e97c82"
      },
      "execution_count": null,
      "outputs": [
        {
          "output_type": "execute_result",
          "data": {
            "text/plain": [
              "(7389, 12294)"
            ]
          },
          "metadata": {},
          "execution_count": 16
        }
      ]
    },
    {
      "cell_type": "markdown",
      "source": [
        "## Finding Document Frequency (DF)"
      ],
      "metadata": {
        "id": "j4zYm6sPw4Se"
      }
    },
    {
      "cell_type": "code",
      "source": [
        "document_frequency = {}\n",
        "\n",
        "# initializing df\n",
        "for term in term_list:\n",
        "  document_frequency[term] = 0"
      ],
      "metadata": {
        "id": "mRh0kTn9w9wW"
      },
      "execution_count": null,
      "outputs": []
    },
    {
      "cell_type": "code",
      "source": [
        "len(document_frequency)"
      ],
      "metadata": {
        "colab": {
          "base_uri": "https://localhost:8080/"
        },
        "id": "nwirzUU824v3",
        "outputId": "b5e23a67-c2af-4cc2-f21c-d453b2b214f2"
      },
      "execution_count": null,
      "outputs": [
        {
          "output_type": "execute_result",
          "data": {
            "text/plain": [
              "12294"
            ]
          },
          "metadata": {},
          "execution_count": 18
        }
      ]
    },
    {
      "cell_type": "code",
      "source": [
        "# fill up df\n",
        "\n",
        "for i in range(term_list_length):\n",
        "  max_term_frequency = max(tf_matrix[:, i])\n",
        "  document_frequency[term_list[i]] = max_term_frequency\n"
      ],
      "metadata": {
        "id": "emDUiA6iyLSA"
      },
      "execution_count": null,
      "outputs": []
    },
    {
      "cell_type": "code",
      "source": [
        "document_frequency"
      ],
      "metadata": {
        "colab": {
          "base_uri": "https://localhost:8080/"
        },
        "id": "feVRitOG2biS",
        "outputId": "5d348559-5b41-4200-e8b0-74d3eb43973a"
      },
      "execution_count": null,
      "outputs": [
        {
          "output_type": "execute_result",
          "data": {
            "text/plain": [
              "{'gg': 4,\n",
              " 'one': 6,\n",
              " 'watch': 3,\n",
              " 'nfl': 3,\n",
              " 'draft': 4,\n",
              " 'i': 33,\n",
              " 'guess': 3,\n",
              " 'are': 3,\n",
              " 'realli': 5,\n",
              " 'impli': 2,\n",
              " 'return': 1,\n",
              " 'time': 5,\n",
              " 'anywher': 5,\n",
              " 'near': 1,\n",
              " 'polit': 3,\n",
              " 'environ': 1,\n",
              " 'if': 5,\n",
              " 'wo': 2,\n",
              " 'much': 5,\n",
              " 'luck': 3,\n",
              " 'sell': 3,\n",
              " 'american': 4,\n",
              " 'peopl': 14,\n",
              " 'govern': 6,\n",
              " 'concept': 2,\n",
              " 'without': 4,\n",
              " 'usher': 1,\n",
              " 'revolut': 1,\n",
              " 'no': 3,\n",
              " 'european': 2,\n",
              " 'accent': 3,\n",
              " 'either': 2,\n",
              " 'exist': 3,\n",
              " 'there': 3,\n",
              " 'europ': 2,\n",
              " 'that': 4,\n",
              " 'kid': 6,\n",
              " 'kevin': 1,\n",
              " 'sad': 1,\n",
              " 'haha': 2,\n",
              " 'get': 8,\n",
              " 'nauseou': 1,\n",
              " 'ingam': 1,\n",
              " 'experi': 6,\n",
              " 'would': 17,\n",
              " 'given': 2,\n",
              " 'whole': 3,\n",
              " 'new': 4,\n",
              " 'level': 6,\n",
              " 'bloodborn': 1,\n",
              " 'after': 1,\n",
              " 'read': 4,\n",
              " 'wholeheartedli': 1,\n",
              " 'believ': 4,\n",
              " 'let': 3,\n",
              " 'go': 9,\n",
              " 'you': 10,\n",
              " 'simpli': 3,\n",
              " 'compat': 1,\n",
              " 'she': 5,\n",
              " 'look': 4,\n",
              " 'committ': 2,\n",
              " 'bent': 1,\n",
              " 'avoid': 2,\n",
              " 'figur': 4,\n",
              " 'issu': 3,\n",
              " 'commit': 2,\n",
              " 'relationship': 7,\n",
              " 'see': 5,\n",
              " 'guy': 6,\n",
              " 'side': 2,\n",
              " 'buy': 4,\n",
              " 'mysteri': 1,\n",
              " 'sampler': 1,\n",
              " 'small': 2,\n",
              " 'batch': 1,\n",
              " 'request': 3,\n",
              " 'nihilum': 1,\n",
              " 'lg': 1,\n",
              " 'significantli': 1,\n",
              " 'better': 3,\n",
              " 'theori': 3,\n",
              " 'ca': 4,\n",
              " 'think': 8,\n",
              " 'replac': 2,\n",
              " 'ptr': 1,\n",
              " 'leav': 3,\n",
              " 'clg': 1,\n",
              " 'place': 6,\n",
              " 'never': 3,\n",
              " 'know': 5,\n",
              " 'fuck': 5,\n",
              " 'do': 5,\n",
              " 'diss': 1,\n",
              " 'grim': 1,\n",
              " 'puncher': 1,\n",
              " 'your': 2,\n",
              " 'bar': 1,\n",
              " 'seem': 4,\n",
              " 'focu': 2,\n",
              " 'introduc': 5,\n",
              " 'rather': 3,\n",
              " 'life': 4,\n",
              " 'worth': 3,\n",
              " 'live': 5,\n",
              " 'understand': 2,\n",
              " 'line': 10,\n",
              " 'made': 3,\n",
              " 'sens': 6,\n",
              " 'theme': 3,\n",
              " 'fear': 2,\n",
              " 'remain': 3,\n",
              " 'aimless': 1,\n",
              " 'trade': 4,\n",
              " 'paper': 2,\n",
              " 'lane': 2,\n",
              " 'could': 6,\n",
              " 'use': 7,\n",
              " 'tell': 5,\n",
              " 'audienc': 2,\n",
              " 'yet': 2,\n",
              " 'but': 8,\n",
              " 'like': 31,\n",
              " 'fight': 3,\n",
              " 'show': 4,\n",
              " 'hand': 3,\n",
              " 'throw': 3,\n",
              " 'yo': 2,\n",
              " 'ass': 2,\n",
              " 'young': 3,\n",
              " 'motherfuck': 1,\n",
              " 'sylvest': 1,\n",
              " 'stallon': 1,\n",
              " 'trinu': 1,\n",
              " 'vr': 1,\n",
              " 'amaz': 2,\n",
              " 'cool': 2,\n",
              " 'abl': 6,\n",
              " 'sit': 2,\n",
              " 'play': 5,\n",
              " 'turn': 4,\n",
              " 'pc': 3,\n",
              " 'wast': 3,\n",
              " 'make': 8,\n",
              " 'fulli': 2,\n",
              " 'function': 2,\n",
              " 'game': 14,\n",
              " 'gc': 1,\n",
              " 'it': 7,\n",
              " 'fault': 7,\n",
              " 'hey': 2,\n",
              " 'help': 7,\n",
              " 'well': 7,\n",
              " 'at': 6,\n",
              " 'least': 2,\n",
              " 'talk': 3,\n",
              " 'shot': 4,\n",
              " 'dog': 8,\n",
              " 'year': 5,\n",
              " 'home': 3,\n",
              " 'parti': 3,\n",
              " 'shoot': 2,\n",
              " 'load': 2,\n",
              " 'outsid': 1,\n",
              " 'accident': 1,\n",
              " 'right': 6,\n",
              " 'me': 2,\n",
              " 'tequila': 1,\n",
              " 'though': 5,\n",
              " 'sleep': 5,\n",
              " 'wake': 3,\n",
              " 'okay': 2,\n",
              " 'call': 3,\n",
              " 'vet': 1,\n",
              " 'save': 3,\n",
              " 'or': 3,\n",
              " 'pain': 2,\n",
              " 'so': 3,\n",
              " 'woke': 1,\n",
              " 'saw': 4,\n",
              " 'dead': 4,\n",
              " 'cri': 2,\n",
              " 'hour': 3,\n",
              " 'old': 4,\n",
              " 'still': 3,\n",
              " 'good': 5,\n",
              " 'littl': 2,\n",
              " 'tini': 1,\n",
              " 'mous': 5,\n",
              " 'man': 3,\n",
              " 'discharg': 1,\n",
              " 'firearm': 2,\n",
              " 'shitzu': 1,\n",
              " 'feel': 11,\n",
              " 'bad': 5,\n",
              " 'player': 9,\n",
              " 'hit': 4,\n",
              " 'remov': 5,\n",
              " 'tempt': 1,\n",
              " 'excus': 2,\n",
              " 'bathroom': 3,\n",
              " 'everi': 4,\n",
              " 'piss': 2,\n",
              " 'boss': 1,\n",
              " 'disgust': 1,\n",
              " 'detail': 1,\n",
              " 'neg': 1,\n",
              " 'reinforc': 1,\n",
              " 'purpos': 1,\n",
              " 'hold': 2,\n",
              " 'sir': 1,\n",
              " 'want': 6,\n",
              " 'hear': 2,\n",
              " 'mucu': 1,\n",
              " 'plug': 1,\n",
              " 'run': 4,\n",
              " 'end': 4,\n",
              " 'mushi': 1,\n",
              " 'green': 9,\n",
              " 'diarrhea': 1,\n",
              " 'pant': 1,\n",
              " 'be': 2,\n",
              " 'back': 3,\n",
              " 'answer': 6,\n",
              " 'acquitt': 1,\n",
              " 'decis': 3,\n",
              " 'recommend': 3,\n",
              " 'account': 7,\n",
              " 'citibank': 2,\n",
              " 'plu': 2,\n",
              " 'transact': 5,\n",
              " 'fee': 3,\n",
              " 'currenc': 2,\n",
              " 'convers': 2,\n",
              " 'transfer': 2,\n",
              " 'charg': 3,\n",
              " 'intern': 1,\n",
              " 'atm': 1,\n",
              " 'withdraw': 1,\n",
              " 'been': 2,\n",
              " 'recent': 2,\n",
              " 'oversea': 1,\n",
              " 'trip': 2,\n",
              " 'pretti': 3,\n",
              " 'handi': 2,\n",
              " 'ordinari': 1,\n",
              " 'collector': 2,\n",
              " 'everyon': 2,\n",
              " 'els': 3,\n",
              " 'frankli': 1,\n",
              " 'giveaway': 2,\n",
              " 'awesom': 1,\n",
              " 'give': 7,\n",
              " 'chanc': 3,\n",
              " 'two': 3,\n",
              " 'final': 4,\n",
              " 'win': 3,\n",
              " 'someon': 4,\n",
              " 'also': 5,\n",
              " 'wft': 2,\n",
              " 'ike': 2,\n",
              " 'pott': 1,\n",
              " 'harri': 1,\n",
              " 'power': 6,\n",
              " 'filter': 3,\n",
              " 'motherboard': 2,\n",
              " 'reach': 2,\n",
              " 'core': 6,\n",
              " 'compon': 1,\n",
              " 'henc': 1,\n",
              " 'crash': 2,\n",
              " 'shitti': 1,\n",
              " 'suppli': 2,\n",
              " 'caus': 3,\n",
              " 'cap': 3,\n",
              " 'psu': 2,\n",
              " 'grammar': 1,\n",
              " 'punctuat': 1,\n",
              " 'internet': 2,\n",
              " 'dose': 4,\n",
              " 'mean': 3,\n",
              " 'smart': 2,\n",
              " 'douch': 1,\n",
              " 'got': 3,\n",
              " 'stevenbomb': 1,\n",
              " 'same': 2,\n",
              " 'hammock': 1,\n",
              " 'fabric': 1,\n",
              " 'train': 3,\n",
              " 'dodger': 1,\n",
              " 'video': 2,\n",
              " 'dexbonu': 1,\n",
              " 'channel': 2,\n",
              " 'sam': 2,\n",
              " 'yeah': 2,\n",
              " 'basic': 2,\n",
              " 'visa': 1,\n",
              " 'expir': 2,\n",
              " 'they': 3,\n",
              " 'long': 3,\n",
              " 'distanc': 2,\n",
              " 'probabl': 4,\n",
              " 'worri': 4,\n",
              " 'haul': 1,\n",
              " 'ash': 4,\n",
              " 'kill': 10,\n",
              " 'tank': 9,\n",
              " 'switch': 2,\n",
              " 'build': 4,\n",
              " 'ie': 1,\n",
              " 'gt': 66,\n",
              " 'must': 2,\n",
              " 'first': 4,\n",
              " 'item': 7,\n",
              " 'whatev': 2,\n",
              " 'u': 11,\n",
              " 'need': 4,\n",
              " 'lw': 2,\n",
              " 'last': 2,\n",
              " 'obv': 1,\n",
              " 'mani': 5,\n",
              " 'thing': 6,\n",
              " 'chang': 8,\n",
              " 'hope': 2,\n",
              " 'test': 7,\n",
              " 'cuz': 1,\n",
              " 'im': 4,\n",
              " 'super': 2,\n",
              " 'hype': 2,\n",
              " 'd': 2,\n",
              " 'oh': 3,\n",
              " 'find': 3,\n",
              " 'annoy': 2,\n",
              " 'obtus': 1,\n",
              " 'friend': 4,\n",
              " 'extend': 1,\n",
              " 'wheeli': 1,\n",
              " 'tendenc': 1,\n",
              " 'starv': 1,\n",
              " 'cylind': 1,\n",
              " 'oil': 5,\n",
              " 'someth': 4,\n",
              " 'speak': 4,\n",
              " 'alway': 6,\n",
              " 'warn': 1,\n",
              " 'forum': 1,\n",
              " 'mine': 3,\n",
              " 'idea': 3,\n",
              " 'the': 7,\n",
              " 'fire': 2,\n",
              " 'escap': 1,\n",
              " 'wood': 5,\n",
              " 'splinter': 1,\n",
              " 'raptor': 1,\n",
              " 'manag': 3,\n",
              " 'break': 2,\n",
              " 'hole': 2,\n",
              " 'top': 5,\n",
              " 'door': 2,\n",
              " 'dresser': 2,\n",
              " 'head': 3,\n",
              " 'poke': 2,\n",
              " 'disappear': 2,\n",
              " 'anoth': 2,\n",
              " 'thud': 1,\n",
              " 'move': 3,\n",
              " 'forward': 2,\n",
              " 'inch': 1,\n",
              " 'mid': 1,\n",
              " 'twenti': 1,\n",
              " 'male': 2,\n",
              " 'rock': 2,\n",
              " 'skinni': 1,\n",
              " 'style': 2,\n",
              " 'hair': 3,\n",
              " 'cut': 5,\n",
              " 'gener': 3,\n",
              " 'strong': 2,\n",
              " 'effort': 1,\n",
              " 'set': 6,\n",
              " 'gaydar': 1,\n",
              " 'nearli': 2,\n",
              " 'kicker': 1,\n",
              " 'brother': 7,\n",
              " 'actual': 6,\n",
              " 'gay': 4,\n",
              " 'rug': 1,\n",
              " 'macho': 1,\n",
              " 'how': 2,\n",
              " 'import': 2,\n",
              " 'heroin': 1,\n",
              " 'god': 3,\n",
              " 'pump': 1,\n",
              " 'vein': 1,\n",
              " 'addict': 1,\n",
              " 'australian': 1,\n",
              " 'bound': 1,\n",
              " 'statist': 3,\n",
              " 'drug': 2,\n",
              " 'relat': 2,\n",
              " 'overdos': 1,\n",
              " 'death': 1,\n",
              " 'is': 2,\n",
              " 'draw': 2,\n",
              " 'bow': 1,\n",
              " 'crime': 5,\n",
              " 'treat': 2,\n",
              " 'similar': 3,\n",
              " 'way': 5,\n",
              " 'murder': 3,\n",
              " 'penalti': 2,\n",
              " 'perspect': 4,\n",
              " 'definit': 2,\n",
              " 'told': 2,\n",
              " 'beginn': 1,\n",
              " 'happi': 1,\n",
              " 'ft': 2,\n",
              " 'boat': 3,\n",
              " 'love': 3,\n",
              " 'weight': 2,\n",
              " 'respons': 5,\n",
              " 'and': 6,\n",
              " 'lot': 4,\n",
              " 'splash': 2,\n",
              " 'thank': 3,\n",
              " 'contribut': 2,\n",
              " 'ill': 2,\n",
              " 'wait': 2,\n",
              " 'wise': 2,\n",
              " 'care': 3,\n",
              " 'clan': 7,\n",
              " 'photoshop': 1,\n",
              " 'in': 2,\n",
              " 'word': 4,\n",
              " 'forev': 1,\n",
              " 'free': 4,\n",
              " 'he': 9,\n",
              " 'claim': 3,\n",
              " 'posit': 3,\n",
              " 'creat': 2,\n",
              " 'discuss': 3,\n",
              " 'huge': 2,\n",
              " 'especi': 2,\n",
              " 'vehicl': 3,\n",
              " 'for': 2,\n",
              " 'starter': 2,\n",
              " 'interior': 8,\n",
              " 'heat': 1,\n",
              " 'leather': 1,\n",
              " 'automat': 3,\n",
              " 'electron': 2,\n",
              " 'touch': 3,\n",
              " 'screen': 2,\n",
              " 'activ': 3,\n",
              " 'everyth': 2,\n",
              " 'crazi': 2,\n",
              " 'overhaul': 1,\n",
              " 'money': 5,\n",
              " 'burn': 1,\n",
              " 'hypothet': 3,\n",
              " 'dream': 10,\n",
              " 'fanciest': 1,\n",
              " 'then': 5,\n",
              " 'fact': 2,\n",
              " 'rubicon': 3,\n",
              " 'trim': 1,\n",
              " 'come': 4,\n",
              " 'bunch': 2,\n",
              " 'requir': 5,\n",
              " 'road': 3,\n",
              " 'kit': 1,\n",
              " 'locker': 3,\n",
              " 'heavi': 2,\n",
              " 'duti': 1,\n",
              " 'axl': 2,\n",
              " 'disconnect': 1,\n",
              " 'sway': 1,\n",
              " 'name': 2,\n",
              " 'featur': 2,\n",
              " 'self': 4,\n",
              " 'respect': 3,\n",
              " 'modern': 2,\n",
              " 'roader': 1,\n",
              " 'sahara': 1,\n",
              " 'equip': 2,\n",
              " 'sport': 5,\n",
              " 'spend': 3,\n",
              " 'grand': 1,\n",
              " 'swap': 2,\n",
              " 'gear': 5,\n",
              " 'skid': 1,\n",
              " 'plate': 2,\n",
              " 'lock': 5,\n",
              " 'differenti': 1,\n",
              " 'etc': 2,\n",
              " 'void': 1,\n",
              " 'warranti': 2,\n",
              " 'stock': 4,\n",
              " 'factori': 2,\n",
              " 'cheaper': 1,\n",
              " 'plan': 2,\n",
              " 'seriou': 2,\n",
              " 'becaus': 2,\n",
              " 'action': 4,\n",
              " 'forebear': 1,\n",
              " 'we': 4,\n",
              " 'race': 3,\n",
              " 'karma': 3,\n",
              " 'common': 2,\n",
              " 'tri': 6,\n",
              " 'advantag': 4,\n",
              " 'affirm': 1,\n",
              " 'divers': 1,\n",
              " 'quota': 1,\n",
              " 'scholarship': 1,\n",
              " 'white': 6,\n",
              " 'even': 8,\n",
              " 'poor': 2,\n",
              " 'poorer': 1,\n",
              " 'black': 6,\n",
              " 'commun': 6,\n",
              " 'lash': 1,\n",
              " 'problem': 2,\n",
              " 'solut': 1,\n",
              " 'what': 2,\n",
              " 'us': 7,\n",
              " 'to': 3,\n",
              " 'abolish': 2,\n",
              " 'polic': 2,\n",
              " 'law': 3,\n",
              " 'punish': 2,\n",
              " 'releas': 2,\n",
              " 'crimin': 2,\n",
              " 'forc': 2,\n",
              " 'neighborhood': 2,\n",
              " 'start': 3,\n",
              " 'measur': 2,\n",
              " 'consequ': 2,\n",
              " 'increas': 2,\n",
              " 'lie': 2,\n",
              " 'misguid': 1,\n",
              " 'individu': 3,\n",
              " 'prejudic': 1,\n",
              " 'insid': 2,\n",
              " 'day': 4,\n",
              " 'collect': 2,\n",
              " 'harder': 2,\n",
              " 'former': 2,\n",
              " 'possibl': 4,\n",
              " 'latter': 1,\n",
              " 'digress': 1,\n",
              " 'second': 3,\n",
              " 'fix': 1,\n",
              " 'violent': 2,\n",
              " 'riot': 8,\n",
              " 'racist': 3,\n",
              " 'forcibl': 1,\n",
              " 'orwellian': 1,\n",
              " 'thought': 3,\n",
              " 'system': 4,\n",
              " 'immor': 2,\n",
              " 'deepest': 1,\n",
              " 'mind': 3,\n",
              " 'complet': 3,\n",
              " 'sure': 3,\n",
              " 'nobodi': 2,\n",
              " 'take': 5,\n",
              " 'improv': 2,\n",
              " 'stop': 4,\n",
              " 'glorifi': 1,\n",
              " 'thuggish': 1,\n",
              " 'notic': 1,\n",
              " 'shift': 1,\n",
              " 'subconsci': 1,\n",
              " 'bake': 1,\n",
              " 'conscious': 1,\n",
              " 'person': 5,\n",
              " 'enough': 3,\n",
              " 'earn': 3,\n",
              " 'hate': 5,\n",
              " 'reason': 4,\n",
              " 'toward': 3,\n",
              " 'say': 6,\n",
              " 'surpris': 2,\n",
              " 'seen': 2,\n",
              " 'bjork': 1,\n",
              " 'song': 3,\n",
              " 'walk': 3,\n",
              " 'on': 2,\n",
              " 'sunshin': 1,\n",
              " 'katrina': 1,\n",
              " 'wave': 2,\n",
              " 'glad': 1,\n",
              " 'done': 4,\n",
              " 'mock': 1,\n",
              " 'season': 4,\n",
              " 'tactic': 4,\n",
              " 'target': 2,\n",
              " 'dumbass': 2,\n",
              " 'mad': 1,\n",
              " 'ai': 1,\n",
              " 'anger': 2,\n",
              " 'express': 1,\n",
              " 'happen': 3,\n",
              " 'damn': 2,\n",
              " 'sjw': 2,\n",
              " 'subset': 1,\n",
              " 'entitl': 5,\n",
              " 'asshol': 3,\n",
              " 'schalk': 1,\n",
              " 'format': 2,\n",
              " 'retain': 1,\n",
              " 'possess': 1,\n",
              " 'short': 2,\n",
              " 'pass': 2,\n",
              " 'work': 6,\n",
              " 'ball': 5,\n",
              " 'box': 4,\n",
              " 'big': 3,\n",
              " 'team': 5,\n",
              " 'tough': 1,\n",
              " 'away': 3,\n",
              " 'narrow': 1,\n",
              " 'exploit': 1,\n",
              " 'flank': 1,\n",
              " 'easier': 3,\n",
              " 'wider': 1,\n",
              " 'whip': 1,\n",
              " 'cross': 2,\n",
              " 'close': 2,\n",
              " 'more': 2,\n",
              " 'stuck': 1,\n",
              " 'dlp': 2,\n",
              " 'bbm': 1,\n",
              " 'bwm': 1,\n",
              " 'meyer': 1,\n",
              " 'attack': 3,\n",
              " 'defens': 2,\n",
              " 'wb': 1,\n",
              " 'fb': 2,\n",
              " 'midfield': 1,\n",
              " 'bought': 3,\n",
              " 'romero': 1,\n",
              " 'silva': 1,\n",
              " 'lb': 1,\n",
              " 'luckili': 1,\n",
              " 'front': 2,\n",
              " 'great': 5,\n",
              " 'includ': 2,\n",
              " 'up': 1,\n",
              " 'scari': 1,\n",
              " 'as': 2,\n",
              " 'alex': 2,\n",
              " 'jame': 2,\n",
              " 'said': 3,\n",
              " 'a': 2,\n",
              " 'barbour': 2,\n",
              " 'jacket': 2,\n",
              " 'bottl': 1,\n",
              " 'champagn': 1,\n",
              " 'invinc': 2,\n",
              " 'compliment': 1,\n",
              " 'best': 4,\n",
              " 'ani': 1,\n",
              " 'suggest': 2,\n",
              " 'far': 2,\n",
              " 'washington': 1,\n",
              " 'bitch': 2,\n",
              " 'honestli': 2,\n",
              " 'hell': 1,\n",
              " 'row': 2,\n",
              " 'seat': 2,\n",
              " 'confess': 1,\n",
              " 'point': 5,\n",
              " 'car': 9,\n",
              " 'reput': 2,\n",
              " 'propos': 3,\n",
              " 'driver': 2,\n",
              " 'clean': 2,\n",
              " 'dirti': 2,\n",
              " 'cleveland': 1,\n",
              " 'check': 2,\n",
              " 'intellig': 1,\n",
              " 'servic': 4,\n",
              " 'area': 4,\n",
              " 'easiest': 1,\n",
              " 'larg': 2,\n",
              " 'conflict': 3,\n",
              " 'fals': 3,\n",
              " 'flag': 1,\n",
              " 'terrorist': 2,\n",
              " 'encourag': 1,\n",
              " 'cycl': 2,\n",
              " 'reveng': 2,\n",
              " 'ad': 2,\n",
              " 'late': 2,\n",
              " 'snubbul': 1,\n",
              " 'id': 2,\n",
              " 'licens': 1,\n",
              " 'credit': 2,\n",
              " 'card': 5,\n",
              " 'subway': 1,\n",
              " 'stampcard': 1,\n",
              " 'streamlink': 1,\n",
              " 'http': 19,\n",
              " 'courtesi': 1,\n",
              " 'bigwig': 1,\n",
              " 'googl': 3,\n",
              " 'sociopath': 1,\n",
              " 'easili': 1,\n",
              " 'often': 1,\n",
              " 'rate': 3,\n",
              " 'enjoy': 2,\n",
              " 'when': 2,\n",
              " 'aw': 2,\n",
              " 'throughout': 1,\n",
              " 'mayb': 4,\n",
              " 'hmm': 1,\n",
              " 'char': 2,\n",
              " 'charact': 8,\n",
              " 'douchebag': 1,\n",
              " 'aoyama': 1,\n",
              " 'frustrat': 1,\n",
              " 'whi': 2,\n",
              " 'anyth': 2,\n",
              " 'now': 3,\n",
              " 'rememb': 2,\n",
              " 'terribl': 2,\n",
              " 'count': 2,\n",
              " 'overanalys': 1,\n",
              " 'art': 2,\n",
              " 'forget': 2,\n",
              " 'forgiv': 1,\n",
              " 'realiz': 3,\n",
              " 'onc': 1,\n",
              " 'episod': 10,\n",
              " 'cute': 2,\n",
              " 'keep': 4,\n",
              " 'distract': 1,\n",
              " 'gave': 2,\n",
              " 'honest': 3,\n",
              " 'score': 8,\n",
              " 'of': 4,\n",
              " 'cours': 2,\n",
              " 'overanalyz': 1,\n",
              " 'part': 3,\n",
              " 'went': 2,\n",
              " 'somewhat': 1,\n",
              " 'holi': 2,\n",
              " 'shit': 4,\n",
              " 'scene': 1,\n",
              " 'sped': 1,\n",
              " 'fast': 2,\n",
              " 'martial': 1,\n",
              " 'movi': 6,\n",
              " 'inspir': 1,\n",
              " 'broke': 2,\n",
              " 'tour': 2,\n",
              " 'misconcept': 1,\n",
              " 'broken': 1,\n",
              " 'despit': 2,\n",
              " 'tweet': 2,\n",
              " 'addit': 2,\n",
              " 'fish': 2,\n",
              " 'download': 2,\n",
              " 'razer': 1,\n",
              " 'surround': 2,\n",
              " 'option': 2,\n",
              " 'upgrad': 2,\n",
              " 'program': 3,\n",
              " 'thnx': 1,\n",
              " 'nicknam': 2,\n",
              " 'nfln': 2,\n",
              " 'henceforth': 1,\n",
              " 'known': 1,\n",
              " 'danc': 2,\n",
              " 'command': 1,\n",
              " 'him': 2,\n",
              " 'byron': 1,\n",
              " 'jone': 1,\n",
              " 'uconn': 1,\n",
              " 'our': 1,\n",
              " 'backfield': 1,\n",
              " 'rush': 3,\n",
              " 'yard': 1,\n",
              " 'easi': 2,\n",
              " 'not': 3,\n",
              " 'mention': 2,\n",
              " 'kap': 1,\n",
              " 'smoke': 4,\n",
              " 'tobacco': 1,\n",
              " 'marlboro': 1,\n",
              " 'turkish': 1,\n",
              " 'silver': 1,\n",
              " 'spirit': 3,\n",
              " 'pipe': 3,\n",
              " 'decid': 2,\n",
              " 'die': 3,\n",
              " 'kept': 2,\n",
              " 'interest': 2,\n",
              " 'event': 2,\n",
              " 'attend': 2,\n",
              " 'weekli': 2,\n",
              " 'op': 2,\n",
              " 'modd': 1,\n",
              " 'shitpost': 1,\n",
              " 'shitcept': 1,\n",
              " 'veri': 2,\n",
              " 'low': 1,\n",
              " 'subtl': 1,\n",
              " 'mania': 1,\n",
              " 'from': 2,\n",
              " 'cowork': 1,\n",
              " 'reaction': 2,\n",
              " 'effici': 1,\n",
              " 'zombi': 1,\n",
              " 'mode': 2,\n",
              " 'physic': 2,\n",
              " 'tire': 6,\n",
              " 'alert': 1,\n",
              " 'mental': 2,\n",
              " 'dumb': 3,\n",
              " 'typo': 1,\n",
              " 'mistak': 3,\n",
              " 'finger': 3,\n",
              " 'left': 2,\n",
              " 'finish': 2,\n",
              " 'night': 5,\n",
              " 'kind': 3,\n",
              " 'suck': 2,\n",
              " 'brain': 2,\n",
              " 'fog': 1,\n",
              " 'lift': 2,\n",
              " 'next': 2,\n",
              " 'today': 3,\n",
              " 'bed': 3,\n",
              " 'earlier': 1,\n",
              " 'middl': 2,\n",
              " 'awak': 2,\n",
              " 'wide': 1,\n",
              " 'eventu': 2,\n",
              " 'fall': 2,\n",
              " 'asleep': 1,\n",
              " 'schedul': 1,\n",
              " 'sinc': 3,\n",
              " 'stay': 2,\n",
              " 'weekend': 3,\n",
              " 'doze': 1,\n",
              " 'afternoon': 2,\n",
              " 'memori': 1,\n",
              " 'consolid': 1,\n",
              " 'wonder': 2,\n",
              " 'am': 2,\n",
              " 'less': 2,\n",
              " 'process': 2,\n",
              " 'faster': 2,\n",
              " 'normal': 3,\n",
              " 'extra': 2,\n",
              " 'term': 3,\n",
              " 'nice': 2,\n",
              " 'translat': 2,\n",
              " 'qualiti': 2,\n",
              " 'blah': 3,\n",
              " 'woulda': 1,\n",
              " 'perfect': 3,\n",
              " 'legitim': 2,\n",
              " 'member': 2,\n",
              " 'tea': 2,\n",
              " 'henchmen': 1,\n",
              " 'bewar': 1,\n",
              " 'batman': 1,\n",
              " 'wrong': 4,\n",
              " 'comprehens': 1,\n",
              " 'valuabl': 1,\n",
              " 'repli': 2,\n",
              " 'straw': 2,\n",
              " 'argument': 7,\n",
              " 'vitriol': 1,\n",
              " 'masturb': 1,\n",
              " 'univers': 4,\n",
              " 'age': 2,\n",
              " 'speech': 1,\n",
              " 'class': 4,\n",
              " 'brick': 1,\n",
              " 'baltimor': 1,\n",
              " 'violenc': 1,\n",
              " 'busi': 4,\n",
              " 'predominantli': 1,\n",
              " 'racism': 2,\n",
              " 'none': 1,\n",
              " 'justifi': 1,\n",
              " 'just': 2,\n",
              " 'la': 3,\n",
              " 'amp': 12,\n",
              " 'support': 4,\n",
              " 'expens': 1,\n",
              " 'consol': 2,\n",
              " 'version': 2,\n",
              " 'suppos': 2,\n",
              " 'did': 3,\n",
              " 'quiz': 1,\n",
              " 'eat': 17,\n",
              " 'ice': 2,\n",
              " 'cream': 7,\n",
              " 'all': 3,\n",
              " 'ghost': 3,\n",
              " 'blue': 2,\n",
              " 'blinki': 1,\n",
              " 'note': 3,\n",
              " 'tier': 2,\n",
              " 'hacker': 1,\n",
              " 'hotwir': 1,\n",
              " 'sorri': 2,\n",
              " 'rage': 2,\n",
              " 'clear': 2,\n",
              " 'major': 2,\n",
              " 'incid': 3,\n",
              " 'sex': 3,\n",
              " 'indoctrin': 1,\n",
              " 'famili': 2,\n",
              " 'ya': 1,\n",
              " 'razor': 1,\n",
              " 'laser': 3,\n",
              " 'studi': 2,\n",
              " 'hall': 1,\n",
              " 'school': 5,\n",
              " 'paranoid': 1,\n",
              " 'anxieti': 1,\n",
              " 'fit': 2,\n",
              " 'transfix': 1,\n",
              " 'pregnant': 2,\n",
              " 'catch': 3,\n",
              " 'diseas': 3,\n",
              " 'ye': 2,\n",
              " 'sweet': 3,\n",
              " 'saul': 3,\n",
              " 'sixth': 1,\n",
              " 'can': 1,\n",
              " 'sticki': 1,\n",
              " 'main': 3,\n",
              " 'thread': 6,\n",
              " 'ten': 1,\n",
              " 'thousand': 2,\n",
              " 'instal': 3,\n",
              " 'electr': 3,\n",
              " 'danger': 4,\n",
              " 'stupid': 3,\n",
              " 'follow': 4,\n",
              " 'code': 2,\n",
              " 'simpl': 2,\n",
              " 'stuff': 2,\n",
              " 'pick': 3,\n",
              " 'electrician': 1,\n",
              " 'crossov': 1,\n",
              " 'municip': 1,\n",
              " 'some': 2,\n",
              " 'allow': 3,\n",
              " 'claw': 1,\n",
              " 'rout': 1,\n",
              " 'dude': 2,\n",
              " 'fajita': 1,\n",
              " 'dammit': 1,\n",
              " 'advic': 2,\n",
              " 'legal': 2,\n",
              " 'medic': 4,\n",
              " 'marijuana': 1,\n",
              " 'goe': 2,\n",
              " 'stand': 3,\n",
              " 'massiv': 1,\n",
              " 'circlejerk': 1,\n",
              " 'shower': 3,\n",
              " 'upvot': 1,\n",
              " 'gold': 2,\n",
              " 'pay': 4,\n",
              " 'chroma': 2,\n",
              " 'base': 3,\n",
              " 'textur': 2,\n",
              " 'skin': 5,\n",
              " 'blucian': 1,\n",
              " 'purchas': 3,\n",
              " 'price': 3,\n",
              " 'valu': 3,\n",
              " 'particular': 1,\n",
              " 'howev': 2,\n",
              " 'obtain': 1,\n",
              " 'rp': 2,\n",
              " 'board': 4,\n",
              " 'layout': 2,\n",
              " 'size': 3,\n",
              " 'minim': 1,\n",
              " 'aspect': 1,\n",
              " 'key': 3,\n",
              " 'larger': 2,\n",
              " 'regular': 1,\n",
              " 'keyboard': 2,\n",
              " 'fewer': 1,\n",
              " 'lower': 2,\n",
              " 'profil': 2,\n",
              " 'case': 7,\n",
              " 'thi': 2,\n",
              " ...}"
            ]
          },
          "metadata": {},
          "execution_count": 20
        }
      ]
    },
    {
      "cell_type": "markdown",
      "source": [
        "## Finding IDF(t)"
      ],
      "metadata": {
        "id": "4Esvi1tw2rcx"
      }
    },
    {
      "cell_type": "markdown",
      "source": [
        "### Converting df to numpy array"
      ],
      "metadata": {
        "id": "HDeOo3VPRaCV"
      }
    },
    {
      "cell_type": "code",
      "source": [
        "df_list = list(document_frequency.items())\n",
        "df_array = np.asarray(df_list)\n",
        "df_array = df_array[:, 1]\n",
        "df_array = df_array.astype(np.float)"
      ],
      "metadata": {
        "id": "SNxlNY0LQSwi"
      },
      "execution_count": null,
      "outputs": []
    },
    {
      "cell_type": "code",
      "source": [
        "df_array"
      ],
      "metadata": {
        "colab": {
          "base_uri": "https://localhost:8080/"
        },
        "id": "atujuJzlQpow",
        "outputId": "df0be230-f459-458c-ece3-ec704894cbb1"
      },
      "execution_count": null,
      "outputs": [
        {
          "output_type": "execute_result",
          "data": {
            "text/plain": [
              "array([4., 6., 3., ..., 1., 1., 1.])"
            ]
          },
          "metadata": {},
          "execution_count": 22
        }
      ]
    },
    {
      "cell_type": "markdown",
      "source": [
        "### Finding IDF for each term"
      ],
      "metadata": {
        "id": "Ceg41SiTRrX5"
      }
    },
    {
      "cell_type": "code",
      "source": [
        "idf = [] \n",
        "\n",
        "for i, term in enumerate(term_list):\n",
        "  idf.append(1 + np.log(len(comments) / df_array[i]))"
      ],
      "metadata": {
        "id": "dcb-LidCRpyQ"
      },
      "execution_count": null,
      "outputs": []
    },
    {
      "cell_type": "code",
      "source": [
        "idf = np.asarray(idf)"
      ],
      "metadata": {
        "id": "3t3uvfCKSc0F"
      },
      "execution_count": null,
      "outputs": []
    },
    {
      "cell_type": "code",
      "source": [
        "idf.shape"
      ],
      "metadata": {
        "colab": {
          "base_uri": "https://localhost:8080/"
        },
        "id": "cR8DJFcZSi3c",
        "outputId": "e46d23b9-3af7-417a-9da9-ddfea3036cbe"
      },
      "execution_count": null,
      "outputs": [
        {
          "output_type": "execute_result",
          "data": {
            "text/plain": [
              "(12294,)"
            ]
          },
          "metadata": {},
          "execution_count": 25
        }
      ]
    },
    {
      "cell_type": "code",
      "source": [
        "idf"
      ],
      "metadata": {
        "colab": {
          "base_uri": "https://localhost:8080/"
        },
        "id": "uYXbsqPBSXCb",
        "outputId": "2362a154-1abc-4d63-99eb-5ba5a2491826"
      },
      "execution_count": null,
      "outputs": [
        {
          "output_type": "execute_result",
          "data": {
            "text/plain": [
              "array([8.52145333, 8.11598822, 8.8091354 , ..., 9.90774769, 9.90774769,\n",
              "       9.90774769])"
            ]
          },
          "metadata": {},
          "execution_count": 26
        }
      ]
    },
    {
      "cell_type": "markdown",
      "source": [
        "## Combining TF-IDF to get the weighted matrix"
      ],
      "metadata": {
        "id": "I4G1UgrWSmik"
      }
    },
    {
      "cell_type": "markdown",
      "source": [
        "### Calculate final  weighted matrix for all documents"
      ],
      "metadata": {
        "id": "kHLav9LLSsV3"
      }
    },
    {
      "cell_type": "code",
      "source": [
        "weighted_matrix = tf_matrix \n",
        "\n",
        "for index_v, vector in enumerate(weighted_matrix):\n",
        "  weighted_matrix[index_v] = weighted_matrix[index_v] * idf "
      ],
      "metadata": {
        "id": "2y_wbiFASyFK"
      },
      "execution_count": null,
      "outputs": []
    },
    {
      "cell_type": "code",
      "source": [
        "weighted_matrix.shape"
      ],
      "metadata": {
        "colab": {
          "base_uri": "https://localhost:8080/"
        },
        "id": "5PU9RpcCTEHz",
        "outputId": "2f9d7dc7-70c6-4a04-b1cf-d27904d201bf"
      },
      "execution_count": null,
      "outputs": [
        {
          "output_type": "execute_result",
          "data": {
            "text/plain": [
              "(7389, 12294)"
            ]
          },
          "metadata": {},
          "execution_count": 28
        }
      ]
    },
    {
      "cell_type": "code",
      "source": [
        "weighted_matrix"
      ],
      "metadata": {
        "colab": {
          "base_uri": "https://localhost:8080/"
        },
        "id": "I0JYt_wKTF3J",
        "outputId": "3a8f61cb-4b6e-4b1e-c2f6-dfd4e09e2944"
      },
      "execution_count": null,
      "outputs": [
        {
          "output_type": "execute_result",
          "data": {
            "text/plain": [
              "array([[8, 8, 8, ..., 0, 0, 0],\n",
              "       [0, 0, 0, ..., 0, 0, 0],\n",
              "       [0, 8, 0, ..., 0, 0, 0],\n",
              "       ...,\n",
              "       [0, 0, 0, ..., 9, 0, 0],\n",
              "       [0, 0, 0, ..., 0, 0, 0],\n",
              "       [0, 0, 0, ..., 0, 9, 9]])"
            ]
          },
          "metadata": {},
          "execution_count": 29
        }
      ]
    },
    {
      "cell_type": "markdown",
      "source": [
        "# Dividing Weighted Matrix into training and testing datasets"
      ],
      "metadata": {
        "id": "TcIUF763aEF8"
      }
    },
    {
      "cell_type": "code",
      "source": [
        "training_set = weighted_matrix[:int(0.7 * len(weighted_matrix))]\n",
        "training_labels = subreddit_trimmed[:int(0.7 * len(subreddit_trimmed))]\n",
        "\n",
        "testing_set = weighted_matrix[int(0.7 * len(weighted_matrix)):]\n",
        "testing_labels = subreddit_trimmed[int(0.7 * len(subreddit_trimmed)):]"
      ],
      "metadata": {
        "id": "TDNDzDuqatNr"
      },
      "execution_count": null,
      "outputs": []
    },
    {
      "cell_type": "code",
      "source": [
        "training_set.shape"
      ],
      "metadata": {
        "colab": {
          "base_uri": "https://localhost:8080/"
        },
        "id": "NDBqUziBcGdp",
        "outputId": "b651bb9f-9001-4c62-bece-35ab96d10041"
      },
      "execution_count": null,
      "outputs": [
        {
          "output_type": "execute_result",
          "data": {
            "text/plain": [
              "(5172, 12294)"
            ]
          },
          "metadata": {},
          "execution_count": 31
        }
      ]
    },
    {
      "cell_type": "code",
      "source": [
        "len(training_labels)"
      ],
      "metadata": {
        "colab": {
          "base_uri": "https://localhost:8080/"
        },
        "id": "BLV3e5JZcLbG",
        "outputId": "fa32cc55-937e-4e93-cfbc-a7c7d6147136"
      },
      "execution_count": null,
      "outputs": [
        {
          "output_type": "execute_result",
          "data": {
            "text/plain": [
              "5172"
            ]
          },
          "metadata": {},
          "execution_count": 32
        }
      ]
    },
    {
      "cell_type": "code",
      "source": [
        "testing_set.shape"
      ],
      "metadata": {
        "colab": {
          "base_uri": "https://localhost:8080/"
        },
        "id": "FgqN6jDGcJUs",
        "outputId": "04d0a09e-4027-4ed5-af22-8b2b5203877c"
      },
      "execution_count": null,
      "outputs": [
        {
          "output_type": "execute_result",
          "data": {
            "text/plain": [
              "(2217, 12294)"
            ]
          },
          "metadata": {},
          "execution_count": 33
        }
      ]
    },
    {
      "cell_type": "code",
      "source": [
        "len(testing_labels)"
      ],
      "metadata": {
        "colab": {
          "base_uri": "https://localhost:8080/"
        },
        "id": "lZEm57DXcVpX",
        "outputId": "e1c9b4c3-c1e1-4d41-bf23-dff1eb4a20a3"
      },
      "execution_count": null,
      "outputs": [
        {
          "output_type": "execute_result",
          "data": {
            "text/plain": [
              "1477"
            ]
          },
          "metadata": {},
          "execution_count": 61
        }
      ]
    },
    {
      "cell_type": "markdown",
      "source": [
        "# Performing PCA"
      ],
      "metadata": {
        "id": "v1pkQbBtc2Hp"
      }
    },
    {
      "cell_type": "markdown",
      "source": [
        "## Working with training set"
      ],
      "metadata": {
        "id": "_Cwkm8UydEvp"
      }
    },
    {
      "cell_type": "markdown",
      "source": [
        "### Find average of all training vectors"
      ],
      "metadata": {
        "id": "qY5FQ44-oXeC"
      }
    },
    {
      "cell_type": "code",
      "source": [
        "avg_training_vector = np.mean(training_set, axis=0)\n",
        "print(avg_training_vector.shape)"
      ],
      "metadata": {
        "colab": {
          "base_uri": "https://localhost:8080/"
        },
        "id": "UT9AwNczoMxZ",
        "outputId": "ee32d4a0-8260-492b-a1d9-95fef7c24496"
      },
      "execution_count": null,
      "outputs": [
        {
          "output_type": "stream",
          "name": "stdout",
          "text": [
            "(12312,)\n"
          ]
        }
      ]
    },
    {
      "cell_type": "markdown",
      "source": [
        "### Show average training vector"
      ],
      "metadata": {
        "id": "FKMUABvLqM_I"
      }
    },
    {
      "cell_type": "code",
      "source": [
        "avg_training_vector"
      ],
      "metadata": {
        "id": "JXtVRHGvqQT9",
        "colab": {
          "base_uri": "https://localhost:8080/"
        },
        "outputId": "7c6d4b0a-c689-4020-d57f-25344b9d95b9"
      },
      "execution_count": null,
      "outputs": [
        {
          "output_type": "execute_result",
          "data": {
            "text/plain": [
              "array([0.01602317, 0.84478764, 0.18378378, ..., 0.        , 0.        ,\n",
              "       0.        ])"
            ]
          },
          "metadata": {},
          "execution_count": 23
        }
      ]
    },
    {
      "cell_type": "markdown",
      "source": [
        "### Calculating demean vector"
      ],
      "metadata": {
        "id": "5LSdFrnWovAU"
      }
    },
    {
      "cell_type": "code",
      "source": [
        "demean_training_vectors = np.subtract(training_set, avg_training_vector)"
      ],
      "metadata": {
        "id": "FLnvGAgfoySO"
      },
      "execution_count": null,
      "outputs": []
    },
    {
      "cell_type": "code",
      "source": [
        "print(demean_training_vectors.shape)\n",
        "print(demean_training_vectors)"
      ],
      "metadata": {
        "colab": {
          "base_uri": "https://localhost:8080/"
        },
        "id": "b5jIWYdZo1se",
        "outputId": "472f1ac4-d313-409a-8490-e1f9255823d1"
      },
      "execution_count": null,
      "outputs": [
        {
          "output_type": "stream",
          "name": "stdout",
          "text": [
            "(5174, 12296)\n",
            "[[ 7.98395825  7.1542327   7.81600309 ...  0.          0.\n",
            "   0.        ]\n",
            " [-0.01604175 -0.8457673  -0.18399691 ...  0.          0.\n",
            "   0.        ]\n",
            " [-0.01604175  7.1542327  -0.18399691 ...  0.          0.\n",
            "   0.        ]\n",
            " ...\n",
            " [-0.01604175 -0.8457673  -0.18399691 ...  0.          0.\n",
            "   0.        ]\n",
            " [-0.01604175 -0.8457673  -0.18399691 ...  0.          0.\n",
            "   0.        ]\n",
            " [-0.01604175 -0.8457673  -0.18399691 ...  0.          0.\n",
            "   0.        ]]\n"
          ]
        }
      ]
    },
    {
      "cell_type": "markdown",
      "source": [
        "### Calculate Covariance Matrix using A^T.A"
      ],
      "metadata": {
        "id": "8Qy_mJNYo6-7"
      }
    },
    {
      "cell_type": "code",
      "source": [
        "print(np.transpose(demean_training_vectors).shape)"
      ],
      "metadata": {
        "colab": {
          "base_uri": "https://localhost:8080/"
        },
        "id": "R196FlAwo6GC",
        "outputId": "7cae5b44-a26e-4dde-bb3c-1ef3ac8b259e"
      },
      "execution_count": null,
      "outputs": [
        {
          "output_type": "stream",
          "name": "stdout",
          "text": [
            "(12296, 5174)\n"
          ]
        }
      ]
    },
    {
      "cell_type": "code",
      "source": [
        "covariance_matrix = np.dot(demean_training_vectors, demean_training_vectors.T)"
      ],
      "metadata": {
        "id": "CSRAemOGpQlv"
      },
      "execution_count": null,
      "outputs": []
    },
    {
      "cell_type": "code",
      "source": [
        "print(covariance_matrix.shape)\n",
        "print(covariance_matrix[0].shape)"
      ],
      "metadata": {
        "colab": {
          "base_uri": "https://localhost:8080/"
        },
        "id": "-tMD35PZpYYB",
        "outputId": "1d328741-c05d-4996-a578-c1fef602b48d"
      },
      "execution_count": null,
      "outputs": [
        {
          "output_type": "stream",
          "name": "stdout",
          "text": [
            "(5172, 5172)\n",
            "(5172,)\n"
          ]
        }
      ]
    },
    {
      "cell_type": "markdown",
      "source": [
        "### Getting Eigenvectors and Eigenvalues of Covariance Matrix"
      ],
      "metadata": {
        "id": "rtsduvPGpcUy"
      }
    },
    {
      "cell_type": "code",
      "source": [
        "import scipy.linalg as la\n",
        "from numpy import linalg as LA\n",
        "\n",
        "eigenvalues, eigenvectors = LA.eig(covariance_matrix)"
      ],
      "metadata": {
        "id": "xucFXFOepe1D"
      },
      "execution_count": null,
      "outputs": []
    },
    {
      "cell_type": "code",
      "source": [
        "idx = eigenvalues.argsort()[::-1]"
      ],
      "metadata": {
        "id": "fronVwUU1xYV"
      },
      "execution_count": null,
      "outputs": []
    },
    {
      "cell_type": "code",
      "source": [
        "eigenvalues = eigenvalues[idx]\n",
        "eigenvectors = eigenvectors[:, idx]"
      ],
      "metadata": {
        "id": "wzeDDGuN2Zck"
      },
      "execution_count": null,
      "outputs": []
    },
    {
      "cell_type": "code",
      "source": [
        "print(eigenvalues.shape)\n",
        "print(eigenvectors.shape)"
      ],
      "metadata": {
        "colab": {
          "base_uri": "https://localhost:8080/"
        },
        "id": "X0_CRrX02mXO",
        "outputId": "d19e05a8-025b-4cc1-e7e7-cc313fdaabe0"
      },
      "execution_count": null,
      "outputs": [
        {
          "output_type": "stream",
          "name": "stdout",
          "text": [
            "(5180,)\n",
            "(5180, 5180)\n"
          ]
        }
      ]
    },
    {
      "cell_type": "code",
      "source": [
        "k = 12\n",
        "\n",
        "eigenvalues = eigenvalues[:k]\n",
        "print(eigenvalues)"
      ],
      "metadata": {
        "colab": {
          "base_uri": "https://localhost:8080/"
        },
        "id": "g8Y0qfuzphx3",
        "outputId": "0e2382d4-63d4-4d8e-e400-035cefa548e6"
      },
      "execution_count": null,
      "outputs": [
        {
          "output_type": "stream",
          "name": "stdout",
          "text": [
            "[880621.90327029+0.j 433564.23061492+0.j 256090.09902141+0.j\n",
            " 145038.58921204+0.j 132330.65165294+0.j  84180.21276656+0.j\n",
            "  67306.59115763+0.j  63939.96974523+0.j  53444.11853256+0.j\n",
            "  50622.93401735+0.j  49411.55968879+0.j  46362.34391872+0.j]\n"
          ]
        }
      ]
    },
    {
      "cell_type": "code",
      "source": [
        "eigenvectors = eigenvectors[:, :k]\n",
        "print(eigenvectors)"
      ],
      "metadata": {
        "colab": {
          "base_uri": "https://localhost:8080/"
        },
        "id": "hTx270L9piMP",
        "outputId": "29d40e7c-47c4-4cd6-9a79-393d71cf9422"
      },
      "execution_count": null,
      "outputs": [
        {
          "output_type": "stream",
          "name": "stdout",
          "text": [
            "[[-0.0007794 +0.j -0.00072807+0.j  0.00183337+0.j ... -0.00102194+0.j\n",
            "  -0.01332293+0.j -0.02186919+0.j]\n",
            " [-0.00432054+0.j  0.00095121+0.j -0.00196024+0.j ... -0.01759312+0.j\n",
            "   0.00325487+0.j  0.00579069+0.j]\n",
            " [-0.00614756+0.j  0.00091848+0.j -0.00142567+0.j ... -0.0010875 +0.j\n",
            "  -0.01213589+0.j -0.02344332+0.j]\n",
            " ...\n",
            " [-0.00605571+0.j  0.00232387+0.j -0.00554543+0.j ...  0.00833598+0.j\n",
            "   0.01104986+0.j  0.00381711+0.j]\n",
            " [ 0.01004086+0.j -0.00101383+0.j -0.00429206+0.j ...  0.02104   +0.j\n",
            "  -0.01256208+0.j  0.01741605+0.j]\n",
            " [-0.00624313+0.j  0.00148179+0.j -0.00044966+0.j ... -0.00546651+0.j\n",
            "   0.00352655+0.j  0.00076148+0.j]]\n"
          ]
        }
      ]
    },
    {
      "cell_type": "code",
      "source": [
        "print(eigenvalues.shape)\n",
        "print(eigenvectors.shape)"
      ],
      "metadata": {
        "colab": {
          "base_uri": "https://localhost:8080/"
        },
        "id": "SIXumgH7pkZN",
        "outputId": "e2efc93d-9c93-40d8-ffe6-862241108c9b"
      },
      "execution_count": null,
      "outputs": [
        {
          "output_type": "stream",
          "name": "stdout",
          "text": [
            "(12,)\n",
            "(5180, 12)\n"
          ]
        }
      ]
    },
    {
      "cell_type": "markdown",
      "source": [
        "## Getting the orthogonal basis"
      ],
      "metadata": {
        "id": "jp9T4YKd0nH_"
      }
    },
    {
      "cell_type": "code",
      "source": [
        "import math\n",
        "u = np.dot(demean_training_vectors.T, eigenvectors.real)\n"
      ],
      "metadata": {
        "id": "Fj41sdjy15S2"
      },
      "execution_count": null,
      "outputs": []
    },
    {
      "cell_type": "code",
      "source": [
        "u = np.array(u)\n",
        "print(u.shape)\n",
        "print(u[0].shape)\n",
        "print(type(u))"
      ],
      "metadata": {
        "colab": {
          "base_uri": "https://localhost:8080/"
        },
        "id": "NJ3sbiDL1sqd",
        "outputId": "b7986c61-5400-42ef-d0c9-9df0d66ad779"
      },
      "execution_count": null,
      "outputs": [
        {
          "output_type": "stream",
          "name": "stdout",
          "text": [
            "(12312, 12)\n",
            "(12,)\n",
            "<class 'numpy.ndarray'>\n"
          ]
        }
      ]
    },
    {
      "cell_type": "markdown",
      "source": [
        "## Representing each training set image vector in the linear combinations of K eigenvectors."
      ],
      "metadata": {
        "id": "uJLEyWHY-Abz"
      }
    },
    {
      "cell_type": "code",
      "source": [
        "ytrain = [] \n",
        "\n",
        "for vector in demean_training_vectors:\n",
        "  temp = np.dot(u.T, vector)\n",
        "  ytrain.append(temp)"
      ],
      "metadata": {
        "id": "GeGhOass9_9L"
      },
      "execution_count": null,
      "outputs": []
    },
    {
      "cell_type": "code",
      "source": [
        "ytrain = np.array(ytrain)"
      ],
      "metadata": {
        "id": "AU0S6btbHHV2"
      },
      "execution_count": null,
      "outputs": []
    },
    {
      "cell_type": "code",
      "source": [
        "ytrain.shape"
      ],
      "metadata": {
        "colab": {
          "base_uri": "https://localhost:8080/"
        },
        "id": "sOwmRyEi_WAC",
        "outputId": "8a4bdbab-add7-4f28-de29-ca8c3872d14c"
      },
      "execution_count": null,
      "outputs": [
        {
          "output_type": "execute_result",
          "data": {
            "text/plain": [
              "(5180, 12)"
            ]
          },
          "metadata": {},
          "execution_count": 105
        }
      ]
    },
    {
      "cell_type": "markdown",
      "source": [
        "## Working with Testing Dateset"
      ],
      "metadata": {
        "id": "8ApgMF7cp0tN"
      }
    },
    {
      "cell_type": "markdown",
      "source": [
        "### Find the normalized vector of testing set data by subtracting testing set vectors from average of training set vectors"
      ],
      "metadata": {
        "id": "hBsQXl3zp_Qs"
      }
    },
    {
      "cell_type": "code",
      "source": [
        "demean_testing_vectors = np.subtract(testing_set, avg_training_vector)"
      ],
      "metadata": {
        "id": "xEZMtejRp8Qt"
      },
      "execution_count": null,
      "outputs": []
    },
    {
      "cell_type": "code",
      "source": [
        "print(demean_testing_vectors.shape)\n",
        "print(demean_testing_vectors)"
      ],
      "metadata": {
        "colab": {
          "base_uri": "https://localhost:8080/"
        },
        "id": "2Je8NFu0qSms",
        "outputId": "b9fe0be2-68e8-4a76-e5f5-39a3e2134d85"
      },
      "execution_count": null,
      "outputs": [
        {
          "output_type": "stream",
          "name": "stdout",
          "text": [
            "(2221, 12312)\n",
            "[[-0.01602317 -0.84478764 -0.18378378 ...  0.          0.\n",
            "   0.        ]\n",
            " [-0.01602317 -0.84478764 -0.18378378 ...  0.          0.\n",
            "   0.        ]\n",
            " [-0.01602317 -0.84478764 -0.18378378 ...  0.          0.\n",
            "   0.        ]\n",
            " ...\n",
            " [-0.01602317 -0.84478764 -0.18378378 ...  9.          0.\n",
            "   0.        ]\n",
            " [-0.01602317 -0.84478764 -0.18378378 ...  0.          0.\n",
            "   0.        ]\n",
            " [-0.01602317 -0.84478764 -0.18378378 ...  0.          9.\n",
            "   9.        ]]\n"
          ]
        }
      ]
    },
    {
      "cell_type": "markdown",
      "source": [
        "## Representing each testing set image vector in the linear combinations of K eigenvectors."
      ],
      "metadata": {
        "id": "zoHVH_ryI5sH"
      }
    },
    {
      "cell_type": "code",
      "source": [
        "ytest = [] \n",
        "\n",
        "for vector in demean_testing_vectors:\n",
        "  temp = np.dot(u.T, vector)\n",
        "  ytest.append(temp)"
      ],
      "metadata": {
        "id": "nFv52mEVmPx_"
      },
      "execution_count": null,
      "outputs": []
    },
    {
      "cell_type": "code",
      "source": [
        "ytest = np.array(ytest)"
      ],
      "metadata": {
        "id": "Xs2LW9EWKCgF"
      },
      "execution_count": null,
      "outputs": []
    },
    {
      "cell_type": "code",
      "source": [
        "ytest.shape"
      ],
      "metadata": {
        "colab": {
          "base_uri": "https://localhost:8080/"
        },
        "outputId": "69262d16-ea0d-4eca-93f7-4ea616d5b2fa",
        "id": "R7BR8PJDKCgL"
      },
      "execution_count": null,
      "outputs": [
        {
          "output_type": "execute_result",
          "data": {
            "text/plain": [
              "(2221, 12)"
            ]
          },
          "metadata": {},
          "execution_count": 108
        }
      ]
    },
    {
      "cell_type": "markdown",
      "source": [
        "# Running KMeans with the reduced dimensions found from PCA on ytrain"
      ],
      "metadata": {
        "id": "a1ZgjztXq2Mk"
      }
    },
    {
      "cell_type": "code",
      "source": [
        "from sklearn.cluster import KMeans\n",
        "import time"
      ],
      "metadata": {
        "id": "X4lAxNA6qp4n"
      },
      "execution_count": null,
      "outputs": []
    },
    {
      "cell_type": "code",
      "source": [
        "# K Clusters\n",
        "K = 10\n",
        "\n",
        "print('Reddit Comments Data Kmeans Started: ')\n",
        "start_time = time.time()\n",
        "\n",
        "# Running KMeans on images 10 times and making 10 clusters\n",
        "# Initialization of centroids are done randomly\n",
        "kmeans = KMeans(n_clusters=K, init='random', n_init=K).fit(ytrain)\n",
        "\n",
        "print('Reddit Comments Data Kmeans  Ended: ')\n",
        "print(\"--- %s seconds ---\" % (time.time() - start_time))\n",
        "\n",
        "# the cluster centers or centroids\n",
        "clusters = kmeans.cluster_centers_\n",
        "\n",
        "# find which points in the sample belong to which cluster\n",
        "cluster_affiliations = kmeans.predict(ytrain)\n",
        "\n",
        "print('Total Number of Clusters: ', len(clusters))\n",
        "print('Clusters: ', clusters)\n",
        "print('Clusters Shape: ', clusters.shape)\n",
        "\n",
        "print('Total Number of points in all clusters: ', len(cluster_affiliations))\n",
        "print('Cluster Affiliations: ', cluster_affiliations)"
      ],
      "metadata": {
        "colab": {
          "base_uri": "https://localhost:8080/"
        },
        "id": "GX1KnlMQq63r",
        "outputId": "79d4cb05-5666-4d89-afe7-d87baa243671"
      },
      "execution_count": null,
      "outputs": [
        {
          "output_type": "stream",
          "name": "stdout",
          "text": [
            "Reddit Comments Data Kmeans Started: \n",
            "Reddit Comments Data Kmeans  Ended: \n",
            "--- 2.0903146266937256 seconds ---\n",
            "Total Number of Clusters:  10\n",
            "Clusters:  [[ 2.96791278e+03 -1.68711310e+02 -3.02798205e+03 -3.46123970e+03\n",
            "   1.18781219e+03 -8.25223011e+02  7.37554820e+02 -3.07098954e+02\n",
            "  -3.91927403e+01  3.48050879e+01 -2.32993139e+02  9.54523575e+01]\n",
            " [ 2.23655529e+05  4.16702785e+05 -2.11398182e+03  3.65877852e+03\n",
            "  -3.13358501e+03 -8.76287854e+02 -1.81651866e+03 -3.85049166e+02\n",
            "  -2.94584856e+02 -2.50780236e+02 -2.10669492e+02 -2.15769572e+03]\n",
            " [ 2.02432836e+04 -2.56887797e+03  1.88639910e+03 -9.84002830e+01\n",
            "  -2.11258985e+02 -4.06858590e+02 -1.11646695e+02  5.65280204e+01\n",
            "   5.53711910e+01  2.11521141e+00 -7.82706497e+01  1.86166586e+02]\n",
            " [ 1.05185414e+03 -1.06436364e+03 -1.76449604e+04 -1.87301774e+04\n",
            "  -2.86670847e+04  4.47940566e+03 -9.63481843e+02  4.57631962e+03\n",
            "  -4.61407931e+02 -8.80031866e+01  3.21989211e+02 -6.29593832e+02]\n",
            " [-5.42319977e+03  6.06606411e+02 -3.47671334e+02  4.39830151e+01\n",
            "   1.42112008e+02  6.84924680e+01  6.50242656e+00  1.53008904e+01\n",
            "  -3.19048386e+01  8.76783881e+00  4.26905218e+01 -2.43623132e+01]\n",
            " [ 7.14609602e+03 -1.09936413e+03  1.29247090e+03  5.94045012e+02\n",
            "  -3.43960423e+02  4.39112278e+01 -1.12483731e+02 -5.19833902e+01\n",
            "   7.05498525e+01 -1.12957815e+01 -3.54078934e+01 -1.92720009e+01]\n",
            " [-2.05590250e+02 -5.87298043e+01  3.36656131e+02  3.03411409e+02\n",
            "  -6.62433845e+01  6.42298304e+01 -3.11650483e+01 -3.49380798e+01\n",
            "   2.89987815e+01 -3.49041225e+01 -7.65713358e+00  3.96887750e-01]\n",
            " [ 1.88629959e+05 -2.59938857e+04 -3.38305811e+04  6.35618444e+03\n",
            "   5.33339470e+03  7.53481683e+03  5.08250199e+02 -1.27500949e+03\n",
            "  -4.53382216e+03 -1.53541138e+03  1.90550913e+03 -2.35300490e+03]\n",
            " [ 8.69246462e+04 -1.14894303e+04  7.96508042e+03  2.74846663e+03\n",
            "  -3.58730414e+03 -1.05689129e+03  1.52760310e+03  1.27217370e+02\n",
            "   9.96333607e+02  8.12869406e+02  4.43405511e+02 -2.01250777e+02]\n",
            " [ 4.56582771e+04 -5.88725078e+03  1.73811307e+03 -1.06167299e+03\n",
            "  -3.31550914e+01 -1.36828881e+03 -5.37103119e+02  3.93086311e+02\n",
            "   2.98617812e+02  9.31388125e+01 -7.05149513e+02  5.45993597e+02]]\n",
            "Clusters Shape:  (10, 12)\n",
            "Total Number of points in all clusters:  5180\n",
            "Cluster Affiliations:  [6 4 4 ... 4 5 4]\n"
          ]
        }
      ]
    },
    {
      "cell_type": "markdown",
      "source": [
        "# Running KMeans with the reduced dimensions found from PCA on ytest"
      ],
      "metadata": {
        "id": "Ya_Mc_Rw50mb"
      }
    },
    {
      "cell_type": "code",
      "source": [
        "# K Clusters\n",
        "K = 10\n",
        "\n",
        "# Running KMeans on images 10 times and making 10 clusters\n",
        "# Initialization of centroids are done randomly\n",
        "kmeans_ytest = KMeans(n_clusters=K, init='random', n_init=K).fit(ytest)\n",
        "\n",
        "# the cluster centers or centroids\n",
        "clusters_ytest = kmeans_ytest.cluster_centers_\n",
        "\n",
        "# find which points in the sample belong to which cluster\n",
        "cluster_affiliations_ytest = kmeans_ytest.predict(ytest)\n",
        "\n",
        "print('Total Number of Clusters: ', len(clusters_ytest))\n",
        "print('Clusters: ', clusters_ytest)\n",
        "print('Clusters Shape: ', clusters_ytest.shape)\n",
        "\n",
        "print('Total Number of points in all clusters: ', len(cluster_affiliations_ytest))\n",
        "print('Cluster Affiliations: ', cluster_affiliations_ytest)"
      ],
      "metadata": {
        "id": "CiW-imVT7eB8",
        "colab": {
          "base_uri": "https://localhost:8080/"
        },
        "outputId": "20c54aa9-3fde-42ac-b1ba-3b0e0b2e906c"
      },
      "execution_count": null,
      "outputs": [
        {
          "output_type": "stream",
          "name": "stdout",
          "text": [
            "Total Number of Clusters:  10\n",
            "Clusters:  [[ 1.83793499e+04 -2.36975556e+03  1.31855097e+03 -1.56332378e+02\n",
            "   3.01399216e+01 -2.47149169e+02  9.85183172e+01  1.17229109e+02\n",
            "   2.71903748e+02 -8.38079091e+01  7.16258710e+01  1.67368478e+02]\n",
            " [-2.39597555e+03  5.70546131e+02 -1.57360323e+03 -1.64448100e+03\n",
            "   1.27440688e+03 -5.61399357e+02  3.44902007e+02  2.23505170e+02\n",
            "  -8.84614019e+01  1.16827653e+02  9.63049886e+01 -7.10659620e+01]\n",
            " [ 4.02317052e+03  1.07793117e+02 -1.96529723e+03 -2.42637714e+03\n",
            "   1.95775876e+03 -5.50051363e+02  5.41636638e+02  3.73621615e+02\n",
            "  -9.60930092e+01 -7.05902883e+01 -7.16188900e+01  1.15933245e+02]\n",
            " [-1.06586298e+02 -8.29549451e+01  4.64363514e+02  4.21151041e+02\n",
            "  -1.23845909e+02  6.02644169e+01 -7.80360487e+01 -3.31026654e+01\n",
            "   4.95347941e+00 -1.88318449e+01  8.35418146e+00 -7.34732928e+00]\n",
            " [-5.89226029e+03  5.93836281e+02 -1.15303224e+02  3.28288557e+02\n",
            "   3.24139968e+01  1.42287801e+02 -6.10832134e+01 -2.32319101e+01\n",
            "  -1.94788117e+01  3.20203344e+00  3.86750630e+01 -3.56815544e+01]\n",
            " [ 1.01798216e+05 -1.22271608e+04  5.05320415e+03 -8.27772422e+02\n",
            "  -5.48183705e+02 -2.59076860e+03  5.05940167e+02  5.34001058e+02\n",
            "   7.80248525e+02  8.75895078e+02  4.93108212e+02  6.60659177e+02]\n",
            " [ 4.10369321e+04 -4.73932392e+03  1.19795234e+03 -2.11912996e+03\n",
            "   1.43464541e+03 -1.93042488e+02  2.79814505e+01 -5.34177885e+01\n",
            "   3.09423571e+02 -1.36638045e+02 -1.97458643e+01  4.64342774e+02]\n",
            " [-3.40369987e+01 -3.14315472e+02 -5.01293929e+03 -6.22359115e+03\n",
            "  -8.02530786e+03  6.95068774e+02  3.13158033e+02 -5.81373329e+02\n",
            "  -1.53676871e+02 -1.38036641e+02 -2.96781432e+02 -4.75909472e+02]\n",
            " [ 6.77424827e+03 -1.10084113e+03  1.18696143e+03  5.14629002e+02\n",
            "  -3.60389415e+02  5.57900472e+01 -1.60978328e+02 -6.99932255e-01\n",
            "   6.34873961e+01 -8.56833100e+01 -9.18551369e+01 -2.42674762e+01]\n",
            " [-4.68049449e+03  6.74705905e+02 -6.39758375e+02 -3.35364451e+02\n",
            "   3.60846522e+02 -6.74803515e+01  7.28952891e+01  1.07402215e+02\n",
            "  -3.09397073e+01 -3.62067793e+00  1.58673873e+01  3.82998998e+01]]\n",
            "Clusters Shape:  (10, 12)\n",
            "Total Number of points in all clusters:  2221\n",
            "Cluster Affiliations:  [9 4 2 ... 4 4 8]\n"
          ]
        }
      ]
    },
    {
      "cell_type": "markdown",
      "source": [
        "# Evaluating the quality of the clusters"
      ],
      "metadata": {
        "id": "yNvQ2LS8vuye"
      }
    },
    {
      "cell_type": "markdown",
      "source": [
        "## Checking quality of the final cluster using J\n",
        "a) ![Picture1.png](data:image/png;base64,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)"
      ],
      "metadata": {
        "id": "udvqBsr5vykh"
      }
    },
    {
      "cell_type": "code",
      "source": [
        "# N = number of images\n",
        "N = ytrain.shape[0]\n",
        "\n",
        "# initialize sum\n",
        "sum = np.zeros(ytrain.shape[1])\n",
        "\n",
        "# x = image, z = clusters\n",
        "for index, v in enumerate(ytrain):\n",
        "  sum += np.linalg.norm(v - clusters[cluster_affiliations[index]]) ** 2\n",
        "\n",
        "# calculating J\n",
        "J = sum / N\n",
        "\n",
        "# check if all elements in J are same\n",
        "good = np.all(J == J[0])\n",
        "print(J)\n",
        "if good:\n",
        "  print('Quality Good!')"
      ],
      "metadata": {
        "id": "2m_RB3-8v1Ck",
        "colab": {
          "base_uri": "https://localhost:8080/"
        },
        "outputId": "f6b283b3-8350-4dd5-fa5a-b695eafa5c09"
      },
      "execution_count": null,
      "outputs": [
        {
          "output_type": "stream",
          "name": "stdout",
          "text": [
            "[27268205.17969801 27268205.17969801 27268205.17969801 27268205.17969801\n",
            " 27268205.17969801 27268205.17969801 27268205.17969801 27268205.17969801\n",
            " 27268205.17969801 27268205.17969801 27268205.17969801 27268205.17969801]\n",
            "Quality Good!\n"
          ]
        }
      ]
    },
    {
      "cell_type": "markdown",
      "source": [
        "## Checking quality of the final cluster using Davies–Bouldin index\n",
        "\n",
        "b) Davies–Bouldin index\n",
        "![p2.png](data:image/png;base64,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)\n",
        "\n",
        "A lower Davies-Bouldin index relates to a model with better \n",
        "separation between the clusters. This index signifies the \n",
        "average ‘similarity’ between clusters, where the similarity \n",
        "is a measure that compares the distance between clusters with \n",
        "the size of the clusters themselves. Zero is the lowest possible \n",
        "score. Values closer to zero indicate a better partition.\n",
        "\n",
        "Reference: sklearn documentation"
      ],
      "metadata": {
        "id": "hEwYPqotv9cT"
      }
    },
    {
      "cell_type": "code",
      "source": [
        "from sklearn.metrics import davies_bouldin_score\n",
        "\n",
        "db_score = davies_bouldin_score(ytrain.real, cluster_affiliations.real)\n",
        "print('Davies Bouldin Index Score: {}'.format(db_score))"
      ],
      "metadata": {
        "colab": {
          "base_uri": "https://localhost:8080/"
        },
        "id": "vizt-Iysv6ch",
        "outputId": "0d9c3e84-92cb-470f-9e9f-e36931712aec"
      },
      "execution_count": null,
      "outputs": [
        {
          "output_type": "stream",
          "name": "stdout",
          "text": [
            "Davies Bouldin Index Score: 0.9264377149495084\n"
          ]
        }
      ]
    },
    {
      "cell_type": "markdown",
      "source": [
        "## Checking quality of the final cluster using Dunn index\n",
        "c) Dunn index\n",
        "\n",
        "It is calculated as the lowest intercluster distance (ie. the smallest distance \n",
        "between any two cluster centroids) divided by the highest intracluster distance \n",
        "(ie. the largest distance between any two points in any cluster).\n",
        "The higher the value of the Dunn index, the better the aggregation. \n",
        "The number of clusters which maximizes the Dunn index is considered to be the \n",
        "optimal number of clusters k. It also has some drawbacks. As the number of \n",
        "clusters and the dimensionality of the data increase, so does the cost of computation. \n",
        "(Reference: \n",
        "1. https://en.wikipedia.org/wiki/Dunn_index \n",
        "2. https://python.engineering/dunn-index-and-db-index-cluster-validity-indices-set-1/\n",
        "3. https://mayankdw.medium.com/k-means-clustering-and-dunn-index-implementaion-from-scratch-9c66573bfe90)\n"
      ],
      "metadata": {
        "id": "0G5gCgWawIN0"
      }
    },
    {
      "cell_type": "code",
      "source": [
        "import math\n",
        "\n",
        "# find euclidean distance between two points \n",
        "def find_distance(point, cluster_point):\n",
        "    distance = math.sqrt(np.sum(np.power(np.subtract(point, cluster_point), 2))) \n",
        "    return distance\n",
        "\n",
        "# find lowest intercluster distance\n",
        "def get_lowest_intercluster_distance(clusters):\n",
        "  min_intercluster_distance = float('inf')\n",
        "\n",
        "  for index_1, cluster_1 in enumerate(clusters):\n",
        "    for index_2, cluster_2 in enumerate(clusters):\n",
        "      distance = float('inf')\n",
        "      \n",
        "      if index_1 == 0 and index_2 == 1:\n",
        "        distance = find_distance(cluster_1, cluster_2)\n",
        "        min_intercluster_distance = distance\n",
        "      \n",
        "      else:\n",
        "        if np.any(cluster_1 != cluster_2):\n",
        "          distance = find_distance(cluster_1, cluster_2)\n",
        "      \n",
        "        if distance < min_intercluster_distance:\n",
        "          min_intercluster_distance = distance\n",
        "    \n",
        "    return min_intercluster_distance\n",
        "\n",
        "# find highest intracluster distance\n",
        "def get_highest_intracluster_distance(v):\n",
        "  max_intracluster_distance = float('inf')\n",
        "\n",
        "  for index_1, point_1 in enumerate(v):\n",
        "    for index_2, point_2 in enumerate(v):\n",
        "      distance = float('inf')\n",
        "      \n",
        "      if index_1 == 0 and index_2 == 1:\n",
        "        distance = find_distance(point_1, point_2)\n",
        "        max_intracluster_distance = distance\n",
        "      \n",
        "      else:\n",
        "        if np.any(point_1 != point_2):\n",
        "          distance = find_distance(point_1, point_2)\n",
        "      \n",
        "        if distance > max_intracluster_distance:\n",
        "          max_intracluster_distance = distance\n",
        "    \n",
        "    return max_intracluster_distance\n",
        "\n",
        "# find dunn index\n",
        "def dunn_index(ytrain, clusters):\n",
        "  lowest_intercluster_distance = get_lowest_intercluster_distance(clusters)\n",
        "\n",
        "  highest_intracluster_distance = get_highest_intracluster_distance(ytrain)\n",
        "\n",
        "  return lowest_intercluster_distance/highest_intracluster_distance\n",
        "\n",
        "dunn_index_score = dunn_index(ytrain.real, clusters)\n",
        "\n",
        "# Print Dunn Index Score\n",
        "print('Dunn Index Score: {}'.format(dunn_index_score))\n"
      ],
      "metadata": {
        "colab": {
          "base_uri": "https://localhost:8080/"
        },
        "id": "wBHPy_gDwN4a",
        "outputId": "107f9bdd-5d23-4c25-8d3c-87d4b2365af3"
      },
      "execution_count": null,
      "outputs": [
        {
          "output_type": "stream",
          "name": "stdout",
          "text": [
            "Dunn Index Score: 0.01313210304715204\n"
          ]
        }
      ]
    },
    {
      "cell_type": "markdown",
      "source": [
        "# Visualizing the Data"
      ],
      "metadata": {
        "id": "fytFv6LP-PGo"
      }
    },
    {
      "cell_type": "code",
      "source": [
        "import matplotlib.pyplot as plt\n",
        "\n",
        "from mpl_toolkits.mplot3d import Axes3D"
      ],
      "metadata": {
        "id": "35tlOJYa-N1I"
      },
      "execution_count": null,
      "outputs": []
    },
    {
      "cell_type": "markdown",
      "source": [
        "## Visualizing Training Set Data"
      ],
      "metadata": {
        "id": "zGdeCH0z-RtG"
      }
    },
    {
      "cell_type": "code",
      "source": [
        "x = ytrain[:, 0]\n",
        "y = ytrain[:, 1]\n",
        "z = ytrain[:, 2]"
      ],
      "metadata": {
        "id": "TzEnOEWlLoZM"
      },
      "execution_count": null,
      "outputs": []
    },
    {
      "cell_type": "code",
      "source": [
        "fig = plt.figure(figsize=(6, 6))\n",
        "\n",
        "ax = fig.add_subplot(111, projection='3d')\n",
        "\n",
        "ax.scatter(x, y, z)\n",
        "ax.set_title(\"Plot of Reddit Comments Training Dataset of each column (first 3 columns)\")\n",
        "\n",
        "plt.show()"
      ],
      "metadata": {
        "colab": {
          "base_uri": "https://localhost:8080/",
          "height": 357
        },
        "id": "gE_cNEO5LtG0",
        "outputId": "3dab0260-0b3c-4c68-a24a-0e601d50cc2c"
      },
      "execution_count": null,
      "outputs": [
        {
          "output_type": "display_data",
          "data": {
            "image/png": "[encoded data removed]",
            "text/plain": [
              "<Figure size 432x432 with 1 Axes>"
            ]
          },
          "metadata": {
            "needs_background": "light"
          }
        }
      ]
    },
    {
      "cell_type": "markdown",
      "source": [
        "## Visualizing Testing Set Data"
      ],
      "metadata": {
        "id": "HU0oQWzIG3X7"
      }
    },
    {
      "cell_type": "code",
      "source": [
        "x = ytest[:, 0]\n",
        "y = ytest[:, 1]\n",
        "z = ytest[:, 2]"
      ],
      "metadata": {
        "id": "J8xLT7aAG21-"
      },
      "execution_count": null,
      "outputs": []
    },
    {
      "cell_type": "code",
      "source": [
        "fig = plt.figure(figsize=(6, 6))\n",
        "\n",
        "ax = fig.add_subplot(111, projection='3d')\n",
        "\n",
        "ax.scatter(x, y, z)\n",
        "ax.set_title(\"Plot of Audio Testing Dataset of each column (first 3 columns)\")\n",
        "\n",
        "plt.show()"
      ],
      "metadata": {
        "colab": {
          "base_uri": "https://localhost:8080/",
          "height": 357
        },
        "id": "odn3UvRAHAQ7",
        "outputId": "0d2f7fe0-cd0c-4a71-e43d-5ebdb0eaedca"
      },
      "execution_count": null,
      "outputs": [
        {
          "output_type": "display_data",
          "data": {
            "image/png": "[encoded data removed]",
            "text/plain": [
              "<Figure size 432x432 with 1 Axes>"
            ]
          },
          "metadata": {
            "needs_background": "light"
          }
        }
      ]
    },
    {
      "cell_type": "markdown",
      "source": [
        "## Plotting the Clusters found from Kmeans (ytrain)"
      ],
      "metadata": {
        "id": "VIo4BYfmM7yf"
      }
    },
    {
      "cell_type": "code",
      "source": [
        "unique_labels = np.unique(cluster_affiliations)\n",
        " \n",
        "#plotting the results:\n",
        "fig = plt.figure(figsize=(11, 8)) \n",
        "for i in unique_labels:\n",
        "    plt.scatter(ytrain[cluster_affiliations == i , 0] , ytrain[cluster_affiliations == i , 1] , label = i)\n",
        "plt.scatter(clusters[:,0] , clusters[:,1] , s = 80, color = 'k')\n",
        "ax.set_title(\"2D Plot of Clusters found from KMeans (ytest)\")\n",
        "plt.legend()\n",
        "plt.show()"
      ],
      "metadata": {
        "colab": {
          "base_uri": "https://localhost:8080/",
          "height": 483
        },
        "id": "-HGQfC4xM_2V",
        "outputId": "8d3afd0e-d80d-45c4-d90e-389c3dd137bd"
      },
      "execution_count": null,
      "outputs": [
        {
          "output_type": "display_data",
          "data": {
            "image/png": "[encoded data removed]",
            "text/plain": [
              "<Figure size 792x576 with 1 Axes>"
            ]
          },
          "metadata": {
            "needs_background": "light"
          }
        }
      ]
    },
    {
      "cell_type": "markdown",
      "source": [
        "## Plotting the Clusters found from Kmeans (ytest)"
      ],
      "metadata": {
        "id": "fcBdUSzT7WSy"
      }
    },
    {
      "cell_type": "code",
      "source": [
        "unique_labels = np.unique(cluster_affiliations)\n",
        " \n",
        "#plotting the results:\n",
        "fig = plt.figure(figsize=(11, 8)) \n",
        "for i in unique_labels:\n",
        "    plt.scatter(ytest[cluster_affiliations_ytest == i , 0] , ytest[cluster_affiliations_ytest == i , 1] , label = i)\n",
        "ax.set_title(\"2D Plot of Clusters found from KMeans (ytest)\")\n",
        "plt.legend()\n",
        "plt.show()"
      ],
      "metadata": {
        "colab": {
          "base_uri": "https://localhost:8080/",
          "height": 483
        },
        "id": "DKEY_3le7Y_P",
        "outputId": "8c6b3d2b-828c-415b-cb9b-22eaa667ed36"
      },
      "execution_count": null,
      "outputs": [
        {
          "output_type": "display_data",
          "data": {
            "image/png": "[encoded data removed]",
            "text/plain": [
              "<Figure size 792x576 with 1 Axes>"
            ]
          },
          "metadata": {
            "needs_background": "light"
          }
        }
      ]
    },
    {
      "cell_type": "markdown",
      "source": [
        "## 3D Visualization of the Clusters (ytrain)"
      ],
      "metadata": {
        "id": "mJRWW3X9mHf9"
      }
    },
    {
      "cell_type": "code",
      "source": [
        "unique_labels = np.unique(cluster_affiliations)\n",
        "\n",
        "#plotting the results:\n",
        "fig = plt.figure(figsize=(11, 8))\n",
        "ax = fig.add_subplot(111, projection='3d')\n",
        "\n",
        "for i in unique_labels:\n",
        "  ax.scatter(ytrain[cluster_affiliations == i, 0], ytrain[cluster_affiliations == i, 1], ytrain[cluster_affiliations == i, 2], label = i)\n",
        "ax.scatter(clusters[:, 0] , clusters[:, 1], clusters[:,2], s = 80, color = 'k')\n",
        "ax.set_title(\"3D Plot of Clusters found from KMeans (ytrain)\")\n",
        "\n",
        "plt.legend()\n",
        "plt.show()"
      ],
      "metadata": {
        "colab": {
          "base_uri": "https://localhost:8080/",
          "height": 466
        },
        "id": "GFbUNNYfmGng",
        "outputId": "da844503-d6ab-4096-bd29-4f88145aaf69"
      },
      "execution_count": null,
      "outputs": [
        {
          "output_type": "display_data",
          "data": {
            "image/png": "[encoded data removed]",
            "text/plain": [
              "<Figure size 792x576 with 1 Axes>"
            ]
          },
          "metadata": {
            "needs_background": "light"
          }
        }
      ]
    },
    {
      "cell_type": "markdown",
      "source": [
        "## 3D Visualization of the Clusters (ytest)"
      ],
      "metadata": {
        "id": "bek-3r2h4VKu"
      }
    },
    {
      "cell_type": "code",
      "source": [
        "unique_labels = np.unique(cluster_affiliations_ytest)\n",
        "\n",
        "#plotting the results:\n",
        "fig = plt.figure(figsize=(11, 8))\n",
        "ax = fig.add_subplot(111, projection='3d')\n",
        "\n",
        "for i in unique_labels:\n",
        "    ax.scatter(ytest[cluster_affiliations_ytest == i, 0], ytest[cluster_affiliations_ytest == i, 1], ytest[cluster_affiliations_ytest == i, 2], label = i)\n",
        "ax.scatter(clusters_ytest[:, 0] , clusters_ytest[:, 1], clusters_ytest[:,2], s = 80, color = 'k')\n",
        "ax.set_title(\"3D Plot of Clusters found from KMeans (ytest)\")\n",
        "\n",
        "plt.legend()\n",
        "plt.show()"
      ],
      "metadata": {
        "colab": {
          "base_uri": "https://localhost:8080/",
          "height": 466
        },
        "id": "iKkHegJn4arp",
        "outputId": "064f95bf-74d5-428e-c014-5341be7e2398"
      },
      "execution_count": null,
      "outputs": [
        {
          "output_type": "display_data",
          "data": {
            "image/png": "[encoded data removed]",
            "text/plain": [
              "<Figure size 792x576 with 1 Axes>"
            ]
          },
          "metadata": {
            "needs_background": "light"
          }
        }
      ]
    },
    {
      "cell_type": "markdown",
      "source": [
        "# Performing SVM"
      ],
      "metadata": {
        "id": "9t1iZ2a5_BHv"
      }
    },
    {
      "cell_type": "markdown",
      "source": [
        "## Performing SVM on original datasets"
      ],
      "metadata": {
        "id": "Dbn1uV9qFSb6"
      }
    },
    {
      "cell_type": "code",
      "source": [
        "from sklearn import svm"
      ],
      "metadata": {
        "id": "XWwA4bnfBcc2"
      },
      "execution_count": null,
      "outputs": []
    },
    {
      "cell_type": "code",
      "source": [
        "#Create a svm Classifier\n",
        "clf = svm.SVC(kernel='rbf')\n",
        "\n",
        "print('Start Time for SVM on Reddit Comments dataset - original dataset - full dataset')\n",
        "start_time = time.time()\n",
        "\n",
        "#Train the model using the training sets\n",
        "clf.fit(training_set, training_labels)\n",
        "\n",
        "#Predict the response for test dataset\n",
        "y_pred = clf.predict(testing_set)\n",
        "\n",
        "print('End Time for SVM on Reddit Comments dataset - original dataset - full dataset')\n",
        "print(\"--- %s seconds ---\" % (time.time() - start_time))"
      ],
      "metadata": {
        "id": "ljN5gpRtBaeX",
        "colab": {
          "base_uri": "https://localhost:8080/"
        },
        "outputId": "1e8cf7b9-7a75-4da6-e27d-0a8a8708b083"
      },
      "execution_count": null,
      "outputs": [
        {
          "output_type": "stream",
          "name": "stdout",
          "text": [
            "Start Time for SVM on Reddit Comments dataset - original dataset - full dataset\n"
          ]
        }
      ]
    },
    {
      "cell_type": "markdown",
      "source": [
        "### Calculating Accuracy Score of original datasets"
      ],
      "metadata": {
        "id": "UsCD_tf-Q28k"
      }
    },
    {
      "cell_type": "code",
      "source": [
        "#Import scikit-learn metrics module for accuracy calculation\n",
        "from sklearn import metrics\n",
        "\n",
        "# Model Accuracy: how often is the classifier correct?\n",
        "print(\"Accuracy:\", metrics.accuracy_score(testing_labels, y_pred, normalize=True))"
      ],
      "metadata": {
        "id": "Pi8Vq7K0GAFd",
        "colab": {
          "base_uri": "https://localhost:8080/"
        },
        "outputId": "5fad2cd7-122b-4e78-9c7b-93b4f619913c"
      },
      "execution_count": null,
      "outputs": [
        {
          "output_type": "stream",
          "name": "stdout",
          "text": [
            "Accuracy: 0.09652683806946324\n"
          ]
        }
      ]
    },
    {
      "cell_type": "markdown",
      "source": [
        "### Calculating F-1 Score of original datasets"
      ],
      "metadata": {
        "id": "qxqMWEDtPT2x"
      }
    },
    {
      "cell_type": "code",
      "source": [
        "print(\"Precision:\", metrics.f1_score(testing_labels, y_pred, average='macro'))"
      ],
      "metadata": {
        "colab": {
          "base_uri": "https://localhost:8080/"
        },
        "id": "N7S5B7zgNv7c",
        "outputId": "bdda19c9-2eb1-47e4-b333-4f1a2fcaeb03"
      },
      "execution_count": null,
      "outputs": [
        {
          "output_type": "stream",
          "name": "stdout",
          "text": [
            "Precision: 0.0033762590823903566\n"
          ]
        }
      ]
    },
    {
      "cell_type": "markdown",
      "source": [
        "## Performing SVM on the reduced datasets"
      ],
      "metadata": {
        "id": "Jg8jrzp7Wgio"
      }
    },
    {
      "cell_type": "code",
      "source": [
        "print('Start Time for SVM on Reddit Comments dataset - reduced dataset')\n",
        "start_time = time.time()\n",
        "\n",
        "#Create a svm Classifier\n",
        "clf = svm.SVC(kernel='rbf')\n",
        "\n",
        "#Train the model using the training sets\n",
        "clf.fit(ytrain.real, training_labels)\n",
        "\n",
        "#Predict the response for test dataset\n",
        "y_pred = clf.predict(ytest.real)\n",
        "\n",
        "print('End Time for SVM on Reddit Comments dataset - reduced dataset')\n",
        "print(\"--- %s seconds ---\" % (time.time() - start_time))"
      ],
      "metadata": {
        "colab": {
          "base_uri": "https://localhost:8080/"
        },
        "id": "4ND6X1KdWee-",
        "outputId": "f729fad7-53a9-446a-fcfc-1bc87dc028a0"
      },
      "execution_count": null,
      "outputs": [
        {
          "output_type": "stream",
          "name": "stdout",
          "text": [
            "Start Time for SVM on Reddit Comments dataset - reduced dataset\n",
            "End Time for SVM on Reddit Comments dataset - reduced dataset\n",
            "--- 60.57840061187744 seconds ---\n"
          ]
        }
      ]
    },
    {
      "cell_type": "markdown",
      "source": [
        "### Calculating Accuracy Score of reduced datasets"
      ],
      "metadata": {
        "id": "Y-yqmIxRCqHY"
      }
    },
    {
      "cell_type": "code",
      "source": [
        "#Import scikit-learn metrics module for accuracy calculation\n",
        "from sklearn import metrics\n",
        "\n",
        "# Model Accuracy: how often is the classifier correct?\n",
        "print(\"Accuracy:\", metrics.accuracy_score(testing_labels, y_pred, normalize=True))"
      ],
      "metadata": {
        "colab": {
          "base_uri": "https://localhost:8080/"
        },
        "outputId": "8656a7fd-0c04-432f-9a9c-d175746039d2",
        "id": "jSxv825fCqHY"
      },
      "execution_count": null,
      "outputs": [
        {
          "output_type": "stream",
          "name": "stdout",
          "text": [
            "Accuracy: 0.07969383160738407\n"
          ]
        }
      ]
    },
    {
      "cell_type": "markdown",
      "source": [
        "### Calculating F-1 Score of reduced datasets"
      ],
      "metadata": {
        "id": "AOUqPcI9CqHY"
      }
    },
    {
      "cell_type": "code",
      "source": [
        "print(\"Precision:\", metrics.f1_score(testing_labels, y_pred, average='macro'))"
      ],
      "metadata": {
        "colab": {
          "base_uri": "https://localhost:8080/"
        },
        "outputId": "beab57e2-1ffc-4b70-abd6-9ed2b7cf9992",
        "id": "Cqg37xV2CqHZ"
      },
      "execution_count": null,
      "outputs": [
        {
          "output_type": "stream",
          "name": "stdout",
          "text": [
            "Precision: 0.00017908635604795873\n"
          ]
        }
      ]
    },
    {
      "cell_type": "markdown",
      "source": [
        "# Writing training and testing sets and labels to file"
      ],
      "metadata": {
        "id": "Ms64c1F8nrM-"
      }
    },
    {
      "cell_type": "code",
      "source": [
        "path = '/content/drive/MyDrive/Final_Project/reddit_comments_dataset/'\n",
        "\n",
        "os.chdir(path)\n",
        "\n",
        "training_set_file = 'training_set.txt'\n",
        "training_label_file = 'training_label.txt'\n",
        "testing_set_file = 'testing_set.txt'\n",
        "testing_label_file = 'testing_label.txt'\n",
        "\n",
        "fp = open(training_set_file, 'w')\n",
        "\n",
        "for data in training_set:\n",
        "  for d in data:\n",
        "    fp.write(\"%i,\" % d)\n",
        "  fp.write(\"\\n\")\n",
        "\n",
        "fp.close()"
      ],
      "metadata": {
        "id": "DVRHEIodnp-G"
      },
      "execution_count": null,
      "outputs": []
    },
    {
      "cell_type": "code",
      "source": [
        "fp = open(training_label_file, 'w')\n",
        "\n",
        "for data in training_labels:\n",
        "  fp.write(\"%s\\n\" % data)\n",
        "\n",
        "fp.close()"
      ],
      "metadata": {
        "id": "PQP8QRWhpZjS"
      },
      "execution_count": null,
      "outputs": []
    },
    {
      "cell_type": "code",
      "source": [
        "fp = open(testing_set_file, 'w')\n",
        "\n",
        "for data in testing_set:\n",
        "  for d in data:\n",
        "    fp.write(\"%i,\" % d)\n",
        "  fp.write(\"\\n\")\n",
        "\n",
        "fp.close()"
      ],
      "metadata": {
        "id": "qDIGDiHiyF_A"
      },
      "execution_count": null,
      "outputs": []
    },
    {
      "cell_type": "code",
      "source": [
        "fp = open(testing_label_file, 'w')\n",
        "\n",
        "for data in testing_labels:\n",
        "  fp.write(\"%s\\n\" % data)\n",
        "\n",
        "fp.close()"
      ],
      "metadata": {
        "id": "tZc8WIsqyJY2"
      },
      "execution_count": null,
      "outputs": []
    }
  ]
}